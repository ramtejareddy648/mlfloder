{
 "cells": [
  {
   "cell_type": "code",
   "execution_count": 1,
   "metadata": {},
   "outputs": [
    {
     "name": "stdout",
     "output_type": "stream",
     "text": [
      "Requirement already satisfied: numpy in c:\\users\\dell\\documents\\code\\myenv\\lib\\site-packages (2.2.1)\n"
     ]
    },
    {
     "name": "stderr",
     "output_type": "stream",
     "text": [
      "\n",
      "[notice] A new release of pip is available: 24.2 -> 25.0\n",
      "[notice] To update, run: python.exe -m pip install --upgrade pip\n"
     ]
    }
   ],
   "source": [
    "! pip install numpy\n"
   ]
  },
  {
   "cell_type": "code",
   "execution_count": 2,
   "metadata": {},
   "outputs": [
    {
     "name": "stdout",
     "output_type": "stream",
     "text": [
      "[1 2 3 4]\n"
     ]
    }
   ],
   "source": [
    "import numpy as np\n",
    "\n",
    "list=np.array([1,2,3,4])\n",
    "print(list)"
   ]
  },
  {
   "cell_type": "code",
   "execution_count": 9,
   "metadata": {},
   "outputs": [
    {
     "name": "stdout",
     "output_type": "stream",
     "text": [
      "<class 'numpy.ndarray'>\n",
      "(4,)\n",
      "[[1]\n",
      " [2]\n",
      " [3]\n",
      " [4]]\n"
     ]
    }
   ],
   "source": [
    "print(type(list))\n",
    "print(list.shape)\n",
    "print(list.reshape(4,1))"
   ]
  },
  {
   "cell_type": "code",
   "execution_count": 10,
   "metadata": {},
   "outputs": [
    {
     "name": "stdout",
     "output_type": "stream",
     "text": [
      "[[1 2 3 4]\n",
      " [5 6 7 8]]\n",
      "(2, 4)\n"
     ]
    }
   ],
   "source": [
    "list1=np.array([[1,2,3,4],[5,6,7,8]])\n",
    "print(list1)\n",
    "print(list1.shape)\n"
   ]
  },
  {
   "cell_type": "code",
   "execution_count": 18,
   "metadata": {},
   "outputs": [
    {
     "name": "stdout",
     "output_type": "stream",
     "text": [
      "[[ 1  2  3  4  5]\n",
      " [ 6  7  8  9 10]]\n"
     ]
    }
   ],
   "source": [
    "list2=np.arange(1,11).reshape(2,5)\n",
    "print(list2)"
   ]
  },
  {
   "cell_type": "code",
   "execution_count": 19,
   "metadata": {},
   "outputs": [
    {
     "data": {
      "text/plain": [
       "array([[1., 1., 1., 1.],\n",
       "       [1., 1., 1., 1.],\n",
       "       [1., 1., 1., 1.]])"
      ]
     },
     "execution_count": 19,
     "metadata": {},
     "output_type": "execute_result"
    }
   ],
   "source": [
    "np.ones((3,4))"
   ]
  },
  {
   "cell_type": "code",
   "execution_count": 20,
   "metadata": {},
   "outputs": [
    {
     "data": {
      "text/plain": [
       "array([[1., 0., 0.],\n",
       "       [0., 1., 0.],\n",
       "       [0., 0., 1.]])"
      ]
     },
     "execution_count": 20,
     "metadata": {},
     "output_type": "execute_result"
    }
   ],
   "source": [
    "## identity matrix\n",
    "\n",
    "np.eye(3,3)"
   ]
  },
  {
   "cell_type": "code",
   "execution_count": 22,
   "metadata": {},
   "outputs": [
    {
     "name": "stdout",
     "output_type": "stream",
     "text": [
      "2\n",
      "int64\n"
     ]
    }
   ],
   "source": [
    "print(list1.ndim)\n",
    "print(list1.dtype)"
   ]
  },
  {
   "cell_type": "code",
   "execution_count": 26,
   "metadata": {},
   "outputs": [
    {
     "name": "stdout",
     "output_type": "stream",
     "text": [
      "addtion of two list is [ 3  5 59 71 70]\n",
      "sub of two list is [ -1  -1 -53 -63 -60]\n",
      "mult of two list is [  2   6 168 268 325]\n",
      "div of two list is [0.5        0.66666667 0.05357143 0.05970149 0.07692308]\n"
     ]
    }
   ],
   "source": [
    "arry=np.array([1,2,3,4,5])\n",
    "arry1=np.array([2,3,56,67,65])\n",
    "\n",
    "print(f\"addtion of two list is {arry+arry1}\")\n",
    "print(f\"sub of two list is {arry-arry1}\")\n",
    "print(f\"mult of two list is {arry*arry1}\")\n",
    "print(f\"div of two list is {arry/arry1}\")\n"
   ]
  },
  {
   "cell_type": "code",
   "execution_count": 27,
   "metadata": {},
   "outputs": [
    {
     "data": {
      "text/plain": [
       "array([[1.        , 1.41421356, 1.73205081, 2.        ],\n",
       "       [2.23606798, 2.44948974, 2.64575131, 2.82842712]])"
      ]
     },
     "execution_count": 27,
     "metadata": {},
     "output_type": "execute_result"
    }
   ],
   "source": [
    "np.sqrt(list1)"
   ]
  },
  {
   "cell_type": "code",
   "execution_count": 28,
   "metadata": {},
   "outputs": [
    {
     "name": "stdout",
     "output_type": "stream",
     "text": [
      "[[1 2 3]\n",
      " [4 5 6]\n",
      " [7 8 9]]\n"
     ]
    }
   ],
   "source": [
    "muitarry=np.array([[1,2,3],[4,5,6],[7,8,9]])\n",
    "print(muitarry)"
   ]
  },
  {
   "cell_type": "code",
   "execution_count": 34,
   "metadata": {},
   "outputs": [
    {
     "name": "stdout",
     "output_type": "stream",
     "text": [
      "2\n",
      "2\n",
      "[[5 6]\n",
      " [8 9]]\n",
      "[[4 5 6]\n",
      " [7 8 9]]\n"
     ]
    }
   ],
   "source": [
    "print(muitarry[0][1])##both are same\n",
    "print(muitarry[0,1])\n",
    "\n",
    "\n",
    "print(muitarry[1:,1:])\n",
    "print(muitarry[1:][0:])"
   ]
  },
  {
   "cell_type": "code",
   "execution_count": 35,
   "metadata": {},
   "outputs": [
    {
     "name": "stdout",
     "output_type": "stream",
     "text": [
      "[1 2 3 4]\n"
     ]
    }
   ],
   "source": [
    "print(list)"
   ]
  },
  {
   "cell_type": "code",
   "execution_count": 42,
   "metadata": {},
   "outputs": [
    {
     "name": "stdout",
     "output_type": "stream",
     "text": [
      "2.5\n",
      "1.118033988749895\n",
      "2.5\n",
      "normalized is [-1.34164079 -0.4472136   0.4472136   1.34164079]\n",
      "variance 1.25\n"
     ]
    }
   ],
   "source": [
    "print(np.mean(list))\n",
    "print(np.std(list))\n",
    "print(np.median(list))\n",
    "mean=np.mean(list)\n",
    "std=np.std(list)\n",
    "normlizied=(list-mean)/std\n",
    "print(f'normalized is {normlizied}')\n",
    "print(f'variance {np.var(list)}')\n"
   ]
  },
  {
   "cell_type": "code",
   "execution_count": 43,
   "metadata": {},
   "outputs": [
    {
     "data": {
      "text/plain": [
       "array([3, 4, 5, 6])"
      ]
     },
     "execution_count": 43,
     "metadata": {},
     "output_type": "execute_result"
    }
   ],
   "source": [
    "list2[(list2>2) & (list2<7)]"
   ]
  },
  {
   "cell_type": "code",
   "execution_count": 44,
   "metadata": {},
   "outputs": [
    {
     "name": "stdout",
     "output_type": "stream",
     "text": [
      "[[ 1  2  3  4  5]\n",
      " [ 6  7  8  9 10]]\n"
     ]
    }
   ],
   "source": [
    "print(list2)"
   ]
  },
  {
   "cell_type": "code",
   "execution_count": 6,
   "metadata": {},
   "outputs": [
    {
     "name": "stdout",
     "output_type": "stream",
     "text": [
      "[[6. 6. 6.]\n",
      " [6. 6. 6.]]\n"
     ]
    }
   ],
   "source": [
    "d=np.full((2,3),6, dtype=\"float\")\n",
    "print(d)"
   ]
  },
  {
   "cell_type": "code",
   "execution_count": 10,
   "metadata": {},
   "outputs": [
    {
     "name": "stdout",
     "output_type": "stream",
     "text": [
      "[[6.+0.j 6.+0.j 6.+0.j]\n",
      " [6.+0.j 6.+0.j 6.+0.j]]\n"
     ]
    }
   ],
   "source": [
    "d=np.full((2,3),6, dtype=\"complex\",)\n",
    "print(d)"
   ]
  },
  {
   "cell_type": "code",
   "execution_count": 12,
   "metadata": {},
   "outputs": [
    {
     "name": "stdout",
     "output_type": "stream",
     "text": [
      "[ 1.          1.47368421  1.94736842  2.42105263  2.89473684  3.36842105\n",
      "  3.84210526  4.31578947  4.78947368  5.26315789  5.73684211  6.21052632\n",
      "  6.68421053  7.15789474  7.63157895  8.10526316  8.57894737  9.05263158\n",
      "  9.52631579 10.        ]\n"
     ]
    }
   ],
   "source": [
    "l=np.linspace(1,10,20)\n",
    "print(l)"
   ]
  },
  {
   "cell_type": "code",
   "execution_count": 16,
   "metadata": {},
   "outputs": [
    {
     "name": "stdout",
     "output_type": "stream",
     "text": [
      "[[1 2 3 4]\n",
      " [5 6 7 8]]\n",
      "[1 2 3 4 5 6 7 8]\n",
      "[[1 2 3 4]\n",
      " [5 6 7 8]]\n"
     ]
    }
   ],
   "source": [
    "arr=np.array([[1,2,3,4],[5,6,7,8]])\n",
    "print(arr)\n",
    "print(arr.flatten())\n",
    "print(arr)"
   ]
  },
  {
   "cell_type": "code",
   "execution_count": 14,
   "metadata": {},
   "outputs": [],
   "source": [
    "arr=arr[arr>2]"
   ]
  },
  {
   "cell_type": "code",
   "execution_count": 15,
   "metadata": {},
   "outputs": [
    {
     "name": "stdout",
     "output_type": "stream",
     "text": [
      "[3 4 5 6 7 8]\n"
     ]
    }
   ],
   "source": [
    "print(arr)"
   ]
  },
  {
   "cell_type": "code",
   "execution_count": 17,
   "metadata": {},
   "outputs": [
    {
     "name": "stdout",
     "output_type": "stream",
     "text": [
      "[[1 2 3 4]\n",
      " [5 6 7 8]]\n"
     ]
    }
   ],
   "source": [
    "a=np.array([[1,2,3,4],[5,6,7,8]])\n",
    "print(a)"
   ]
  },
  {
   "cell_type": "code",
   "execution_count": 19,
   "metadata": {},
   "outputs": [
    {
     "name": "stdout",
     "output_type": "stream",
     "text": [
      "transpose of matrix \n",
      " [[1 5]\n",
      " [2 6]\n",
      " [3 7]\n",
      " [4 8]]\n"
     ]
    }
   ],
   "source": [
    "print(f\"transpose of matrix \\n {a.T}\")"
   ]
  },
  {
   "cell_type": "code",
   "execution_count": null,
   "metadata": {},
   "outputs": [],
   "source": [
    "import numpy as np\n",
    "\n",
    "\n",
    "arry=np.random.randint(1,21,size=(5,5)) #### here print random numbers 1,20 with array size 5,5"
   ]
  },
  {
   "cell_type": "code",
   "execution_count": 3,
   "metadata": {},
   "outputs": [
    {
     "data": {
      "text/plain": [
       "array([[ 1,  6,  4,  4, 10],\n",
       "       [ 3, 18,  6, 18,  3],\n",
       "       [11, 19,  9,  9, 14],\n",
       "       [17, 20,  4,  8,  9],\n",
       "       [20, 10, 12, 11,  6]], dtype=int32)"
      ]
     },
     "execution_count": 3,
     "metadata": {},
     "output_type": "execute_result"
    }
   ],
   "source": [
    "arry"
   ]
  },
  {
   "cell_type": "code",
   "execution_count": 4,
   "metadata": {},
   "outputs": [],
   "source": [
    "arry[:,2:3]=1 ####here making 3rd coloumn of every row =1"
   ]
  },
  {
   "cell_type": "code",
   "execution_count": 5,
   "metadata": {},
   "outputs": [
    {
     "data": {
      "text/plain": [
       "array([[ 1,  6,  1,  4, 10],\n",
       "       [ 3, 18,  1, 18,  3],\n",
       "       [11, 19,  1,  9, 14],\n",
       "       [17, 20,  1,  8,  9],\n",
       "       [20, 10,  1, 11,  6]], dtype=int32)"
      ]
     },
     "execution_count": 5,
     "metadata": {},
     "output_type": "execute_result"
    }
   ],
   "source": [
    "arry"
   ]
  },
  {
   "cell_type": "code",
   "execution_count": 6,
   "metadata": {},
   "outputs": [],
   "source": [
    "arr=np.random.randint(1,17,size=(4,4))"
   ]
  },
  {
   "cell_type": "code",
   "execution_count": 7,
   "metadata": {},
   "outputs": [
    {
     "data": {
      "text/plain": [
       "array([[10,  5, 16,  5],\n",
       "       [10,  2, 10, 15],\n",
       "       [ 6, 11, 13, 12],\n",
       "       [14,  5,  1, 11]], dtype=int32)"
      ]
     },
     "execution_count": 7,
     "metadata": {},
     "output_type": "execute_result"
    }
   ],
   "source": [
    "arr ###oringal array"
   ]
  },
  {
   "cell_type": "code",
   "execution_count": 8,
   "metadata": {},
   "outputs": [],
   "source": [
    "### here we are modifying arry \n",
    "\n",
    "#### make diagonal elements 0\n",
    "\n",
    "np.fill_diagonal(arr,0)"
   ]
  },
  {
   "cell_type": "code",
   "execution_count": 9,
   "metadata": {},
   "outputs": [
    {
     "data": {
      "text/plain": [
       "array([[ 0,  5, 16,  5],\n",
       "       [10,  0, 10, 15],\n",
       "       [ 6, 11,  0, 12],\n",
       "       [14,  5,  1,  0]], dtype=int32)"
      ]
     },
     "execution_count": 9,
     "metadata": {},
     "output_type": "execute_result"
    }
   ],
   "source": [
    "arr #### modifyied array"
   ]
  },
  {
   "cell_type": "code",
   "execution_count": 10,
   "metadata": {},
   "outputs": [
    {
     "data": {
      "text/plain": [
       "array([[ 3, 20, 33, 32, 21, 19],\n",
       "       [19, 12,  8, 32, 13, 18],\n",
       "       [34, 33, 21, 33, 17,  3],\n",
       "       [ 5,  7, 27,  3, 27,  2],\n",
       "       [36, 21,  3, 33,  3, 31],\n",
       "       [33, 33,  7, 23, 17,  3]], dtype=int32)"
      ]
     },
     "execution_count": 10,
     "metadata": {},
     "output_type": "execute_result"
    }
   ],
   "source": [
    "arry1=np.random.randint(1,37,size=(6,6))\n",
    "arry1"
   ]
  },
  {
   "cell_type": "code",
   "execution_count": 11,
   "metadata": {},
   "outputs": [],
   "source": [
    "arry2=arry1[2:5,1:4] ####here we create sub arry from above arry"
   ]
  },
  {
   "cell_type": "code",
   "execution_count": 12,
   "metadata": {},
   "outputs": [
    {
     "data": {
      "text/plain": [
       "array([[33, 21, 33],\n",
       "       [ 7, 27,  3],\n",
       "       [21,  3, 33]], dtype=int32)"
      ]
     },
     "execution_count": 12,
     "metadata": {},
     "output_type": "execute_result"
    }
   ],
   "source": [
    "arry2 ###this sub array"
   ]
  },
  {
   "cell_type": "code",
   "execution_count": 14,
   "metadata": {},
   "outputs": [
    {
     "data": {
      "text/plain": [
       "array([[24,  3,  7, 24, 13],\n",
       "       [ 7, 15,  3,  1,  9],\n",
       "       [20,  3,  6,  6, 10],\n",
       "       [23, 22, 17, 13,  1],\n",
       "       [19, 23,  4, 14,  1]], dtype=int32)"
      ]
     },
     "execution_count": 14,
     "metadata": {},
     "output_type": "execute_result"
    }
   ],
   "source": [
    "arry=np.random.randint(1,25,size=(5,5))\n",
    "arry"
   ]
  },
  {
   "cell_type": "code",
   "execution_count": 16,
   "metadata": {},
   "outputs": [
    {
     "data": {
      "text/plain": [
       "array([24,  3,  7, 24, 13, 19, 23,  4, 14,  1,  7, 20, 23, 15,  3, 22],\n",
       "      dtype=int32)"
      ]
     },
     "execution_count": 16,
     "metadata": {},
     "output_type": "execute_result"
    }
   ],
   "source": [
    "sub=np.concatenate((arry[0,:],arry[-1,:],arry[1:-1,0],arry[1:-1,1]))\n",
    "sub"
   ]
  },
  {
   "cell_type": "code",
   "execution_count": 17,
   "metadata": {},
   "outputs": [],
   "source": [
    "arry1=np.random.randint(1,20,size=(3,4))\n",
    "arry2=np.random.randint(1,20,size=(3,4))\n"
   ]
  },
  {
   "cell_type": "code",
   "execution_count": 18,
   "metadata": {},
   "outputs": [
    {
     "data": {
      "text/plain": [
       "array([[ 2,  2, 15, 12],\n",
       "       [ 6,  8,  3, 13],\n",
       "       [ 8,  3, 16, 14]], dtype=int32)"
      ]
     },
     "execution_count": 18,
     "metadata": {},
     "output_type": "execute_result"
    }
   ],
   "source": [
    "arry1"
   ]
  },
  {
   "cell_type": "code",
   "execution_count": 19,
   "metadata": {},
   "outputs": [
    {
     "data": {
      "text/plain": [
       "array([[17,  4, 13, 11],\n",
       "       [12,  8,  7,  6],\n",
       "       [ 2, 11, 17, 18]], dtype=int32)"
      ]
     },
     "execution_count": 19,
     "metadata": {},
     "output_type": "execute_result"
    }
   ],
   "source": [
    "arry2"
   ]
  },
  {
   "cell_type": "code",
   "execution_count": 30,
   "metadata": {},
   "outputs": [
    {
     "name": "stdout",
     "output_type": "stream",
     "text": [
      "addition of two arry is \n",
      "[[19  6 28 23]\n",
      " [18 16 10 19]\n",
      " [10 14 33 32]]\n",
      "sub of two arry is \n",
      "[[-15  -2   2   1]\n",
      " [ -6   0  -4   7]\n",
      " [  6  -8  -1  -4]]\n",
      "div of two arry is \n",
      "[[0.11764706 0.5        1.15384615 1.09090909]\n",
      " [0.5        1.         0.42857143 2.16666667]\n",
      " [4.         0.27272727 0.94117647 0.77777778]]\n",
      "mult of two arry is \n",
      "[[ 34   8 195 132]\n",
      " [ 72  64  21  78]\n",
      " [ 16  33 272 252]]\n",
      "transpose of matrix arry1 is \n",
      "[[ 2  6  8]\n",
      " [ 2  8  3]\n",
      " [15  3 16]\n",
      " [12 13 14]]\n",
      "transpose of matrix arry2 is \n",
      "[[17 12  2]\n",
      " [ 4  8 11]\n",
      " [13  7 17]\n",
      " [11  6 18]]\n",
      "[[17  5  1]\n",
      " [14 15 18]\n",
      " [10 17  6]\n",
      " [ 7  8  1]]\n",
      "matrix multplication of matrix  is \n",
      "[[296 391 140]\n",
      " [335 305 181]\n",
      " [436 469 172]]\n"
     ]
    }
   ],
   "source": [
    "print(f\"addition of two arry is \\n{arry1+arry2}\")\n",
    "print(f\"sub of two arry is \\n{arry1-arry2}\")\n",
    "print(f\"div of two arry is \\n{arry1/arry2}\")\n",
    "print(f\"mult of two arry is \\n{arry1*arry2}\")\n",
    "print(f\"transpose of matrix arry1 is \\n{arry1.T}\")\n",
    "print(f\"transpose of matrix arry2 is \\n{arry2.T}\")\n",
    "arry3=np.random.randint(1,20,size=(4,3))\n",
    "print(arry3)\n",
    "print(f\"matrix multplication of matrix  is \\n{arry1.dot(arry3)}\")"
   ]
  },
  {
   "cell_type": "code",
   "execution_count": 31,
   "metadata": {},
   "outputs": [
    {
     "name": "stdout",
     "output_type": "stream",
     "text": [
      "original matrix is [[4 4]\n",
      " [2 4]]\n",
      "row sum is [8 6]\n",
      "column sum is [6 8]\n"
     ]
    }
   ],
   "source": [
    "#### here we are doing row wise and column wise sum\n",
    "\n",
    "arry1=np.random.randint(1,5,size=(2,2))\n",
    "\n",
    "print(f\"original matrix is {arry1}\")\n",
    "\n",
    "row=np.sum(arry1,axis=1)\n",
    "column=np.sum(arry1,axis=0)\n",
    "\n",
    "print(f\"row sum is {row}\")\n",
    "print(f\"column sum is {column}\")"
   ]
  },
  {
   "cell_type": "code",
   "execution_count": 32,
   "metadata": {},
   "outputs": [
    {
     "name": "stdout",
     "output_type": "stream",
     "text": [
      "Original array:\n",
      "[[4 8 9]\n",
      " [9 4 5]\n",
      " [5 9 2]]\n",
      "1D array:\n",
      "[10  6  1]\n",
      "Resulting array:\n",
      "[[14 14 10]\n",
      " [19 10  6]\n",
      " [15 15  3]]\n"
     ]
    }
   ],
   "source": [
    "array = np.random.randint(1, 11, size=(3, 3))\n",
    "row_array = np.random.randint(1, 11, size=(3,))\n",
    "print(\"Original array:\")\n",
    "print(array)\n",
    "print(\"1D array:\")\n",
    "print(row_array)\n",
    "\n",
    "# Add the 1D array to each row of the 2D array using broadcasting\n",
    "result = array + row_array\n",
    "print(\"Resulting array:\")\n",
    "print(result)"
   ]
  },
  {
   "cell_type": "code",
   "execution_count": 33,
   "metadata": {},
   "outputs": [
    {
     "name": "stdout",
     "output_type": "stream",
     "text": [
      "Original array:\n",
      "[[3 3 9 5]\n",
      " [7 6 5 6]\n",
      " [7 8 3 4]\n",
      " [8 1 9 4]]\n",
      "1D array:\n",
      "[4 3 2 4]\n",
      "Resulting array:\n",
      "[[-1 -1  5  1]\n",
      " [ 4  3  2  3]\n",
      " [ 5  6  1  2]\n",
      " [ 4 -3  5  0]]\n"
     ]
    }
   ],
   "source": [
    "array = np.random.randint(1, 11, size=(4, 4))\n",
    "column_array = np.random.randint(1, 11, size=(4,))\n",
    "print(\"Original array:\")\n",
    "print(array)\n",
    "print(\"1D array:\")\n",
    "print(column_array)\n",
    "\n",
    "# Subtract the 1D array from each column of the 2D array using broadcasting\n",
    "result = array - column_array[:, np.newaxis]\n",
    "print(\"Resulting array:\")\n",
    "print(result)"
   ]
  },
  {
   "cell_type": "code",
   "execution_count": 36,
   "metadata": {},
   "outputs": [
    {
     "name": "stdout",
     "output_type": "stream",
     "text": [
      "original arry is \n",
      " [[2 1 1]\n",
      " [4 3 2]\n",
      " [3 3 1]]\n",
      "determinte of matrix is -0.9999999999999996\n",
      "inverse of matrix is [[ 3.00000000e+00 -2.00000000e+00  1.00000000e+00]\n",
      " [-2.00000000e+00  1.00000000e+00 -2.96059473e-16]\n",
      " [-3.00000000e+00  3.00000000e+00 -2.00000000e+00]]\n",
      "eigan of matrix is [ 6.29257994  0.2783488  -0.57092874]\n"
     ]
    }
   ],
   "source": [
    "arry=np.random.randint(1,5,size=(3,3))\n",
    "print(f\"original arry is \\n {arry}\")\n",
    "\n",
    "\n",
    "det=np.linalg.det(arry)\n",
    "inv=np.linalg.inv(arry)\n",
    "ign=np.linalg.eigvals(arry)\n",
    "\n",
    "print(f\"determinte of matrix is {det}\")\n",
    "print(f\"inverse of matrix is {inv}\")\n",
    "print(f\"eigan of matrix is {ign}\")"
   ]
  },
  {
   "cell_type": "code",
   "execution_count": 3,
   "metadata": {},
   "outputs": [
    {
     "name": "stdout",
     "output_type": "stream",
     "text": [
      "[[ 5 15  1]\n",
      " [ 1  2 10]\n",
      " [ 6 11 13]]\n",
      "[[10 15 10]\n",
      " [10 10 10]\n",
      " [10 11 13]]\n"
     ]
    }
   ],
   "source": [
    "import numpy as np\n",
    "\n",
    "arry=np.random.randint(1,20,size=(3,3))\n",
    "print(arry)\n",
    "\n",
    "arry[arry<10]=10\n",
    "print(arry)"
   ]
  },
  {
   "cell_type": "code",
   "execution_count": 4,
   "metadata": {},
   "outputs": [
    {
     "name": "stdout",
     "output_type": "stream",
     "text": [
      "Original array:\n",
      "[('Alice', 25, 55.5) ('Bob', 30, 85.3) ('Charlie', 20, 65.2)]\n",
      "Sorted array by age:\n",
      "[('Charlie', 20, 65.2) ('Alice', 25, 55.5) ('Bob', 30, 85.3)]\n"
     ]
    }
   ],
   "source": [
    "data_type = [('name', 'U10'), ('age', 'i4'), ('weight', 'f4')]\n",
    "data = np.array([('Alice', 25, 55.5), ('Bob', 30, 85.3), ('Charlie', 20, 65.2)], dtype=data_type)\n",
    "print(\"Original array:\")\n",
    "print(data)\n",
    "\n",
    "# Sort the array by age\n",
    "sorted_data = np.sort(data, order='age')\n",
    "print(\"Sorted array by age:\")\n",
    "print(sorted_data)"
   ]
  },
  {
   "cell_type": "code",
   "execution_count": 6,
   "metadata": {},
   "outputs": [
    {
     "name": "stdout",
     "output_type": "stream",
     "text": [
      "original array is [[ 1  6  7]\n",
      " [14  5  4]\n",
      " [ 5 16  3]]\n",
      "masked array is [[1 6 7]\n",
      " [-- 5 4]\n",
      " [5 -- 3]]\n",
      "sum masked array is 31\n"
     ]
    }
   ],
   "source": [
    "import numpy.ma as ma\n",
    "\n",
    "arry=np.random.randint(1,20,size=(3,3))\n",
    "maked=ma.masked_greater(arry,10)\n",
    "print(f\"original array is {arry}\")\n",
    "print(f\"masked array is {maked}\")\n",
    "\n",
    "sum_masked=maked.sum()\n",
    "print(f\"sum masked array is {sum_masked}\")"
   ]
  },
  {
   "cell_type": "code",
   "execution_count": null,
   "metadata": {},
   "outputs": [],
   "source": []
  }
 ],
 "metadata": {
  "kernelspec": {
   "display_name": "myenv",
   "language": "python",
   "name": "python3"
  },
  "language_info": {
   "codemirror_mode": {
    "name": "ipython",
    "version": 3
   },
   "file_extension": ".py",
   "mimetype": "text/x-python",
   "name": "python",
   "nbconvert_exporter": "python",
   "pygments_lexer": "ipython3",
   "version": "3.12.7"
  }
 },
 "nbformat": 4,
 "nbformat_minor": 2
}
