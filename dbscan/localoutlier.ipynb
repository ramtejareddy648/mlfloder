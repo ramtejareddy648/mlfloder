{
 "cells": [
  {
   "cell_type": "markdown",
   "metadata": {},
   "source": [
    "### dection of local outlier anamaly"
   ]
  },
  {
   "cell_type": "code",
   "execution_count": 1,
   "metadata": {},
   "outputs": [],
   "source": [
    "import numpy as np\n",
    "import pandas as pd\n",
    "import matplotlib.pyplot as plt\n",
    "from sklearn.neighbors import LocalOutlierFactor"
   ]
  },
  {
   "cell_type": "code",
   "execution_count": 2,
   "metadata": {},
   "outputs": [],
   "source": [
    "np.random.seed(42)\n",
    "x_values=0.3*np.random.randn(200,2)\n",
    "x_outliers=np.random.uniform(low=-4,high=4,size=(20,2))"
   ]
  },
  {
   "cell_type": "code",
   "execution_count": 3,
   "metadata": {},
   "outputs": [
    {
     "data": {
      "text/plain": [
       "array([[-0.68144398, -1.81274342],\n",
       "       [-3.54899603,  2.91777901],\n",
       "       [ 2.50320807,  3.99774139],\n",
       "       [ 3.9730947 ,  0.44345364],\n",
       "       [ 2.15189932,  3.55812584],\n",
       "       [ 2.79717913, -2.02121519],\n",
       "       [-0.39564692, -2.96672468],\n",
       "       [ 3.63240822,  0.84939708],\n",
       "       [-2.17085756,  1.37360548],\n",
       "       [ 0.94502592, -1.13469826],\n",
       "       [-3.09153926,  1.37258556],\n",
       "       [ 0.16246161,  2.17854713],\n",
       "       [ 0.16130801,  2.817452  ],\n",
       "       [ 0.41525471,  0.48750377],\n",
       "       [ 3.01322882, -0.77213707],\n",
       "       [-2.92787817, -3.76973859],\n",
       "       [ 2.04109805,  0.96247641],\n",
       "       [ 1.63263814, -2.29628671],\n",
       "       [-2.9090282 , -3.88364267],\n",
       "       [-1.19529953,  0.71934149]])"
      ]
     },
     "execution_count": 3,
     "metadata": {},
     "output_type": "execute_result"
    }
   ],
   "source": [
    "x_outliers"
   ]
  },
  {
   "cell_type": "code",
   "execution_count": 4,
   "metadata": {},
   "outputs": [
    {
     "data": {
      "text/plain": [
       "array([[ 0.14901425, -0.04147929],\n",
       "       [ 0.19430656,  0.45690896],\n",
       "       [-0.07024601, -0.07024109],\n",
       "       [ 0.47376384,  0.23023042],\n",
       "       [-0.14084232,  0.16276801],\n",
       "       [-0.13902531, -0.13971893],\n",
       "       [ 0.07258868, -0.57398407],\n",
       "       [-0.51747535, -0.16868626],\n",
       "       [-0.30384934,  0.0942742 ],\n",
       "       [-0.27240722, -0.42369111],\n",
       "       [ 0.43969463, -0.06773289],\n",
       "       [ 0.02025846, -0.42742446],\n",
       "       [-0.16331482,  0.03327678],\n",
       "       [-0.34529807,  0.11270941],\n",
       "       [-0.18019161, -0.08750812],\n",
       "       [-0.18051198,  0.55568346],\n",
       "       [-0.00404917, -0.31731328],\n",
       "       [ 0.24676347, -0.36625309],\n",
       "       [ 0.06265908, -0.58790104],\n",
       "       [-0.39845581,  0.05905837],\n",
       "       [ 0.22153997,  0.05141048],\n",
       "       [-0.03469448, -0.09033111],\n",
       "       [-0.4435566 , -0.21595326],\n",
       "       [-0.13819163,  0.31713667],\n",
       "       [ 0.10308549, -0.52891205],\n",
       "       [ 0.09722519, -0.11552468],\n",
       "       [-0.2030766 ,  0.18350289],\n",
       "       [ 0.30929986,  0.27938404],\n",
       "       [-0.25176526, -0.09276371],\n",
       "       [ 0.09937903,  0.29266354],\n",
       "       [-0.14375227, -0.05569769],\n",
       "       [-0.33190049, -0.35886199],\n",
       "       [ 0.24375775,  0.40687201],\n",
       "       [-0.02160304,  0.30105987],\n",
       "       [ 0.10849081, -0.19353593],\n",
       "       [ 0.10841868,  0.46141097],\n",
       "       [-0.01074781,  0.4693931 ],\n",
       "       [-0.78592353,  0.24657075],\n",
       "       [ 0.02611412, -0.08970221],\n",
       "       [ 0.02752823, -0.59627067],\n",
       "       [-0.06590157,  0.10713377],\n",
       "       [ 0.44336821, -0.15548107],\n",
       "       [-0.24254808, -0.15052711],\n",
       "       [ 0.27462064,  0.09862533],\n",
       "       [-0.15892806,  0.15398023],\n",
       "       [ 0.02912326,  0.2905935 ],\n",
       "       [-0.21061593, -0.09829864],\n",
       "       [-0.11763245, -0.43905448],\n",
       "       [ 0.08883608,  0.07831658],\n",
       "       [ 0.00153404, -0.07037614],\n",
       "       [-0.42461122, -0.1261936 ],\n",
       "       [-0.10281435, -0.24068318],\n",
       "       [-0.04838571,  0.12121526],\n",
       "       [ 0.56585577,  0.05237334],\n",
       "       [ 0.07726512, -0.02233377],\n",
       "       [-0.57563136, -0.00795416],\n",
       "       [ 0.01806906,  0.73897263],\n",
       "       [-0.05770829,  0.0904642 ],\n",
       "       [-0.01041353, -0.35060341],\n",
       "       [ 0.34284684,  0.22557991],\n",
       "       [ 0.23730958, -0.27281624],\n",
       "       [ 0.42083829, -0.42055532],\n",
       "       [ 0.17605713,  0.65713669],\n",
       "       [-0.2971609 , -0.16988932],\n",
       "       [ 0.02989541, -0.1510427 ],\n",
       "       [-0.46519903,  0.02056889],\n",
       "       [-0.31869111,  0.14207773],\n",
       "       [-0.27582727,  0.46498032],\n",
       "       [-0.23497599, -0.09661845],\n",
       "       [ 0.24405517, -0.36925929],\n",
       "       [ 0.06823798,  0.39214283],\n",
       "       [-0.48224497,  0.05539016],\n",
       "       [ 0.07796484,  0.23454686],\n",
       "       [-0.37108521, -0.39613698],\n",
       "       [ 0.15658247,  0.0890954 ],\n",
       "       [ 0.07514786,  0.10393446],\n",
       "       [-0.20400742,  0.06967611],\n",
       "       [ 0.08792174, -0.21430543],\n",
       "       [ 0.55973235,  0.14214988],\n",
       "       [-0.35739105,  0.19696608],\n",
       "       [-0.2924045 ,  0.23612538],\n",
       "       [ 0.34757867, -0.2462047 ],\n",
       "       [ 0.28901284,  0.12383428],\n",
       "       [ 0.24661805,  0.56903789],\n",
       "       [-0.07361643, -0.22612085],\n",
       "       [-0.26685433, -0.24474309],\n",
       "       [-0.02313051,  0.10234559],\n",
       "       [ 0.08300724,  0.24815497],\n",
       "       [ 0.00390057,  0.43606022],\n",
       "       [-0.07939705,  0.81605075],\n",
       "       [ 0.1877002 , -0.25714727],\n",
       "       [-0.32126775,  0.14474172],\n",
       "       [-0.06703884,  0.21420015],\n",
       "       [ 0.14197129, -0.02184867],\n",
       "       [-0.25403812, -0.45445417],\n",
       "       [-0.13395449,  0.25691964],\n",
       "       [ 0.06422812, -0.37372163],\n",
       "       [ 0.05195428,  0.11559521],\n",
       "       [-0.26515723,  0.04611753],\n",
       "       [ 0.01746262, -0.34289109],\n",
       "       [ 0.10733621,  0.16823536],\n",
       "       [ 0.32491537,  0.31614062],\n",
       "       [-0.41330081, -0.28134751],\n",
       "       [ 0.15451058,  0.15413579],\n",
       "       [ 0.15451431,  1.15581945],\n",
       "       [ 0.17126715,  0.34066969],\n",
       "       [ 0.28620053,  0.19541738],\n",
       "       [-0.09458077,  0.22769077],\n",
       "       [-0.23184756, -0.07104558],\n",
       "       [-0.14560906,  0.02456224],\n",
       "       [ 0.69439757, -0.56017956],\n",
       "       [ 0.20587806, -0.48381476],\n",
       "       [-0.14157956,  0.32668518],\n",
       "       [ 0.01928401, -0.32332343],\n",
       "       [-0.21459111,  0.20387932],\n",
       "       [-0.21910999,  0.06493758],\n",
       "       [ 0.01367155, -0.1954801 ],\n",
       "       [ 0.64318323,  0.19017571],\n",
       "       [-0.60754278,  0.05593629],\n",
       "       [-0.19853594,  0.25573   ],\n",
       "       [-0.23775622, -0.03442093],\n",
       "       [ 0.15149618,  0.25972656],\n",
       "       [-0.36008892, -0.10035037],\n",
       "       [-0.14248359, -0.19599877],\n",
       "       [ 0.52963627,  0.12149451],\n",
       "       [-0.37826519,  0.27535858],\n",
       "       [ 0.63664686,  0.30973958],\n",
       "       [-0.45581099, -0.14527022],\n",
       "       [ 0.38007334, -0.21230084],\n",
       "       [ 0.13314583,  0.23239022],\n",
       "       [-0.27807914, -0.01785761],\n",
       "       [-0.9723802 , -0.30731629],\n",
       "       [-0.07577045, -0.37433495],\n",
       "       [ 0.48972339, -0.42904241],\n",
       "       [-0.13201335,  0.03922217],\n",
       "       [ 0.43238199, -0.43075865],\n",
       "       [ 0.34894913,  0.00306992],\n",
       "       [-0.2944526 ,  0.13863104],\n",
       "       [ 0.05971791, -0.18006506],\n",
       "       [ 0.02094063, -0.11559408],\n",
       "       [ 0.0340552 ,  0.1986392 ],\n",
       "       [ 0.47580504, -0.37134465],\n",
       "       [ 0.63991001, -0.58562634],\n",
       "       [-0.04553553,  0.17649516],\n",
       "       [ 0.08429756, -0.18680986],\n",
       "       [-0.06243668, -0.14790028],\n",
       "       [-0.17680943,  0.25488063],\n",
       "       [ 0.10710465, -0.20787288],\n",
       "       [ 0.26987996,  0.09218986],\n",
       "       [ 0.24385864,  0.18888865],\n",
       "       [-0.2486985 , -0.16805431],\n",
       "       [ 0.22418808,  0.18311108],\n",
       "       [-0.00627048,  0.03519821],\n",
       "       [ 0.38329947, -0.17747142],\n",
       "       [ 0.16412921, -0.0606578 ],\n",
       "       [-0.06530436,  0.32963306],\n",
       "       [ 0.2476249 ,  0.24405289],\n",
       "       [ 0.39164364,  0.00630115],\n",
       "       [ 0.20458589, -0.09308003],\n",
       "       [ 0.09724991, -0.03904292],\n",
       "       [ 0.02909879,  0.17854711],\n",
       "       [-0.2454662 ,  0.62771618],\n",
       "       [-0.30180521, -0.36425658],\n",
       "       [ 0.34743326,  0.23749881],\n",
       "       [ 0.18723595,  0.18850365],\n",
       "       [-0.00367403, -0.26917631],\n",
       "       [ 0.02274137, -0.20314851],\n",
       "       [ 0.29253592, -0.04411721],\n",
       "       [-0.24764916, -0.09641575],\n",
       "       [ 0.12387944, -0.16911737],\n",
       "       [-0.24666612,  0.07310616],\n",
       "       [ 0.07348997, -0.15208295],\n",
       "       [-0.14131149,  0.06961498],\n",
       "       [-0.4344253 , -0.42223913],\n",
       "       [-0.21553327, -0.06403415],\n",
       "       [ 0.09327227,  0.44260687],\n",
       "       [ 0.25729789, -0.04798156],\n",
       "       [-0.00570486, -0.30075881],\n",
       "       [-0.00555394, -0.08659759],\n",
       "       [ 0.09681557, -0.24816928],\n",
       "       [ 0.15580395,  0.45982167],\n",
       "       [-0.03262804,  0.12051352],\n",
       "       [ 0.2070432 , -0.12036614],\n",
       "       [ 0.06722774,  0.00377772],\n",
       "       [ 0.02930283, -0.23190294],\n",
       "       [ 0.00735305,  0.14939949],\n",
       "       [ 0.43534308,  0.28778125],\n",
       "       [ 0.64595474, -0.23020427],\n",
       "       [ 0.26169619,  0.0550026 ],\n",
       "       [ 0.65694088, -0.24248949],\n",
       "       [-0.25191655, -0.17981779],\n",
       "       [-0.63716872, -0.15772651],\n",
       "       [-0.2277398 ,  0.04511814],\n",
       "       [ 0.10252679,  0.56285125],\n",
       "       [ 0.28512715, -0.1730711 ],\n",
       "       [-0.2695244 ,  0.14757575],\n",
       "       [-0.39606996,  0.54943763],\n",
       "       [ 0.35383204, -0.1407527 ],\n",
       "       [-0.51394036,  0.40616171],\n",
       "       [-0.03436195,  0.37134489]])"
      ]
     },
     "execution_count": 4,
     "metadata": {},
     "output_type": "execute_result"
    }
   ],
   "source": [
    "x_values"
   ]
  },
  {
   "cell_type": "code",
   "execution_count": 5,
   "metadata": {},
   "outputs": [],
   "source": [
    "x=np.vstack((x_values,x_outliers))"
   ]
  },
  {
   "cell_type": "code",
   "execution_count": 6,
   "metadata": {},
   "outputs": [
    {
     "data": {
      "text/plain": [
       "array([[ 1.49014246e-01, -4.14792904e-02],\n",
       "       [ 1.94306561e-01,  4.56908957e-01],\n",
       "       [-7.02460124e-02, -7.02410871e-02],\n",
       "       [ 4.73763845e-01,  2.30230419e-01],\n",
       "       [-1.40842316e-01,  1.62768013e-01],\n",
       "       [-1.39025308e-01, -1.39718926e-01],\n",
       "       [ 7.25886815e-02, -5.73984073e-01],\n",
       "       [-5.17475350e-01, -1.68686259e-01],\n",
       "       [-3.03849336e-01,  9.42741998e-02],\n",
       "       [-2.72407223e-01, -4.23691110e-01],\n",
       "       [ 4.39694631e-01, -6.77328901e-02],\n",
       "       [ 2.02584614e-02, -4.27424456e-01],\n",
       "       [-1.63314817e-01,  3.32767769e-02],\n",
       "       [-3.45298073e-01,  1.12709406e-01],\n",
       "       [-1.80191607e-01, -8.75081249e-02],\n",
       "       [-1.80511984e-01,  5.55683455e-01],\n",
       "       [-4.04916742e-03, -3.17313279e-01],\n",
       "       [ 2.46763474e-01, -3.66253095e-01],\n",
       "       [ 6.26590785e-02, -5.87901037e-01],\n",
       "       [-3.98455815e-01,  5.90583708e-02],\n",
       "       [ 2.21539974e-01,  5.14104844e-02],\n",
       "       [-3.46944847e-02, -9.03311087e-02],\n",
       "       [-4.43556597e-01, -2.15953263e-01],\n",
       "       [-1.38191631e-01,  3.17136668e-01],\n",
       "       [ 1.03085487e-01, -5.28912047e-01],\n",
       "       [ 9.72251908e-02, -1.15524684e-01],\n",
       "       [-2.03076600e-01,  1.83502887e-01],\n",
       "       [ 3.09299857e-01,  2.79384036e-01],\n",
       "       [-2.51765257e-01, -9.27637128e-02],\n",
       "       [ 9.93790294e-02,  2.92663538e-01],\n",
       "       [-1.43752271e-01, -5.56976930e-02],\n",
       "       [-3.31900492e-01, -3.58861987e-01],\n",
       "       [ 2.43757747e-01,  4.06872009e-01],\n",
       "       [-2.16030365e-02,  3.01059869e-01],\n",
       "       [ 1.08490808e-01, -1.93535926e-01],\n",
       "       [ 1.08418682e-01,  4.61410970e-01],\n",
       "       [-1.07478117e-02,  4.69393097e-01],\n",
       "       [-7.85923531e-01,  2.46570751e-01],\n",
       "       [ 2.61141205e-02, -8.97022051e-02],\n",
       "       [ 2.75282330e-02, -5.96270674e-01],\n",
       "       [-6.59015664e-02,  1.07133771e-01],\n",
       "       [ 4.43368213e-01, -1.55481065e-01],\n",
       "       [-2.42548081e-01, -1.50527113e-01],\n",
       "       [ 2.74620635e-01,  9.86253329e-02],\n",
       "       [-1.58928061e-01,  1.53980230e-01],\n",
       "       [ 2.91232648e-02,  2.90593497e-01],\n",
       "       [-2.10615928e-01, -9.82986440e-02],\n",
       "       [-1.17632446e-01, -4.39054484e-01],\n",
       "       [ 8.88360831e-02,  7.83165817e-02],\n",
       "       [ 1.53403699e-03, -7.03761400e-02],\n",
       "       [-4.24611223e-01, -1.26193597e-01],\n",
       "       [-1.02814355e-01, -2.40683181e-01],\n",
       "       [-4.83857135e-02,  1.21215257e-01],\n",
       "       [ 5.65855770e-01,  5.23733438e-02],\n",
       "       [ 7.72651172e-02, -2.23337747e-02],\n",
       "       [-5.75631365e-01, -7.95416263e-03],\n",
       "       [ 1.80690630e-02,  7.38972634e-01],\n",
       "       [-5.77082894e-02,  9.04642027e-02],\n",
       "       [-1.04135309e-02, -3.50603411e-01],\n",
       "       [ 3.42846844e-01,  2.25579910e-01],\n",
       "       [ 2.37309584e-01, -2.72816236e-01],\n",
       "       [ 4.20838293e-01, -4.20555319e-01],\n",
       "       [ 1.76057128e-01,  6.57136688e-01],\n",
       "       [-2.97160898e-01, -1.69889319e-01],\n",
       "       [ 2.98954095e-02, -1.51042696e-01],\n",
       "       [-4.65199029e-01,  2.05688924e-02],\n",
       "       [-3.18691114e-01,  1.42077729e-01],\n",
       "       [-2.75827270e-01,  4.64980322e-01],\n",
       "       [-2.34975988e-01, -9.66184549e-02],\n",
       "       [ 2.44055165e-01, -3.69259295e-01],\n",
       "       [ 6.82379804e-02,  3.92142826e-01],\n",
       "       [-4.82244970e-01,  5.53901576e-02],\n",
       "       [ 7.79648383e-02,  2.34546862e-01],\n",
       "       [-3.71085213e-01, -3.96136984e-01],\n",
       "       [ 1.56582470e-01,  8.90954020e-02],\n",
       "       [ 7.51478551e-02,  1.03934463e-01],\n",
       "       [-2.04007416e-01,  6.96761091e-02],\n",
       "       [ 8.79217420e-02, -2.14305425e-01],\n",
       "       [ 5.59732353e-01,  1.42149876e-01],\n",
       "       [-3.57391049e-01,  1.96966083e-01],\n",
       "       [-2.92404501e-01,  2.36125381e-01],\n",
       "       [ 3.47578674e-01, -2.46204696e-01],\n",
       "       [ 2.89012839e-01,  1.23834278e-01],\n",
       "       [ 2.46618048e-01,  5.69037895e-01],\n",
       "       [-7.36164348e-02, -2.26120849e-01],\n",
       "       [-2.66854329e-01, -2.44743085e-01],\n",
       "       [-2.31305128e-02,  1.02345592e-01],\n",
       "       [ 8.30072398e-02,  2.48154975e-01],\n",
       "       [ 3.90056756e-03,  4.36060223e-01],\n",
       "       [-7.93970500e-02,  8.16050750e-01],\n",
       "       [ 1.87700204e-01, -2.57147267e-01],\n",
       "       [-3.21267749e-01,  1.44741725e-01],\n",
       "       [-6.70388356e-02,  2.14200148e-01],\n",
       "       [ 1.41971287e-01, -2.18486738e-02],\n",
       "       [-2.54038115e-01, -4.54454167e-01],\n",
       "       [-1.33954486e-01,  2.56919638e-01],\n",
       "       [ 6.42281232e-02, -3.73721634e-01],\n",
       "       [ 5.19542778e-02,  1.15595214e-01],\n",
       "       [-2.65157231e-01,  4.61175318e-02],\n",
       "       [ 1.74626155e-02, -3.42891089e-01],\n",
       "       [ 1.07336208e-01,  1.68235358e-01],\n",
       "       [ 3.24915373e-01,  3.16140616e-01],\n",
       "       [-4.13300810e-01, -2.81347512e-01],\n",
       "       [ 1.54510580e-01,  1.54135785e-01],\n",
       "       [ 1.54514306e-01,  1.15581945e+00],\n",
       "       [ 1.71267153e-01,  3.40669692e-01],\n",
       "       [ 2.86200529e-01,  1.95417375e-01],\n",
       "       [-9.45807734e-02,  2.27690766e-01],\n",
       "       [-2.31847564e-01, -7.10455820e-02],\n",
       "       [-1.45609064e-01,  2.45622418e-02],\n",
       "       [ 6.94397570e-01, -5.60179558e-01],\n",
       "       [ 2.05878057e-01, -4.83814761e-01],\n",
       "       [-1.41579560e-01,  3.26685179e-01],\n",
       "       [ 1.92840057e-02, -3.23323433e-01],\n",
       "       [-2.14591113e-01,  2.03879325e-01],\n",
       "       [-2.19109990e-01,  6.49375769e-02],\n",
       "       [ 1.36715520e-02, -1.95480104e-01],\n",
       "       [ 6.43183227e-01,  1.90175707e-01],\n",
       "       [-6.07542776e-01,  5.59362944e-02],\n",
       "       [-1.98535939e-01,  2.55730000e-01],\n",
       "       [-2.37756222e-01, -3.44209324e-02],\n",
       "       [ 1.51496184e-01,  2.59726558e-01],\n",
       "       [-3.60088922e-01, -1.00350371e-01],\n",
       "       [-1.42483593e-01, -1.95998770e-01],\n",
       "       [ 5.29636272e-01,  1.21494513e-01],\n",
       "       [-3.78265186e-01,  2.75358584e-01],\n",
       "       [ 6.36646859e-01,  3.09739578e-01],\n",
       "       [-4.55810990e-01, -1.45270222e-01],\n",
       "       [ 3.80073345e-01, -2.12300840e-01],\n",
       "       [ 1.33145828e-01,  2.32390216e-01],\n",
       "       [-2.78079141e-01, -1.78576068e-02],\n",
       "       [-9.72380202e-01, -3.07316292e-01],\n",
       "       [-7.57704454e-02, -3.74334955e-01],\n",
       "       [ 4.89723391e-01, -4.29042413e-01],\n",
       "       [-1.32013346e-01,  3.92221732e-02],\n",
       "       [ 4.32381987e-01, -4.30758645e-01],\n",
       "       [ 3.48949126e-01,  3.06991831e-03],\n",
       "       [-2.94452595e-01,  1.38631042e-01],\n",
       "       [ 5.97179087e-02, -1.80065063e-01],\n",
       "       [ 2.09406255e-02, -1.15594079e-01],\n",
       "       [ 3.40552036e-02,  1.98639202e-01],\n",
       "       [ 4.75805045e-01, -3.71344650e-01],\n",
       "       [ 6.39910012e-01, -5.85626340e-01],\n",
       "       [-4.55355285e-02,  1.76495162e-01],\n",
       "       [ 8.42975603e-02, -1.86809856e-01],\n",
       "       [-6.24366751e-02, -1.47900280e-01],\n",
       "       [-1.76809427e-01,  2.54880629e-01],\n",
       "       [ 1.07104646e-01, -2.07872879e-01],\n",
       "       [ 2.69879963e-01,  9.21898563e-02],\n",
       "       [ 2.43858636e-01,  1.88888653e-01],\n",
       "       [-2.48698503e-01, -1.68054312e-01],\n",
       "       [ 2.24188082e-01,  1.83111080e-01],\n",
       "       [-6.27047819e-03,  3.51982150e-02],\n",
       "       [ 3.83299469e-01, -1.77471417e-01],\n",
       "       [ 1.64129214e-01, -6.06577957e-02],\n",
       "       [-6.53043610e-02,  3.29633056e-01],\n",
       "       [ 2.47624905e-01,  2.44052891e-01],\n",
       "       [ 3.91643642e-01,  6.30115249e-03],\n",
       "       [ 2.04585891e-01, -9.30800270e-02],\n",
       "       [ 9.72499057e-02, -3.90429163e-02],\n",
       "       [ 2.90987895e-02,  1.78547108e-01],\n",
       "       [-2.45466205e-01,  6.27716183e-01],\n",
       "       [-3.01805214e-01, -3.64256584e-01],\n",
       "       [ 3.47433262e-01,  2.37498808e-01],\n",
       "       [ 1.87235945e-01,  1.88503653e-01],\n",
       "       [-3.67403185e-03, -2.69176311e-01],\n",
       "       [ 2.27413675e-02, -2.03148513e-01],\n",
       "       [ 2.92535920e-01, -4.41172145e-02],\n",
       "       [-2.47649159e-01, -9.64157525e-02],\n",
       "       [ 1.23879436e-01, -1.69117366e-01],\n",
       "       [-2.46666119e-01,  7.31061634e-02],\n",
       "       [ 7.34899713e-02, -1.52082953e-01],\n",
       "       [-1.41311492e-01,  6.96149812e-02],\n",
       "       [-4.34425302e-01, -4.22239132e-01],\n",
       "       [-2.15533266e-01, -6.40341455e-02],\n",
       "       [ 9.32722697e-02,  4.42606865e-01],\n",
       "       [ 2.57297887e-01, -4.79815590e-02],\n",
       "       [-5.70486237e-03, -3.00758809e-01],\n",
       "       [-5.55394080e-03, -8.65975917e-02],\n",
       "       [ 9.68155681e-02, -2.48169283e-01],\n",
       "       [ 1.55803954e-01,  4.59821674e-01],\n",
       "       [-3.26280445e-02,  1.20513517e-01],\n",
       "       [ 2.07043198e-01, -1.20366142e-01],\n",
       "       [ 6.72277445e-02,  3.77772023e-03],\n",
       "       [ 2.93028296e-02, -2.31902935e-01],\n",
       "       [ 7.35305228e-03,  1.49399487e-01],\n",
       "       [ 4.35343082e-01,  2.87781248e-01],\n",
       "       [ 6.45954737e-01, -2.30204269e-01],\n",
       "       [ 2.61696191e-01,  5.50026017e-02],\n",
       "       [ 6.56940880e-01, -2.42489486e-01],\n",
       "       [-2.51916553e-01, -1.79817794e-01],\n",
       "       [-6.37168717e-01, -1.57726507e-01],\n",
       "       [-2.27739798e-01,  4.51181359e-02],\n",
       "       [ 1.02526793e-01,  5.62851252e-01],\n",
       "       [ 2.85127151e-01, -1.73071097e-01],\n",
       "       [-2.69524401e-01,  1.47575751e-01],\n",
       "       [-3.96069962e-01,  5.49437630e-01],\n",
       "       [ 3.53832036e-01, -1.40752696e-01],\n",
       "       [-5.13940359e-01,  4.06161712e-01],\n",
       "       [-3.43619536e-02,  3.71344894e-01],\n",
       "       [-6.81443981e-01, -1.81274342e+00],\n",
       "       [-3.54899603e+00,  2.91777901e+00],\n",
       "       [ 2.50320807e+00,  3.99774139e+00],\n",
       "       [ 3.97309470e+00,  4.43453645e-01],\n",
       "       [ 2.15189932e+00,  3.55812584e+00],\n",
       "       [ 2.79717913e+00, -2.02121519e+00],\n",
       "       [-3.95646918e-01, -2.96672468e+00],\n",
       "       [ 3.63240822e+00,  8.49397076e-01],\n",
       "       [-2.17085756e+00,  1.37360548e+00],\n",
       "       [ 9.45025924e-01, -1.13469826e+00],\n",
       "       [-3.09153926e+00,  1.37258556e+00],\n",
       "       [ 1.62461607e-01,  2.17854713e+00],\n",
       "       [ 1.61308009e-01,  2.81745200e+00],\n",
       "       [ 4.15254710e-01,  4.87503772e-01],\n",
       "       [ 3.01322882e+00, -7.72137070e-01],\n",
       "       [-2.92787817e+00, -3.76973859e+00],\n",
       "       [ 2.04109805e+00,  9.62476411e-01],\n",
       "       [ 1.63263814e+00, -2.29628671e+00],\n",
       "       [-2.90902820e+00, -3.88364267e+00],\n",
       "       [-1.19529953e+00,  7.19341495e-01]])"
      ]
     },
     "execution_count": 6,
     "metadata": {},
     "output_type": "execute_result"
    }
   ],
   "source": [
    "x"
   ]
  },
  {
   "cell_type": "code",
   "execution_count": 7,
   "metadata": {},
   "outputs": [
    {
     "data": {
      "text/plain": [
       "<matplotlib.collections.PathCollection at 0x17459c7e3c0>"
      ]
     },
     "execution_count": 7,
     "metadata": {},
     "output_type": "execute_result"
    },
    {
     "data": {
      "image/png": "[encoded data removed]",
      "text/plain": [
       "<Figure size 640x480 with 1 Axes>"
      ]
     },
     "metadata": {},
     "output_type": "display_data"
    }
   ],
   "source": [
    "plt.scatter(x[:,0],x[:,1])"
   ]
  },
  {
   "cell_type": "code",
   "execution_count": 9,
   "metadata": {},
   "outputs": [],
   "source": [
    "lof=LocalOutlierFactor(n_neighbors=5,contamination=0.1)\n",
    "y_pred=lof.fit_predict(x)\n"
   ]
  },
  {
   "cell_type": "code",
   "execution_count": 10,
   "metadata": {},
   "outputs": [
    {
     "data": {
      "text/plain": [
       "array([ 1,  1,  1,  1,  1,  1,  1,  1,  1,  1,  1,  1,  1,  1,  1,  1,  1,\n",
       "        1,  1,  1,  1,  1,  1,  1,  1,  1,  1,  1,  1,  1,  1,  1,  1,  1,\n",
       "        1,  1,  1, -1,  1,  1,  1,  1,  1,  1,  1,  1,  1,  1,  1,  1,  1,\n",
       "        1,  1,  1,  1,  1,  1,  1,  1,  1,  1,  1,  1,  1,  1,  1,  1,  1,\n",
       "        1,  1,  1,  1,  1,  1,  1,  1,  1,  1,  1,  1,  1,  1,  1,  1,  1,\n",
       "        1,  1,  1,  1,  1, -1,  1,  1,  1,  1,  1,  1,  1,  1,  1,  1,  1,\n",
       "        1,  1, -1,  1,  1,  1,  1,  1,  1,  1,  1,  1,  1,  1,  1,  1,  1,\n",
       "        1,  1,  1, -1,  1,  1,  1,  1,  1,  1,  1,  1, -1,  1,  1,  1,  1,\n",
       "        1,  1,  1,  1,  1,  1,  1,  1,  1,  1,  1,  1,  1,  1,  1,  1,  1,\n",
       "        1,  1,  1,  1,  1,  1,  1,  1,  1,  1,  1,  1,  1,  1,  1,  1,  1,\n",
       "        1,  1,  1,  1,  1,  1,  1,  1,  1,  1,  1,  1,  1,  1,  1,  1,  1,\n",
       "        1,  1,  1,  1,  1,  1,  1,  1,  1,  1,  1, -1,  1, -1, -1,  1, -1,\n",
       "        1, -1, -1, -1, -1, -1, -1, -1, -1,  1,  1, -1, -1, -1, -1, -1])"
      ]
     },
     "execution_count": 10,
     "metadata": {},
     "output_type": "execute_result"
    }
   ],
   "source": [
    "y_pred"
   ]
  },
  {
   "cell_type": "code",
   "execution_count": 11,
   "metadata": {},
   "outputs": [
    {
     "data": {
      "text/plain": [
       "<matplotlib.collections.PathCollection at 0x17459c7e960>"
      ]
     },
     "execution_count": 11,
     "metadata": {},
     "output_type": "execute_result"
    },
    {
     "data": {
      "image/png": "[encoded data removed]",
      "text/plain": [
       "<Figure size 640x480 with 1 Axes>"
      ]
     },
     "metadata": {},
     "output_type": "display_data"
    }
   ],
   "source": [
    "plt.scatter(x[:,0],x[:,1],c=y_pred)"
   ]
  },
  {
   "cell_type": "code",
   "execution_count": 12,
   "metadata": {},
   "outputs": [],
   "source": [
    "index=np.where(y_pred<0)"
   ]
  },
  {
   "cell_type": "code",
   "execution_count": 13,
   "metadata": {},
   "outputs": [
    {
     "data": {
      "text/plain": [
       "(array([ 37,  90, 104, 122, 131, 198, 200, 201, 203, 205, 206, 207, 208,\n",
       "        209, 210, 211, 212, 215, 216, 217, 218, 219]),)"
      ]
     },
     "execution_count": 13,
     "metadata": {},
     "output_type": "execute_result"
    }
   ],
   "source": [
    "index"
   ]
  },
  {
   "cell_type": "code",
   "execution_count": 14,
   "metadata": {},
   "outputs": [
    {
     "data": {
      "text/plain": [
       "<matplotlib.collections.PathCollection at 0x1745bfbadb0>"
      ]
     },
     "execution_count": 14,
     "metadata": {},
     "output_type": "execute_result"
    },
    {
     "data": {
      "image/png": "[encoded data removed]",
      "text/plain": [
       "<Figure size 640x480 with 1 Axes>"
      ]
     },
     "metadata": {},
     "output_type": "display_data"
    }
   ],
   "source": [
    "plt.scatter(x[:,0],x[:,1])\n",
    "plt.scatter(x[index,0],x[index,1],edgecolors='r')"
   ]
  },
  {
   "cell_type": "code",
   "execution_count": null,
   "metadata": {},
   "outputs": [],
   "source": []
  }
 ],
 "metadata": {
  "kernelspec": {
   "display_name": "myenv",
   "language": "python",
   "name": "python3"
  },
  "language_info": {
   "codemirror_mode": {
    "name": "ipython",
    "version": 3
   },
   "file_extension": ".py",
   "mimetype": "text/x-python",
   "name": "python",
   "nbconvert_exporter": "python",
   "pygments_lexer": "ipython3",
   "version": "3.12.7"
  }
 },
 "nbformat": 4,
 "nbformat_minor": 2
}
