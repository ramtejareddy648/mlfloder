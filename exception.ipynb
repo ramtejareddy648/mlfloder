{
 "cells": [
  {
   "cell_type": "code",
   "execution_count": 4,
   "metadata": {},
   "outputs": [
    {
     "name": "stdout",
     "output_type": "stream",
     "text": [
      "exception is division by zero\n",
      "code is complete\n"
     ]
    }
   ],
   "source": [
    "def add(a,b):\n",
    "    try:\n",
    "        result=a/b\n",
    "    except Exception as e:\n",
    "        print(f'exception is {e}')\n",
    "    else:\n",
    "        print(result)\n",
    "    finally:\n",
    "        print('code is complete')\n",
    "add(2,0)"
   ]
  },
  {
   "cell_type": "code",
   "execution_count": 7,
   "metadata": {},
   "outputs": [
    {
     "name": "stdout",
     "output_type": "stream",
     "text": [
      "[Errno 2] No such file or directory: 'reddy.txt'\n",
      "code is complete\n"
     ]
    }
   ],
   "source": [
    "try:\n",
    "    with open('reddy.txt','r') as file:\n",
    "        content=file.read()\n",
    "except Exception as e:\n",
    "    print(e)\n",
    "else:\n",
    "    print(content)\n",
    "finally:\n",
    "    print(\"code is complete\")"
   ]
  },
  {
   "cell_type": "code",
   "execution_count": 11,
   "metadata": {},
   "outputs": [
    {
     "name": "stdout",
     "output_type": "stream",
     "text": [
      "'<' not supported between instances of 'str' and 'int'\n",
      "this error catch in except block\n",
      "hi\n"
     ]
    }
   ],
   "source": [
    "list1=[1,2,3,\"2\"]\n",
    "try:\n",
    "    for i in list1:\n",
    "        if i<0:\n",
    "            raise NegativeNumbeError(f\"neagative number found af {i}\")\n",
    "except Exception as e:\n",
    "    print(e)\n",
    "    print(\"this error catch in except block\")\n",
    "finally:\n",
    "    print(\"hi\")"
   ]
  },
  {
   "cell_type": "code",
   "execution_count": null,
   "metadata": {},
   "outputs": [],
   "source": []
  }
 ],
 "metadata": {
  "kernelspec": {
   "display_name": "myenv",
   "language": "python",
   "name": "python3"
  },
  "language_info": {
   "codemirror_mode": {
    "name": "ipython",
    "version": 3
   },
   "file_extension": ".py",
   "mimetype": "text/x-python",
   "name": "python",
   "nbconvert_exporter": "python",
   "pygments_lexer": "ipython3",
   "version": "3.12.7"
  }
 },
 "nbformat": 4,
 "nbformat_minor": 2
}
