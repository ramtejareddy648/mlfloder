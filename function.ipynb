{
 "cells": [
  {
   "cell_type": "code",
   "execution_count": 9,
   "metadata": {},
   "outputs": [
    {
     "data": {
      "text/plain": [
       "True"
      ]
     },
     "execution_count": 9,
     "metadata": {},
     "output_type": "execute_result"
    }
   ],
   "source": [
    "def password_check(password):\n",
    "    if len(password)<8:\n",
    "        return False\n",
    "    if not any(i.isdigit() for i in password):\n",
    "        print(\"no digits is there\")\n",
    "        return False\n",
    "    if not any(i.islower() for i in password):\n",
    "        print(\"no lower letter\")\n",
    "        return False\n",
    "    if not any(i.isupper() for i in password):\n",
    "        print(\"no upper case\")\n",
    "        return False\n",
    "    if not(char in '!@#$%^&*()_+' for char in password):\n",
    "        print(\"no speical letter\")\n",
    "        return False\n",
    "    return True\n",
    "    \n",
    "    \n",
    "password_check(\"reddy\")\n",
    "password_check(\"reddY123\")"
   ]
  },
  {
   "cell_type": "code",
   "execution_count": 5,
   "metadata": {},
   "outputs": [
    {
     "data": {
      "text/plain": [
       "False"
      ]
     },
     "execution_count": 5,
     "metadata": {},
     "output_type": "execute_result"
    }
   ],
   "source": [
    "password_check(\"jcdj\")"
   ]
  },
  {
   "cell_type": "code",
   "execution_count": 10,
   "metadata": {},
   "outputs": [
    {
     "name": "stdout",
     "output_type": "stream",
     "text": [
      "no digits is there\n",
      "no upper case\n"
     ]
    },
    {
     "data": {
      "text/plain": [
       "False"
      ]
     },
     "execution_count": 10,
     "metadata": {},
     "output_type": "execute_result"
    }
   ],
   "source": [
    "password_check(\"xmcjcsujssi\")\n",
    "password_check(\"jsushd29\")"
   ]
  },
  {
   "cell_type": "code",
   "execution_count": 11,
   "metadata": {},
   "outputs": [
    {
     "name": "stdout",
     "output_type": "stream",
     "text": [
      "no upper case\n"
     ]
    },
    {
     "data": {
      "text/plain": [
       "False"
      ]
     },
     "execution_count": 11,
     "metadata": {},
     "output_type": "execute_result"
    }
   ],
   "source": [
    "password_check(\"jsushd29\")"
   ]
  },
  {
   "cell_type": "code",
   "execution_count": 19,
   "metadata": {},
   "outputs": [
    {
     "data": {
      "text/plain": [
       "{'this': 1, 'is': 2, 'rsm': 1, 'teh': 1}"
      ]
     },
     "execution_count": 19,
     "metadata": {},
     "output_type": "execute_result"
    }
   ],
   "source": [
    "def  ram(string1):\n",
    "    dict1={}\n",
    "    word=string1.split()\n",
    "    for words in word:\n",
    "        dict1[words]=dict1.get(words,0)+1\n",
    "    return dict1\n",
    "\n",
    "\n",
    "ram(\"this is rsm teh is\")\n",
    "\n",
    "    "
   ]
  },
  {
   "cell_type": "code",
   "execution_count": 26,
   "metadata": {},
   "outputs": [
    {
     "data": {
      "text/plain": [
       "[1, 2, 4, 5, 6]"
      ]
     },
     "execution_count": 26,
     "metadata": {},
     "output_type": "execute_result"
    }
   ],
   "source": [
    "def dict2(num,dict3={}):\n",
    "    dict3[num]=num**2\n",
    "    return dict3\n",
    "\n",
    "numbers=[1,2,4,5,6]\n",
    "list(filter(dict2,numbers))"
   ]
  },
  {
   "cell_type": "code",
   "execution_count": 29,
   "metadata": {},
   "outputs": [
    {
     "data": {
      "text/plain": [
       "{'a': 1, 'b': 2}"
      ]
     },
     "execution_count": 29,
     "metadata": {},
     "output_type": "execute_result"
    }
   ],
   "source": [
    "def arg(**kwargs):\n",
    "    dict3={}\n",
    "    for key,value in kwargs.items() :\n",
    "        if isinstance(value,int):\n",
    "             dict3[key]=value\n",
    "    return dict3\n",
    "\n",
    "\n",
    "arg(a=1,b=2,c=\"hello\")\n",
    "        "
   ]
  },
  {
   "cell_type": "code",
   "execution_count": 30,
   "metadata": {},
   "outputs": [
    {
     "name": "stdout",
     "output_type": "stream",
     "text": [
      "Function complex_calculation took 0.005030155181884766 seconds to execute.\n",
      "333283335000\n"
     ]
    }
   ],
   "source": [
    "import time\n",
    "\n",
    "def timer_decorator(func):\n",
    "    def wrapper(*args, **kwargs):\n",
    "        start_time = time.time()\n",
    "        result = func(*args, **kwargs)\n",
    "        end_time = time.time()\n",
    "        print(f\"Function {func.__name__} took {end_time - start_time} seconds to execute.\")\n",
    "        return result\n",
    "    return wrapper\n",
    "\n",
    "@timer_decorator\n",
    "def complex_calculation(n):\n",
    "    return sum(x**2 for x in range(n))\n",
    "\n",
    "# Test\n",
    "print(complex_calculation(10000))"
   ]
  },
  {
   "cell_type": "code",
   "execution_count": 35,
   "metadata": {},
   "outputs": [
    {
     "name": "stdout",
     "output_type": "stream",
     "text": [
      "8\n"
     ]
    }
   ],
   "source": [
    "\n",
    "def com(f,g):\n",
    "    return lambda x:f(g(x))\n",
    "\n",
    "\n",
    "f=lambda x:x*2\n",
    "g=lambda x:x+1\n",
    "\n",
    "h=com(f,g)\n",
    "print(h(3))\n",
    "\n"
   ]
  },
  {
   "cell_type": "code",
   "execution_count": null,
   "metadata": {},
   "outputs": [],
   "source": []
  }
 ],
 "metadata": {
  "kernelspec": {
   "display_name": "myenv",
   "language": "python",
   "name": "python3"
  },
  "language_info": {
   "codemirror_mode": {
    "name": "ipython",
    "version": 3
   },
   "file_extension": ".py",
   "mimetype": "text/x-python",
   "name": "python",
   "nbconvert_exporter": "python",
   "pygments_lexer": "ipython3",
   "version": "3.12.7"
  }
 },
 "nbformat": 4,
 "nbformat_minor": 2
}
