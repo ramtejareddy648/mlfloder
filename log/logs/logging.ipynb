{
 "cells": [
  {
   "cell_type": "code",
   "execution_count": 1,
   "metadata": {},
   "outputs": [],
   "source": [
    "import logging\n"
   ]
  },
  {
   "cell_type": "code",
   "execution_count": 2,
   "metadata": {},
   "outputs": [
    {
     "name": "stderr",
     "output_type": "stream",
     "text": [
      "2025-02-04 16:51:18,180-reddy-DEBUG-This is a debug message\n",
      "2025-02-04 16:51:18,181-reddy-DEBUG-This is a debug message\n",
      "2025-02-04 16:51:18,182-reddy-INFO-This is an info message\n",
      "2025-02-04 16:51:18,182-reddy-WARNING-This is a warning message\n",
      "2025-02-04 16:51:18,183-reddy-ERROR-This is an error message\n",
      "2025-02-04 16:51:18,184-reddy-CRITICAL-This is a critical message\n"
     ]
    }
   ],
   "source": [
    "logger1=logging.getLogger(\"reddy\")\n",
    "logger1.setLevel(level=logging.DEBUG)\n",
    "\n",
    "file=logging.FileHandler(\"app1\")\n",
    "file.setLevel(logging.DEBUG)\n",
    "console=logging.StreamHandler()\n",
    "console.setLevel(logging.DEBUG)\n",
    "formate=logging.Formatter(\"%(asctime)s-%(name)s-%(levelname)s-%(message)s\")\n",
    "file.setFormatter(formate)\n",
    "console.setFormatter(formate)\n",
    "logger1.addHandler(file)\n",
    "logger1.addHandler(console)\n",
    "\n",
    "logger1.debug('This is a debug message')\n",
    "logger1.debug('This is a debug message')\n",
    "logger1.info('This is an info message')\n",
    "logger1.warning('This is a warning message')\n",
    "logger1.error('This is an error message')\n",
    "logger1.critical('This is a critical message')\n"
   ]
  },
  {
   "cell_type": "code",
   "execution_count": 6,
   "metadata": {},
   "outputs": [
    {
     "name": "stderr",
     "output_type": "stream",
     "text": [
      "2025-02-04 16:55:40,526-reddy-DEBUG-This is a debug message\n",
      "2025-02-04 16:55:40,526-reddy-DEBUG-This is a debug message\n",
      "2025-02-04 16:55:40,526-reddy-DEBUG-This is a debug message\n",
      "2025-02-04 16:55:40,530-reddy-DEBUG-This is a debug message\n",
      "2025-02-04 16:55:40,530-reddy-DEBUG-This is a debug message\n",
      "2025-02-04 16:55:40,530-reddy-DEBUG-This is a debug message\n",
      "2025-02-04 16:55:40,535-reddy-INFO-This is an info message\n",
      "2025-02-04 16:55:40,535-reddy-INFO-This is an info message\n",
      "2025-02-04 16:55:40,535-reddy-INFO-This is an info message\n",
      "2025-02-04 16:55:40,539-reddy-WARNING-This is a warning message\n",
      "2025-02-04 16:55:40,539-reddy-WARNING-This is a warning message\n",
      "2025-02-04 16:55:40,539-reddy-WARNING-This is a warning message\n",
      "2025-02-04 16:55:40,543-reddy-ERROR-This is an error message\n",
      "2025-02-04 16:55:40,543-reddy-ERROR-This is an error message\n",
      "2025-02-04 16:55:40,543-reddy-ERROR-This is an error message\n",
      "2025-02-04 16:55:40,546-reddy-CRITICAL-This is a critical message\n",
      "2025-02-04 16:55:40,546-reddy-CRITICAL-This is a critical message\n",
      "2025-02-04 16:55:40,546-reddy-CRITICAL-This is a critical message\n"
     ]
    }
   ],
   "source": [
    "logger1=logging.getLogger(\"reddy\")\n",
    "logger1.setLevel(level=logging.DEBUG)\n",
    "\n",
    "file=logging.FileHandler(\"app1\")\n",
    "##file.setLevel(logging.DEBUG)\n",
    "console=logging.StreamHandler()\n",
    "##console.setLevel(logging.DEBUG)\n",
    "formate=logging.Formatter(\"%(asctime)s-%(name)s-%(levelname)s-%(message)s\")\n",
    "file.setFormatter(formate)\n",
    "console.setFormatter(formate)\n",
    "logger1.addHandler(file)\n",
    "logger1.addHandler(console)\n",
    "\n",
    "logger1.debug('This is a debug message')\n",
    "logger1.debug('This is a debug message')\n",
    "logger1.info('This is an info message')\n",
    "logger1.warning('This is a warning message')\n",
    "logger1.error('This is an error message')\n",
    "logger1.critical('This is a critical message')"
   ]
  },
  {
   "cell_type": "code",
   "execution_count": 7,
   "metadata": {},
   "outputs": [
    {
     "name": "stderr",
     "output_type": "stream",
     "text": [
      "2025-02-04 16:55:55,096-reddy-DEBUG-This is a debug message\n",
      "2025-02-04 16:55:55,096-reddy-DEBUG-This is a debug message\n",
      "2025-02-04 16:55:55,096-reddy-DEBUG-This is a debug message\n",
      "2025-02-04 16:55:55,096-reddy-DEBUG-This is a debug message\n",
      "2025-02-04 16:55:55,101-reddy-DEBUG-This is a debug message\n",
      "2025-02-04 16:55:55,101-reddy-DEBUG-This is a debug message\n",
      "2025-02-04 16:55:55,101-reddy-DEBUG-This is a debug message\n",
      "2025-02-04 16:55:55,101-reddy-DEBUG-This is a debug message\n",
      "2025-02-04 16:55:55,104-reddy-INFO-This is an info message\n",
      "2025-02-04 16:55:55,104-reddy-INFO-This is an info message\n",
      "2025-02-04 16:55:55,104-reddy-INFO-This is an info message\n",
      "2025-02-04 16:55:55,104-reddy-INFO-This is an info message\n",
      "2025-02-04 16:55:55,109-reddy-WARNING-This is a warning message\n",
      "2025-02-04 16:55:55,109-reddy-WARNING-This is a warning message\n",
      "2025-02-04 16:55:55,109-reddy-WARNING-This is a warning message\n",
      "2025-02-04 16:55:55,109-reddy-WARNING-This is a warning message\n",
      "2025-02-04 16:55:55,115-reddy-ERROR-This is an error message\n",
      "2025-02-04 16:55:55,115-reddy-ERROR-This is an error message\n",
      "2025-02-04 16:55:55,115-reddy-ERROR-This is an error message\n",
      "2025-02-04 16:55:55,115-reddy-ERROR-This is an error message\n",
      "2025-02-04 16:55:55,119-reddy-CRITICAL-This is a critical message\n",
      "2025-02-04 16:55:55,119-reddy-CRITICAL-This is a critical message\n",
      "2025-02-04 16:55:55,119-reddy-CRITICAL-This is a critical message\n",
      "2025-02-04 16:55:55,119-reddy-CRITICAL-This is a critical message\n"
     ]
    }
   ],
   "source": [
    "logger1=logging.getLogger(\"reddy\")\n",
    "logger1.setLevel(level=logging.DEBUG)\n",
    "\n",
    "file=logging.FileHandler(\"app1\")\n",
    "##file.setLevel(logging.DEBUG)\n",
    "console=logging.StreamHandler()\n",
    "##console.setLevel(logging.DEBUG)\n",
    "formate=logging.Formatter(\"%(asctime)s-%(name)s-%(levelname)s-%(message)s\")\n",
    "file.setFormatter(formate)\n",
    "console.setFormatter(formate)\n",
    "logger1.addHandler(file)\n",
    "logger1.addHandler(console)\n",
    "\n",
    "logger1.debug('This is a debug message')\n",
    "logger1.debug('This is a debug message')\n",
    "logger1.info('This is an info message')\n",
    "logger1.warning('This is a warning message')\n",
    "logger1.error('This is an error message')\n",
    "logger1.critical('This is a critical message')"
   ]
  },
  {
   "cell_type": "code",
   "execution_count": 9,
   "metadata": {},
   "outputs": [
    {
     "name": "stderr",
     "output_type": "stream",
     "text": [
      "2025-02-04 16:57:22,179 - DEBUG - This is a debug message\n",
      "2025-02-04 16:57:22,182 - INFO - This is an info message\n",
      "2025-02-04 16:57:22,183 - WARNING - This is a warning message\n",
      "2025-02-04 16:57:22,184 - ERROR - This is an error message\n",
      "2025-02-04 16:57:22,186 - CRITICAL - This is a critical message\n"
     ]
    }
   ],
   "source": [
    "logger = logging.getLogger('custom_logger')\n",
    "logger.setLevel(logging.DEBUG)\n",
    "    \n",
    "file_handler = logging.FileHandler('custom_app.log')\n",
    "console_handler = logging.StreamHandler()\n",
    "    \n",
    "formatter = logging.Formatter('%(asctime)s - %(levelname)s - %(message)s')\n",
    "file_handler.setFormatter(formatter)\n",
    "console_handler.setFormatter(formatter)\n",
    "\n",
    "logger.addHandler(file_handler)\n",
    "logger.addHandler(console_handler)\n",
    "    \n",
    "logger.debug('This is a debug message')\n",
    "logger.info('This is an info message')\n",
    "logger.warning('This is a warning message')\n",
    "logger.error('This is an error message')\n",
    "logger.critical('This is a critical message')"
   ]
  },
  {
   "cell_type": "code",
   "execution_count": 10,
   "metadata": {},
   "outputs": [
    {
     "name": "stderr",
     "output_type": "stream",
     "text": [
      "2025-02-04 17:00:46,138 - DEBUG - This is a debug message\n",
      "2025-02-04 17:00:46,139 - INFO - This is an info message\n",
      "2025-02-04 17:00:46,140 - WARNING - This is a warning message\n",
      "2025-02-04 17:00:46,141 - ERROR - This is an error message\n",
      "2025-02-04 17:00:46,142 - CRITICAL - This is a critical message\n"
     ]
    }
   ],
   "source": [
    "logger = logging.getLogger('multi_format_logger')\n",
    "logger.setLevel(logging.DEBUG)\n",
    "    \n",
    "file_handler = logging.FileHandler('multi_format_app.log')\n",
    "console_handler = logging.StreamHandler()\n",
    "    \n",
    "file_formatter = logging.Formatter('%(asctime)s - %(name)s - %(levelname)s - %(message)s')\n",
    "console_formatter = logging.Formatter('%(asctime)s - %(levelname)s - %(message)s')\n",
    "file_handler.setFormatter(file_formatter)\n",
    "console_handler.setFormatter(console_formatter)\n",
    "    \n",
    "logger.addHandler(file_handler)\n",
    "logger.addHandler(console_handler)\n",
    "    \n",
    "logger.debug('This is a debug message')\n",
    "logger.info('This is an info message')\n",
    "logger.warning('This is a warning message')\n",
    "logger.error('This is an error message')\n",
    "logger.critical('This is a critical message')"
   ]
  },
  {
   "cell_type": "code",
   "execution_count": 12,
   "metadata": {},
   "outputs": [],
   "source": [
    "from logging.handlers import RotatingFileHandler\n",
    "\n",
    "logger = logging.getLogger('rotating_logger')\n",
    "logger.setLevel(logging.DEBUG)\n",
    "    \n",
    "rotating_handler = RotatingFileHandler('rotating_app.log', maxBytes=2000, backupCount=5)\n",
    "formatter = logging.Formatter('%(asctime)s - %(name)s - %(levelname)s - %(message)s')\n",
    "rotating_handler.setFormatter(formatter)\n",
    "    \n",
    "logger.addHandler(rotating_handler)\n",
    "    \n",
    "for i in range(100):\n",
    "    logger.debug('This is debug message number {}'.format(i))"
   ]
  },
  {
   "cell_type": "code",
   "execution_count": 13,
   "metadata": {},
   "outputs": [],
   "source": [
    "logger = logging.getLogger('exception_logger')\n",
    "logger.setLevel(logging.ERROR)\n",
    "    \n",
    "file_handler = logging.FileHandler('exception_app.log')\n",
    "formatter = logging.Formatter('%(asctime)s - %(name)s - %(levelname)s - %(message)s')\n",
    "file_handler.setFormatter(formatter)\n",
    "    \n",
    "logger.addHandler(file_handler)\n",
    "    \n",
    "try:\n",
    "    1 / 0\n",
    "except Exception as e:\n",
    "    logger.exception(\"An exception occurred\")\n"
   ]
  },
  {
   "cell_type": "code",
   "execution_count": 14,
   "metadata": {},
   "outputs": [],
   "source": [
    "logger = logging.getLogger('additional_context_logger')\n",
    "logger.setLevel(logging.DEBUG)\n",
    "    \n",
    "file_handler = logging.FileHandler('additional_context_app.log')\n",
    "formatter = logging.Formatter('%(asctime)s - %(name)s - %(levelname)s - %(message)s - %(funcName)s - %(lineno)d - UserID: %(user_id)s - SessionID: %(session_id)s')\n",
    "file_handler.setFormatter(formatter)\n",
    "    \n",
    "logger.addHandler(file_handler)\n",
    "    \n",
    "extra = {'user_id': 210669, 'session_id': 2}\n",
    "    \n",
    "\n",
    "logger.debug('This is a debug message', extra=extra)\n",
    "logger.info('This is an info message', extra=extra)\n",
    "logger.warning('This is a warning message', extra=extra)\n",
    "logger.error('This is an error message', extra=extra)\n",
    "logger.critical('This is a critical message', extra=extra)"
   ]
  },
  {
   "cell_type": "code",
   "execution_count": null,
   "metadata": {},
   "outputs": [],
   "source": []
  }
 ],
 "metadata": {
  "kernelspec": {
   "display_name": "myenv",
   "language": "python",
   "name": "python3"
  },
  "language_info": {
   "codemirror_mode": {
    "name": "ipython",
    "version": 3
   },
   "file_extension": ".py",
   "mimetype": "text/x-python",
   "name": "python",
   "nbconvert_exporter": "python",
   "pygments_lexer": "ipython3",
   "version": "3.12.7"
  }
 },
 "nbformat": 4,
 "nbformat_minor": 2
}
