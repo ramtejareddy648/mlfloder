{
 "cells": [
  {
   "cell_type": "code",
   "execution_count": 10,
   "metadata": {},
   "outputs": [
    {
     "name": "stdout",
     "output_type": "stream",
     "text": [
      "hvfuvvnd n'\n",
      "this reddy \n",
      "from cse\n"
     ]
    }
   ],
   "source": [
    "with open('example.txt','r') as file:\n",
    "    content=file.read()\n",
    "    print(content)\n",
    "    file.seek(0)\n"
   ]
  },
  {
   "cell_type": "code",
   "execution_count": 11,
   "metadata": {},
   "outputs": [
    {
     "name": "stdout",
     "output_type": "stream",
     "text": [
      "hvfuvvnd n'\n",
      "this reddy\n",
      "from cse\n"
     ]
    }
   ],
   "source": [
    "with open('example.txt','r') as file:\n",
    "    for line in file:\n",
    "        print(line.strip())"
   ]
  },
  {
   "cell_type": "code",
   "execution_count": 12,
   "metadata": {},
   "outputs": [],
   "source": [
    "## file writting\n",
    "with open('example.txt',\"w\") as file :\n",
    "    file.write(\"hello\\n\")"
   ]
  },
  {
   "cell_type": "code",
   "execution_count": 20,
   "metadata": {},
   "outputs": [],
   "source": [
    "## file writting without overwrite use append method\n",
    "with open('example.txt',\"a\") as file :\n",
    "    file.write(\"hi this reddy\\n\")"
   ]
  },
  {
   "cell_type": "code",
   "execution_count": 19,
   "metadata": {},
   "outputs": [],
   "source": [
    "lines=['ram\\n','mani\\n','mohith\\n','srinu\\n']\n",
    "with open('example.txt','a') as file:\n",
    "    for line in lines:\n",
    "        file.write(line)\n",
    "        "
   ]
  },
  {
   "cell_type": "code",
   "execution_count": 18,
   "metadata": {},
   "outputs": [],
   "source": [
    "## writting in binary file\n",
    "x=b'\\x00\\x01\\x02\\x03\\x04'\n",
    "with open('example.txt','ab') as file:\n",
    "    file.write(x)"
   ]
  },
  {
   "cell_type": "code",
   "execution_count": 23,
   "metadata": {},
   "outputs": [
    {
     "name": "stdout",
     "output_type": "stream",
     "text": [
      "b'\\x00\\x01\\x02\\x03\\x04\\x00\\x01\\x02\\x03\\x04ram\\r\\nmani\\r\\nmohith\\r\\nsrinu\\r\\nhi this reddy\\r\\n'\n"
     ]
    }
   ],
   "source": [
    "with open('example.txt','rb') as file:\n",
    "    \n",
    "   content=file.read()\n",
    "   print(content)"
   ]
  },
  {
   "cell_type": "code",
   "execution_count": 25,
   "metadata": {},
   "outputs": [],
   "source": [
    "## copying from one file to another file\n",
    "with open('example.txt','r') as file:\n",
    "    content=file.read()\n",
    "    \n",
    "with open('dest.txt','w') as file:\n",
    "    file.write(content)\n",
    "\n"
   ]
  },
  {
   "cell_type": "code",
   "execution_count": 33,
   "metadata": {},
   "outputs": [
    {
     "name": "stdout",
     "output_type": "stream",
     "text": [
      "no of lines is 5\n",
      "no of word in file 7\n",
      "no of char in file 36\n"
     ]
    }
   ],
   "source": [
    "## conting lines words char in file\n",
    "with open(\"example.txt\",'r') as file:\n",
    "    lines=file.readlines()\n",
    "    print(f'no of lines is {len(lines)}')\n",
    "    print(f\"no of word in file {sum(len(lines1.split()) for lines1 in lines)}\")\n",
    "    print(f\"no of char in file {sum(len(lines1) for lines1 in lines)}\")"
   ]
  },
  {
   "cell_type": "code",
   "execution_count": 36,
   "metadata": {},
   "outputs": [
    {
     "name": "stdout",
     "output_type": "stream",
     "text": [
      "hameed\n",
      "kiran\n",
      "subhash\n",
      "\n"
     ]
    }
   ],
   "source": [
    "## write in file and read at a time \n",
    "with open('example.txt','w+') as file:\n",
    "    file.write(\"hameed\\n\")\n",
    "    file.write(\"kiran\\n\")\n",
    "    file.write(\"subhash\\n\")\n",
    "    \n",
    "    file.seek(0)\n",
    "    content=file.read()\n",
    "    print(content)"
   ]
  },
  {
   "cell_type": "code",
   "execution_count": null,
   "metadata": {},
   "outputs": [],
   "source": []
  }
 ],
 "metadata": {
  "kernelspec": {
   "display_name": "myenv",
   "language": "python",
   "name": "python3"
  },
  "language_info": {
   "codemirror_mode": {
    "name": "ipython",
    "version": 3
   },
   "file_extension": ".py",
   "mimetype": "text/x-python",
   "name": "python",
   "nbconvert_exporter": "python",
   "pygments_lexer": "ipython3",
   "version": "3.12.7"
  }
 },
 "nbformat": 4,
 "nbformat_minor": 2
}
