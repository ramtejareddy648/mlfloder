{
 "cells": [
  {
   "cell_type": "code",
   "execution_count": 5,
   "metadata": {},
   "outputs": [
    {
     "name": "stdout",
     "output_type": "stream",
     "text": [
      "5.0\n",
      "0.8939966636005579\n",
      "1.0\n",
      "1.5707963267948966\n"
     ]
    }
   ],
   "source": [
    "import math\n",
    "print(math.sqrt(25))\n",
    "print(math.sin(90))\n",
    "print(math.sin(math.radians(90)))\n",
    "print(math.radians(90))"
   ]
  },
  {
   "cell_type": "code",
   "execution_count": 14,
   "metadata": {},
   "outputs": [
    {
     "name": "stdout",
     "output_type": "stream",
     "text": [
      "2025-01-25 15:39:26.755103\n",
      "2025-01-25\n",
      "<attribute 'minute' of 'datetime.time' objects>\n"
     ]
    }
   ],
   "source": [
    "import datetime as dt\n",
    "print(dt.datetime.now())\n",
    "print(dt.date.today())\n",
    "\n"
   ]
  },
  {
   "cell_type": "code",
   "execution_count": 16,
   "metadata": {},
   "outputs": [
    {
     "name": "stdout",
     "output_type": "stream",
     "text": [
      "6\n",
      "2\n"
     ]
    }
   ],
   "source": [
    "from random import *\n",
    "print(randint(1,10))\n",
    "print(randrange(1,12))\n",
    "\n"
   ]
  },
  {
   "cell_type": "code",
   "execution_count": 18,
   "metadata": {},
   "outputs": [
    {
     "name": "stdout",
     "output_type": "stream",
     "text": [
      "5.0\n",
      "8.0\n"
     ]
    }
   ],
   "source": [
    "from math import sqrt,pow\n",
    "print(math.sqrt(25))\n",
    "print(math.pow(2,3))"
   ]
  },
  {
   "cell_type": "code",
   "execution_count": 19,
   "metadata": {},
   "outputs": [
    {
     "name": "stdout",
     "output_type": "stream",
     "text": [
      "exception is No module named 'reddy'\n"
     ]
    }
   ],
   "source": [
    "try:\n",
    "    import reddy\n",
    "except Exception as e:\n",
    "    print(f\"exception is {e}\")"
   ]
  },
  {
   "cell_type": "code",
   "execution_count": 20,
   "metadata": {},
   "outputs": [
    {
     "name": "stdout",
     "output_type": "stream",
     "text": [
      "None\n"
     ]
    }
   ],
   "source": [
    "import os\n",
    "print(os.rmdir('hello'))"
   ]
  },
  {
   "cell_type": "code",
   "execution_count": 22,
   "metadata": {},
   "outputs": [
    {
     "name": "stdout",
     "output_type": "stream",
     "text": [
      "python version is 3.12.7 | packaged by Anaconda, Inc. | (main, Oct  4 2024, 13:17:27) [MSC v.1929 64 bit (AMD64)]\n",
      "comand line is ['c:\\\\Users\\\\dell\\\\Documents\\\\code\\\\myenv\\\\Lib\\\\site-packages\\\\ipykernel_launcher.py', '--f=c:\\\\Users\\\\dell\\\\AppData\\\\Roaming\\\\jupyter\\\\runtime\\\\kernel-v3b7f938f59f282a0602cc5d24b0e8631dbe138fae.json']\n"
     ]
    }
   ],
   "source": [
    "import sys\n",
    "\n",
    "print(f'python version is {sys.version}')\n",
    "print(f\"comand line is {sys.argv}\")"
   ]
  },
  {
   "cell_type": "code",
   "execution_count": 25,
   "metadata": {},
   "outputs": [
    {
     "name": "stdout",
     "output_type": "stream",
     "text": [
      "2\n",
      "3628800\n"
     ]
    }
   ],
   "source": [
    "import math\n",
    "\n",
    "print(math.gcd(2,4))\n",
    "print(math.factorial(10))"
   ]
  },
  {
   "cell_type": "code",
   "execution_count": 32,
   "metadata": {},
   "outputs": [
    {
     "name": "stdout",
     "output_type": "stream",
     "text": [
      "2025-01-25\n",
      "2025-05-05\n",
      "Monday\n"
     ]
    }
   ],
   "source": [
    "import datetime\n",
    "today=datetime.date.today()\n",
    "print(today)\n",
    "\n",
    "last=today+datetime.timedelta(days=100)\n",
    "print(last)\n",
    "\n",
    "week=datetime.date(2020,2,3)\n",
    "print(week.strftime('%A'))"
   ]
  },
  {
   "cell_type": "code",
   "execution_count": 35,
   "metadata": {},
   "outputs": [
    {
     "name": "stdout",
     "output_type": "stream",
     "text": [
      "[34, 18, 44, 1, 27]\n",
      "[18, 37, 21, 34, 28]\n"
     ]
    }
   ],
   "source": [
    "import random\n",
    "ran=[random.randint(1,50) for i in range(1,6)]\n",
    "print(ran)\n",
    "\n",
    "ran1=[]\n",
    "for i in range(1,6):\n",
    "    ran1.append(random.randint(1,50))\n",
    "print(ran1)"
   ]
  },
  {
   "cell_type": "code",
   "execution_count": 36,
   "metadata": {},
   "outputs": [
    {
     "name": "stdout",
     "output_type": "stream",
     "text": [
      "[34, 21, 28, 37, 18]\n"
     ]
    }
   ],
   "source": [
    "random.shuffle(ran1)\n",
    "print(ran1)"
   ]
  },
  {
   "cell_type": "code",
   "execution_count": 37,
   "metadata": {},
   "outputs": [],
   "source": [
    "with open('example.txt','r') as file:\n",
    "    content=file.read()\n",
    "    new_content=content.replace('a',\"e\")\n",
    "with open('example.txt','w') as file:\n",
    "    file.write(new_content)"
   ]
  },
  {
   "cell_type": "code",
   "execution_count": 40,
   "metadata": {},
   "outputs": [
    {
     "name": "stdout",
     "output_type": "stream",
     "text": [
      "\n",
      "hsehbus\n",
      "nerik\n",
      "deemeh"
     ]
    }
   ],
   "source": [
    "with open('example.txt','r') as file:\n",
    "    content=file.read()\n",
    "    for lines in reversed(content):\n",
    "        print(lines ,end=\"\")"
   ]
  },
  {
   "cell_type": "code",
   "execution_count": 44,
   "metadata": {},
   "outputs": [],
   "source": [
    "list1=['example.txt','example2.txt']\n",
    "with open('example1.txt','a') as merge_file:\n",
    "    for line in list1:\n",
    "        with open(line,'r') as input_file:\n",
    "           content=input_file.read()\n",
    "           merge_file.write(content)"
   ]
  },
  {
   "cell_type": "code",
   "execution_count": 51,
   "metadata": {},
   "outputs": [
    {
     "name": "stdout",
     "output_type": "stream",
     "text": [
      "2025-01-25 16:37:48.958566\n"
     ]
    }
   ],
   "source": [
    "import datetime\n",
    "timestamp=datetime.datetime.now()\n",
    "print(timestamp)\n",
    "content=\"this is timestamp\"\n",
    "\n",
    "with open('ex.log','a') as file:\n",
    "    file.write(f\"[{timestamp}] {content}\")\n"
   ]
  },
  {
   "cell_type": "code",
   "execution_count": null,
   "metadata": {},
   "outputs": [],
   "source": []
  }
 ],
 "metadata": {
  "kernelspec": {
   "display_name": "myenv",
   "language": "python",
   "name": "python3"
  },
  "language_info": {
   "codemirror_mode": {
    "name": "ipython",
    "version": 3
   },
   "file_extension": ".py",
   "mimetype": "text/x-python",
   "name": "python",
   "nbconvert_exporter": "python",
   "pygments_lexer": "ipython3",
   "version": "3.12.7"
  }
 },
 "nbformat": 4,
 "nbformat_minor": 2
}
