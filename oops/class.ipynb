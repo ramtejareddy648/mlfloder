{
 "cells": [
  {
   "cell_type": "code",
   "execution_count": 5,
   "metadata": {},
   "outputs": [
    {
     "name": "stdout",
     "output_type": "stream",
     "text": [
      "reddy\n"
     ]
    }
   ],
   "source": [
    "## creating a class\n",
    "class Car:\n",
    "    def __init__(self,name):\n",
    "        self.name=name\n",
    "        \n",
    "        \n",
    "car1=Car(\"reddy\")\n",
    "print(car1.name)\n",
    "\n"
   ]
  },
  {
   "cell_type": "code",
   "execution_count": 12,
   "metadata": {},
   "outputs": [
    {
     "name": "stdout",
     "output_type": "stream",
     "text": [
      "reddy\n",
      "name is reddy\n"
     ]
    }
   ],
   "source": [
    "##instance meythod\n",
    "class Car:\n",
    "    def __init__(self,name):\n",
    "        self.name=name\n",
    "    \n",
    "    def sound(self):\n",
    "        print(f\"name is {self.name}\")\n",
    "        \n",
    "        \n",
    "car1=Car(\"reddy\")\n",
    "print(car1.name)\n",
    "car1.sound()\n"
   ]
  },
  {
   "cell_type": "code",
   "execution_count": 13,
   "metadata": {},
   "outputs": [],
   "source": [
    "class Bank:\n",
    "    def __init__(self,name,balance):\n",
    "        self.name=name\n",
    "        self.balance=balance\n",
    "    \n",
    "    \n",
    "    def deposite(self,amount):\n",
    "        self.amount=amount\n",
    "        self.balance+=amount\n",
    "        print(f'you deposited amount is {amount}')\n",
    "        print(f\"your new balance is {self.balance}\")\n",
    "    \n",
    "    \n",
    "    def withdraw(self,amount):\n",
    "        self.amount=amount\n",
    "        self.balance-=amount\n",
    "        print(f\"your withdraw amount is {amount}\")\n",
    "        print(f\"your current balance is {self.balance}\")\n",
    "    def get_balance(self):\n",
    "          return self.balance\n",
    "      \n",
    "      \n",
    "bank1=Bank(\"ram\",3000)"
   ]
  },
  {
   "cell_type": "code",
   "execution_count": 14,
   "metadata": {},
   "outputs": [
    {
     "name": "stdout",
     "output_type": "stream",
     "text": [
      "you deposited amount is 500\n",
      "your new balance is 3500\n"
     ]
    }
   ],
   "source": [
    "## desposite 500 \n",
    "\n",
    "bank1.deposite(500)"
   ]
  },
  {
   "cell_type": "code",
   "execution_count": 15,
   "metadata": {},
   "outputs": [
    {
     "name": "stdout",
     "output_type": "stream",
     "text": [
      "your withdraw amount is 1500\n",
      "your current balance is 2000\n"
     ]
    }
   ],
   "source": [
    "## withdraw 1500\n",
    "bank1.withdraw(1500)"
   ]
  },
  {
   "cell_type": "code",
   "execution_count": 19,
   "metadata": {},
   "outputs": [],
   "source": [
    "##inheritance\n",
    "\n",
    "\n",
    "#parent class\n",
    "\n",
    "class Car1:\n",
    "    \n",
    "    \n",
    "    def __init__(self,doors,window,enginetype):\n",
    "        self.doors=doors\n",
    "        self.window=window\n",
    "        self.enginetype=enginetype\n",
    "    \n",
    "    def engine(self):\n",
    "        print(f\"enginetype is {self.enginetype}\")\n",
    "        \n",
    "        \n",
    "car2=Car1(5,4,\"petrol\")\n",
    "    "
   ]
  },
  {
   "cell_type": "code",
   "execution_count": 29,
   "metadata": {},
   "outputs": [
    {
     "name": "stdout",
     "output_type": "stream",
     "text": [
      "drive Type is self\n",
      "enginetype is petrol\n"
     ]
    }
   ],
   "source": [
    "## single inheritance\n",
    "class Tata(Car1):\n",
    "    def __init__(self, doors, window, enginetype,drivetype):\n",
    "        super().__init__(doors, window, enginetype)\n",
    "        self.drivetype=drivetype\n",
    "    \n",
    "    \n",
    "    def drive(self):\n",
    "        print(f\"drive Type is {self.drivetype}\")\n",
    "\n",
    "\n",
    "tata1=Tata(4,5,\"petrol\",\"self\")\n",
    "tata1.drive()\n",
    "\n",
    "tata1.engine()\n"
   ]
  },
  {
   "cell_type": "code",
   "execution_count": 36,
   "metadata": {},
   "outputs": [
    {
     "name": "stdout",
     "output_type": "stream",
     "text": [
      "animal name is hameed\n",
      "animal age is 23\n"
     ]
    }
   ],
   "source": [
    "## muitiple inheritance\n",
    "\n",
    "class Animal:\n",
    "    def __init__(self,name):\n",
    "        \n",
    "        self.name=name\n",
    "    \n",
    "    \n",
    "    def speak(self):\n",
    "        print(f\"animal name is {self.name}\")\n",
    "    \n",
    "class Pet:\n",
    "    def __init__(self,age):\n",
    "        \n",
    "        self.age=age\n",
    "    \n",
    "    \n",
    "    def speak(self):\n",
    "        print(f\"animal age is {self.age}\")\n",
    "\n",
    "\n",
    "class Cat(Animal,Pet):\n",
    "    def __init__(self, name,age):\n",
    "        Animal.__init__(self,name)\n",
    "        Pet.__init__(self,age)\n",
    "    \n",
    "    \n",
    "    def speak(self):\n",
    "        print(f\"animal name is {self.name}\")\n",
    "        print(f\"animal age is {self.age}\")\n",
    "\n",
    "\n",
    "cat1=Cat(\"hameed\",23)\n",
    "cat1.speak()"
   ]
  },
  {
   "cell_type": "markdown",
   "metadata": {},
   "source": [
    "##"
   ]
  },
  {
   "cell_type": "code",
   "execution_count": 40,
   "metadata": {},
   "outputs": [
    {
     "name": "stdout",
     "output_type": "stream",
     "text": [
      "bus is start\n",
      "van is start\n"
     ]
    }
   ],
   "source": [
    "##polymorphism\n",
    "## polymorphism with abstract \n",
    "\n",
    "from abc import ABC,abstractmethod\n",
    "\n",
    "class school(ABC):\n",
    "    @abstractmethod\n",
    "    def start(self):\n",
    "        pass\n",
    "\n",
    "\n",
    "class bus(school):\n",
    "    def start(self):\n",
    "        return \"bus is start\" \n",
    "\n",
    "class van(school):\n",
    "    def start(self):\n",
    "        return \"van is start\"\n",
    "\n",
    "\n",
    "\n",
    "def type1(vehicle):\n",
    "    print(vehicle.start())\n",
    "\n",
    "\n",
    "bus1=bus()\n",
    "van1=van() \n",
    "type1(bus1)\n",
    "type1(van1)\n",
    "    "
   ]
  },
  {
   "cell_type": "code",
   "execution_count": 9,
   "metadata": {},
   "outputs": [
    {
     "name": "stdout",
     "output_type": "stream",
     "text": [
      "20\n"
     ]
    },
    {
     "ename": "AttributeError",
     "evalue": "'person' object has no attribute 'addr1'",
     "output_type": "error",
     "traceback": [
      "\u001b[1;31m---------------------------------------------------------------------------\u001b[0m",
      "\u001b[1;31mAttributeError\u001b[0m                            Traceback (most recent call last)",
      "Cell \u001b[1;32mIn[9], line 19\u001b[0m\n\u001b[0;32m     17\u001b[0m person1\u001b[38;5;241m=\u001b[39mperson(\u001b[38;5;124m\"\u001b[39m\u001b[38;5;124mram\u001b[39m\u001b[38;5;124m\"\u001b[39m,\u001b[38;5;241m20\u001b[39m,addr1)\n\u001b[0;32m     18\u001b[0m \u001b[38;5;28mprint\u001b[39m(person1\u001b[38;5;241m.\u001b[39mage)\n\u001b[1;32m---> 19\u001b[0m \u001b[38;5;28mprint\u001b[39m(\u001b[43mperson1\u001b[49m\u001b[38;5;241;43m.\u001b[39;49m\u001b[43maddr1\u001b[49m\u001b[38;5;241m.\u001b[39mcity)\n",
      "\u001b[1;31mAttributeError\u001b[0m: 'person' object has no attribute 'addr1'"
     ]
    }
   ],
   "source": [
    "class addr:\n",
    "    def __init__(self,street,city,zipcode):\n",
    "        self.street=street\n",
    "        self.city=city\n",
    "        self.zipcode=zipcode\n",
    "\n",
    "\n",
    "class person:\n",
    "    def __init__(self,name,age,address):\n",
    "        self.name=name\n",
    "        self.age=age\n",
    "        self.address=address\n",
    "\n",
    "\n",
    "\n",
    "addr1=addr(\"kadapa\",\"proddatur\",\"pagidala\")\n",
    "person1=person(\"ram\",20,addr1)\n",
    "print(person1.age)\n",
    "print(person1.addr1.city)"
   ]
  },
  {
   "cell_type": "code",
   "execution_count": null,
   "metadata": {},
   "outputs": [],
   "source": []
  },
  {
   "cell_type": "code",
   "execution_count": 16,
   "metadata": {},
   "outputs": [
    {
     "name": "stdout",
     "output_type": "stream",
     "text": [
      "5.0\n"
     ]
    }
   ],
   "source": [
    "## static method \n",
    "\n",
    "import math\n",
    "\n",
    "class MathOPeration:\n",
    "    \n",
    "    @staticmethod\n",
    "    def sqrt1(x):\n",
    "       return math.sqrt(x)\n",
    "\n",
    "\n",
    "\n",
    "print(MathOPeration.sqrt1(25))"
   ]
  },
  {
   "cell_type": "code",
   "execution_count": 21,
   "metadata": {},
   "outputs": [
    {
     "name": "stdout",
     "output_type": "stream",
     "text": [
      "this is message from jogger class\n",
      "this message from walker class \n",
      "this is message from jogger class\n",
      "this message from runner class\n"
     ]
    }
   ],
   "source": [
    "class Walker:\n",
    "    def walk(self):\n",
    "        print(\"this message from walker class \")\n",
    "\n",
    "\n",
    "class Runner:\n",
    "    \n",
    "    def Run(self):\n",
    "        print(\"this message from runner class\")\n",
    "\n",
    "\n",
    "class Jogger(Walker,Runner):\n",
    "    def walk(self):\n",
    "        print(\"this is message from jogger class\")\n",
    "        super().walk()\n",
    "    \n",
    "    def Run(self):\n",
    "        print(\"this is message from jogger class\")\n",
    "        super().Run()\n",
    "    \n",
    "\n",
    "\n",
    "jogger=Jogger()\n",
    "jogger.walk()\n",
    "jogger.Run()\n",
    "        \n",
    "        "
   ]
  },
  {
   "cell_type": "code",
   "execution_count": 31,
   "metadata": {},
   "outputs": [
    {
     "name": "stdout",
     "output_type": "stream",
     "text": [
      "this is class D\n",
      "this is class B\n",
      "this is class C\n",
      "this is class A\n"
     ]
    }
   ],
   "source": [
    "class A:\n",
    "    def show(self):\n",
    "        print(\"this is class A\")\n",
    "\n",
    "\n",
    "class B(A):\n",
    "    def show(self):\n",
    "        print(\"this is class B\")\n",
    "        super().show()\n",
    "\n",
    "\n",
    "class C(A):\n",
    "    def show(self):\n",
    "        print(\"this is class C\")\n",
    "        super().show()\n",
    "\n",
    "class D(B,C):\n",
    "    def show(self):\n",
    "        print(\"this is class D\")\n",
    "        super().show()\n",
    "        \n",
    "\n",
    "\n",
    "d=D()\n",
    "d.show()\n"
   ]
  },
  {
   "cell_type": "code",
   "execution_count": 34,
   "metadata": {},
   "outputs": [
    {
     "name": "stdout",
     "output_type": "stream",
     "text": [
      "Engineer working...\n",
      "Doctor working...\n"
     ]
    }
   ],
   "source": [
    "from abc import ABC,abstractmethod\n",
    "\n",
    "class Worker(ABC):\n",
    "    @abstractmethod\n",
    "    def work(self):\n",
    "        pass\n",
    "\n",
    "class Engineer(Worker):\n",
    "    def work(self):\n",
    "        print(\"Engineer working...\")\n",
    "\n",
    "class Doctor(Worker):\n",
    "    def work(self):\n",
    "        print(\"Doctor working...\")\n",
    "\n",
    "class Scientist(Engineer, Doctor):\n",
    "    def work(self):\n",
    "        Engineer.work(self)\n",
    "        Doctor.work(self)\n",
    "\n",
    "# Test\n",
    "scientist = Scientist()\n",
    "scientist.work()"
   ]
  },
  {
   "cell_type": "code",
   "execution_count": 5,
   "metadata": {},
   "outputs": [],
   "source": [
    "list1=[ 1,2,3,4,5]"
   ]
  },
  {
   "cell_type": "code",
   "execution_count": 9,
   "metadata": {},
   "outputs": [
    {
     "data": {
      "text/plain": [
       "1"
      ]
     },
     "execution_count": 9,
     "metadata": {},
     "output_type": "execute_result"
    }
   ],
   "source": [
    "list2=iter(list1)\n",
    "next(list2)"
   ]
  },
  {
   "cell_type": "code",
   "execution_count": 18,
   "metadata": {},
   "outputs": [
    {
     "name": "stdout",
     "output_type": "stream",
     "text": [
      "\n"
     ]
    }
   ],
   "source": [
    "try:\n",
    "\n",
    "    print(next(list2))\n",
    "\n",
    "except Exception as e:\n",
    "    print(e)\n",
    "    \n"
   ]
  },
  {
   "cell_type": "code",
   "execution_count": 22,
   "metadata": {},
   "outputs": [
    {
     "name": "stdout",
     "output_type": "stream",
     "text": [
      "0\n",
      "1\n",
      "4\n"
     ]
    }
   ],
   "source": [
    "def square(n):\n",
    "    \n",
    "    \n",
    "    for i in range(n):\n",
    "        yield i**2\n",
    "    \n",
    "\n",
    "\n",
    "\n",
    "\n",
    "\n",
    "\n",
    "\n",
    "\n",
    "for i in square(3):\n",
    "    print(i)\n",
    "\n",
    "\n"
   ]
  },
  {
   "cell_type": "code",
   "execution_count": 27,
   "metadata": {},
   "outputs": [
    {
     "data": {
      "text/plain": [
       "0"
      ]
     },
     "execution_count": 27,
     "metadata": {},
     "output_type": "execute_result"
    }
   ],
   "source": [
    "def cube(n):\n",
    "    \n",
    "    \n",
    "    for i in range(n):\n",
    "        yield i**3\n",
    "\n",
    "\n",
    "\n",
    "\n",
    "a=cube(3)\n",
    "next(a)"
   ]
  },
  {
   "cell_type": "code",
   "execution_count": 31,
   "metadata": {},
   "outputs": [
    {
     "name": "stdout",
     "output_type": "stream",
     "text": [
      "list out of size\n"
     ]
    }
   ],
   "source": [
    "try:\n",
    "\n",
    "    print(next(a))\n",
    "except Exception as e:\n",
    "    print(\"list out of size\")"
   ]
  },
  {
   "cell_type": "code",
   "execution_count": 2,
   "metadata": {},
   "outputs": [
    {
     "name": "stdout",
     "output_type": "stream",
     "text": [
      "1\n",
      "2\n",
      "3\n",
      "4\n"
     ]
    }
   ],
   "source": [
    "class ram:\n",
    "    def __init__(self,start,end):\n",
    "        self.start=start\n",
    "        self.end=end\n",
    "        \n",
    "    def __iter__(self):\n",
    "        return self\n",
    "    \n",
    "    def __next__(self):\n",
    "        if self.start >= self.end:\n",
    "            raise StopIteration\n",
    "        else:\n",
    "            self.start += 1\n",
    "            return self.start - 1\n",
    "        \n",
    "     \n",
    "\n",
    "\n",
    "\n",
    "for i in ram(1,5):\n",
    "    print(i)   "
   ]
  },
  {
   "cell_type": "code",
   "execution_count": null,
   "metadata": {},
   "outputs": [],
   "source": []
  },
  {
   "cell_type": "code",
   "execution_count": null,
   "metadata": {},
   "outputs": [],
   "source": []
  }
 ],
 "metadata": {
  "kernelspec": {
   "display_name": "myenv",
   "language": "python",
   "name": "python3"
  },
  "language_info": {
   "codemirror_mode": {
    "name": "ipython",
    "version": 3
   },
   "file_extension": ".py",
   "mimetype": "text/x-python",
   "name": "python",
   "nbconvert_exporter": "python",
   "pygments_lexer": "ipython3",
   "version": "3.12.7"
  }
 },
 "nbformat": 4,
 "nbformat_minor": 2
}
