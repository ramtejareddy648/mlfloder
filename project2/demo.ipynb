{
 "cells": [
  {
   "cell_type": "code",
   "execution_count": 271,
   "metadata": {},
   "outputs": [],
   "source": [
    "import pandas as pd\n",
    "import numpy as np"
   ]
  },
  {
   "cell_type": "code",
   "execution_count": 272,
   "metadata": {},
   "outputs": [],
   "source": [
    "df=pd.read_csv('Cardetails.csv')"
   ]
  },
  {
   "cell_type": "code",
   "execution_count": 273,
   "metadata": {},
   "outputs": [
    {
     "data": {
      "text/html": [
       "<div>\n",
       "<style scoped>\n",
       "    .dataframe tbody tr th:only-of-type {\n",
       "        vertical-align: middle;\n",
       "    }\n",
       "\n",
       "    .dataframe tbody tr th {\n",
       "        vertical-align: top;\n",
       "    }\n",
       "\n",
       "    .dataframe thead th {\n",
       "        text-align: right;\n",
       "    }\n",
       "</style>\n",
       "<table border=\"1\" class=\"dataframe\">\n",
       "  <thead>\n",
       "    <tr style=\"text-align: right;\">\n",
       "      <th></th>\n",
       "      <th>name</th>\n",
       "      <th>year</th>\n",
       "      <th>selling_price</th>\n",
       "      <th>km_driven</th>\n",
       "      <th>fuel</th>\n",
       "      <th>seller_type</th>\n",
       "      <th>transmission</th>\n",
       "      <th>owner</th>\n",
       "      <th>mileage</th>\n",
       "      <th>engine</th>\n",
       "      <th>max_power</th>\n",
       "      <th>torque</th>\n",
       "      <th>seats</th>\n",
       "    </tr>\n",
       "  </thead>\n",
       "  <tbody>\n",
       "    <tr>\n",
       "      <th>0</th>\n",
       "      <td>Maruti Swift Dzire VDI</td>\n",
       "      <td>2014</td>\n",
       "      <td>450000</td>\n",
       "      <td>145500</td>\n",
       "      <td>Diesel</td>\n",
       "      <td>Individual</td>\n",
       "      <td>Manual</td>\n",
       "      <td>First Owner</td>\n",
       "      <td>23.4 kmpl</td>\n",
       "      <td>1248 CC</td>\n",
       "      <td>74 bhp</td>\n",
       "      <td>190Nm@ 2000rpm</td>\n",
       "      <td>5.0</td>\n",
       "    </tr>\n",
       "    <tr>\n",
       "      <th>1</th>\n",
       "      <td>Skoda Rapid 1.5 TDI Ambition</td>\n",
       "      <td>2014</td>\n",
       "      <td>370000</td>\n",
       "      <td>120000</td>\n",
       "      <td>Diesel</td>\n",
       "      <td>Individual</td>\n",
       "      <td>Manual</td>\n",
       "      <td>Second Owner</td>\n",
       "      <td>21.14 kmpl</td>\n",
       "      <td>1498 CC</td>\n",
       "      <td>103.52 bhp</td>\n",
       "      <td>250Nm@ 1500-2500rpm</td>\n",
       "      <td>5.0</td>\n",
       "    </tr>\n",
       "    <tr>\n",
       "      <th>2</th>\n",
       "      <td>Honda City 2017-2020 EXi</td>\n",
       "      <td>2006</td>\n",
       "      <td>158000</td>\n",
       "      <td>140000</td>\n",
       "      <td>Petrol</td>\n",
       "      <td>Individual</td>\n",
       "      <td>Manual</td>\n",
       "      <td>Third Owner</td>\n",
       "      <td>17.7 kmpl</td>\n",
       "      <td>1497 CC</td>\n",
       "      <td>78 bhp</td>\n",
       "      <td>12.7@ 2,700(kgm@ rpm)</td>\n",
       "      <td>5.0</td>\n",
       "    </tr>\n",
       "    <tr>\n",
       "      <th>3</th>\n",
       "      <td>Hyundai i20 Sportz Diesel</td>\n",
       "      <td>2010</td>\n",
       "      <td>225000</td>\n",
       "      <td>127000</td>\n",
       "      <td>Diesel</td>\n",
       "      <td>Individual</td>\n",
       "      <td>Manual</td>\n",
       "      <td>First Owner</td>\n",
       "      <td>23.0 kmpl</td>\n",
       "      <td>1396 CC</td>\n",
       "      <td>90 bhp</td>\n",
       "      <td>22.4 kgm at 1750-2750rpm</td>\n",
       "      <td>5.0</td>\n",
       "    </tr>\n",
       "    <tr>\n",
       "      <th>4</th>\n",
       "      <td>Maruti Swift VXI BSIII</td>\n",
       "      <td>2007</td>\n",
       "      <td>130000</td>\n",
       "      <td>120000</td>\n",
       "      <td>Petrol</td>\n",
       "      <td>Individual</td>\n",
       "      <td>Manual</td>\n",
       "      <td>First Owner</td>\n",
       "      <td>16.1 kmpl</td>\n",
       "      <td>1298 CC</td>\n",
       "      <td>88.2 bhp</td>\n",
       "      <td>11.5@ 4,500(kgm@ rpm)</td>\n",
       "      <td>5.0</td>\n",
       "    </tr>\n",
       "  </tbody>\n",
       "</table>\n",
       "</div>"
      ],
      "text/plain": [
       "                           name  year  selling_price  km_driven    fuel  \\\n",
       "0        Maruti Swift Dzire VDI  2014         450000     145500  Diesel   \n",
       "1  Skoda Rapid 1.5 TDI Ambition  2014         370000     120000  Diesel   \n",
       "2      Honda City 2017-2020 EXi  2006         158000     140000  Petrol   \n",
       "3     Hyundai i20 Sportz Diesel  2010         225000     127000  Diesel   \n",
       "4        Maruti Swift VXI BSIII  2007         130000     120000  Petrol   \n",
       "\n",
       "  seller_type transmission         owner     mileage   engine   max_power  \\\n",
       "0  Individual       Manual   First Owner   23.4 kmpl  1248 CC      74 bhp   \n",
       "1  Individual       Manual  Second Owner  21.14 kmpl  1498 CC  103.52 bhp   \n",
       "2  Individual       Manual   Third Owner   17.7 kmpl  1497 CC      78 bhp   \n",
       "3  Individual       Manual   First Owner   23.0 kmpl  1396 CC      90 bhp   \n",
       "4  Individual       Manual   First Owner   16.1 kmpl  1298 CC    88.2 bhp   \n",
       "\n",
       "                     torque  seats  \n",
       "0            190Nm@ 2000rpm    5.0  \n",
       "1       250Nm@ 1500-2500rpm    5.0  \n",
       "2     12.7@ 2,700(kgm@ rpm)    5.0  \n",
       "3  22.4 kgm at 1750-2750rpm    5.0  \n",
       "4     11.5@ 4,500(kgm@ rpm)    5.0  "
      ]
     },
     "execution_count": 273,
     "metadata": {},
     "output_type": "execute_result"
    }
   ],
   "source": [
    "df.head()"
   ]
  },
  {
   "cell_type": "code",
   "execution_count": 274,
   "metadata": {},
   "outputs": [
    {
     "data": {
      "text/plain": [
       "name               0\n",
       "year               0\n",
       "selling_price      0\n",
       "km_driven          0\n",
       "fuel               0\n",
       "seller_type        0\n",
       "transmission       0\n",
       "owner              0\n",
       "mileage          221\n",
       "engine           221\n",
       "max_power        215\n",
       "torque           222\n",
       "seats            221\n",
       "dtype: int64"
      ]
     },
     "execution_count": 274,
     "metadata": {},
     "output_type": "execute_result"
    }
   ],
   "source": [
    "df.isnull().sum()"
   ]
  },
  {
   "cell_type": "code",
   "execution_count": 275,
   "metadata": {},
   "outputs": [
    {
     "data": {
      "text/plain": [
       "array(['23.4 kmpl', '21.14 kmpl', '17.7 kmpl', '23.0 kmpl', '16.1 kmpl',\n",
       "       '20.14 kmpl', '17.3 km/kg', '23.59 kmpl', '20.0 kmpl',\n",
       "       '19.01 kmpl', '17.3 kmpl', '19.3 kmpl', nan, '18.9 kmpl',\n",
       "       '18.15 kmpl', '24.52 kmpl', '19.7 kmpl', '22.54 kmpl', '21.0 kmpl',\n",
       "       '25.5 kmpl', '26.59 kmpl', '21.5 kmpl', '20.3 kmpl', '21.4 kmpl',\n",
       "       '24.7 kmpl', '18.2 kmpl', '16.8 kmpl', '24.3 kmpl', '14.0 kmpl',\n",
       "       '18.6 kmpl', '33.44 km/kg', '23.95 kmpl', '17.0 kmpl',\n",
       "       '20.63 kmpl', '13.93 kmpl', '16.0 kmpl', '17.8 kmpl', '18.5 kmpl',\n",
       "       '12.55 kmpl', '12.99 kmpl', '14.8 kmpl', '13.5 kmpl', '26.0 kmpl',\n",
       "       '20.65 kmpl', '27.3 kmpl', '11.36 kmpl', '17.68 kmpl',\n",
       "       '14.28 kmpl', '18.53 kmpl', '14.84 kmpl', '21.12 kmpl',\n",
       "       '20.36 kmpl', '21.27 kmpl', '18.16 kmpl', '22.0 kmpl', '25.1 kmpl',\n",
       "       '20.51 kmpl', '21.66 kmpl', '25.2 kmpl', '22.9 kmpl', '16.02 kmpl',\n",
       "       '20.54 kmpl', '22.77 kmpl', '15.71 kmpl', '23.1 kmpl',\n",
       "       '19.02 kmpl', '19.81 kmpl', '26.2 km/kg', '16.47 kmpl',\n",
       "       '15.04 kmpl', '19.1 kmpl', '21.79 kmpl', '18.8 kmpl', '21.21 kmpl',\n",
       "       '15.37 kmpl', '11.79 kmpl', '19.0 kmpl', '14.3 kmpl', '15.8 kmpl',\n",
       "       '15.1 kmpl', '19.09 kmpl', '22.32 kmpl', '21.9 kmpl', '14.53 kmpl',\n",
       "       '21.63 kmpl', '20.85 kmpl', '20.45 kmpl', '19.67 kmpl',\n",
       "       '23.01 kmpl', '20.77 kmpl', '17.92 kmpl', '17.01 kmpl',\n",
       "       '22.37 kmpl', '19.33 kmpl', '9.5 kmpl', '12.83 kmpl', '22.48 kmpl',\n",
       "       '16.78 kmpl', '14.67 kmpl', '15.0 kmpl', '13.96 kmpl', '18.0 kmpl',\n",
       "       '12.07 kmpl', '26.21 kmpl', '10.8 kmpl', '16.3 kmpl', '13.6 kmpl',\n",
       "       '14.74 kmpl', '15.6 kmpl', '19.56 kmpl', '22.69 kmpl',\n",
       "       '19.16 kmpl', '18.12 kmpl', '12.1 kmpl', '17.5 kmpl', '42.0 kmpl',\n",
       "       '20.4 kmpl', '21.1 kmpl', '19.44 kmpl', '13.0 kmpl', '21.43 kmpl',\n",
       "       '22.95 kmpl', '16.2 kmpl', '15.3 kmpl', '28.09 kmpl', '17.4 kmpl',\n",
       "       '19.4 kmpl', '26.6 km/kg', '17.6 kmpl', '28.4 kmpl', '14.1 kmpl',\n",
       "       '25.17 kmpl', '22.74 kmpl', '17.57 kmpl', '16.95 kmpl',\n",
       "       '19.49 kmpl', '17.21 kmpl', '13.2 kmpl', '14.2 kmpl', '26.8 kmpl',\n",
       "       '25.4 kmpl', '11.5 kmpl', '27.28 kmpl', '17.97 kmpl', '12.8 kmpl',\n",
       "       '16.55 kmpl', '12.05 kmpl', '14.07 kmpl', '21.02 kmpl',\n",
       "       '11.57 kmpl', '17.9 kmpl', '15.96 kmpl', '17.1 kmpl', '17.19 kmpl',\n",
       "       '21.01 kmpl', '24.0 kmpl', '25.6 kmpl', '21.38 kmpl', '23.84 kmpl',\n",
       "       '23.08 kmpl', '14.24 kmpl', '20.71 kmpl', '15.64 kmpl',\n",
       "       '14.5 kmpl', '16.34 kmpl', '27.39 kmpl', '11.1 kmpl', '13.9 kmpl',\n",
       "       '20.88 km/kg', '20.92 kmpl', '23.8 kmpl', '24.4 kmpl',\n",
       "       '15.29 kmpl', '21.19 kmpl', '22.5 kmpl', '19.6 kmpl', '23.65 kmpl',\n",
       "       '25.32 kmpl', '23.5 kmpl', '16.6 kmpl', '23.9 kmpl', '20.8 kmpl',\n",
       "       '27.62 kmpl', '12.9 kmpl', '25.44 kmpl', '17.88 kmpl', '22.7 kmpl',\n",
       "       '17.2 kmpl', '15.42 kmpl', '19.68 kmpl', '18.7 kmpl', '15.4 kmpl',\n",
       "       '19.34 kmpl', '22.71 kmpl', '25.8 kmpl', '13.7 kmpl', '12.2 kmpl',\n",
       "       '18.49 kmpl', '9.0 kmpl', '0.0 kmpl', '13.58 kmpl', '10.1 kmpl',\n",
       "       '20.5 kmpl', '25.0 kmpl', '10.5 kmpl', '22.07 kmpl', '22.3 kmpl',\n",
       "       '15.26 kmpl', '20.62 kmpl', '27.4 kmpl', '23.2 kmpl', '14.4 kmpl',\n",
       "       '18.4 kmpl', '30.46 km/kg', '14.02 kmpl', '11.0 kmpl', '20.6 kmpl',\n",
       "       '22.05 kmpl', '20.2 kmpl', '18.1 kmpl', '22.1 kmpl', '19.87 kmpl',\n",
       "       '13.01 kmpl', '18.06 kmpl', '26.1 kmpl', '16.52 kmpl',\n",
       "       '13.55 kmpl', '24.2 kmpl', '25.83 kmpl', '11.2 kmpl', '17.09 kmpl',\n",
       "       '21.03 kmpl', '17.45 kmpl', '21.64 kmpl', '21.94 km/kg',\n",
       "       '13.87 kmpl', '19.98 kmpl', '20.52 kmpl', '23.57 kmpl',\n",
       "       '11.7 kmpl', '17.43 kmpl', '18.88 kmpl', '13.68 kmpl',\n",
       "       '11.18 kmpl', '20.89 kmpl', '11.8 kmpl', '19.62 kmpl', '21.7 kmpl',\n",
       "       '14.9 kmpl', '19.5 kmpl', '10.91 kmpl', '15.7 kmpl', '20.73 kmpl',\n",
       "       '15.85 kmpl', '20.7 kmpl', '14.23 kmpl', '16.5 kmpl', '17.36 kmpl',\n",
       "       '12.6 kmpl', '16.36 kmpl', '14.95 kmpl', '16.9 kmpl', '19.2 kmpl',\n",
       "       '16.96 kmpl', '22.15 kmpl', '18.78 kmpl', '19.61 kmpl',\n",
       "       '17.71 kmpl', '18.3 kmpl', '19.12 kmpl', '19.72 kmpl', '12.0 kmpl',\n",
       "       '11.4 kmpl', '23.03 kmpl', '11.07 kmpl', '15.9 kmpl', '17.67 kmpl',\n",
       "       '20.46 kmpl', '13.1 kmpl', '13.45 km/kg', '24.8 kmpl',\n",
       "       '15.73 kmpl', '15.11 kmpl', '12.7 kmpl', '21.2 kmpl', '20.38 kmpl',\n",
       "       '21.56 kmpl', '13.22 kmpl', '14.49 kmpl', '15.05 kmpl',\n",
       "       '23.26 kmpl', '15.41 kmpl', '13.8 kmpl', '22.27 kmpl',\n",
       "       '32.52 km/kg', '14.66 kmpl', '12.12 kmpl', '16.84 kmpl',\n",
       "       '14.09 kmpl', '14.7 kmpl', '13.4 kmpl', '15.5 kmpl', '13.49 kmpl',\n",
       "       '11.88 km/kg', '14.6 kmpl', '10.75 kmpl', '24.5 kmpl',\n",
       "       '11.74 kmpl', '16.07 kmpl', '15.63 kmpl', '26.3 km/kg',\n",
       "       '23.7 km/kg', '25.47 kmpl', '17.05 kmpl', '23.3 kmpl', '11.9 kmpl',\n",
       "       '13.38 kmpl', '20.86 kmpl', '19.2 km/kg', '10.9 kmpl',\n",
       "       '18.25 kmpl', '15.2 kmpl', '20.37 kmpl', '17.8 km/kg', '21.8 kmpl',\n",
       "       '11.96 kmpl', '24.04 kmpl', '19.69 kmpl', '13.73 kmpl',\n",
       "       '21.04 kmpl', '25.01 kmpl', '10.93 kmpl', '10.9 km/kg',\n",
       "       '24.29 kmpl', '13.44 kmpl', '20.07 kmpl', '21.1 km/kg',\n",
       "       '19.08 kmpl', '20.34 kmpl', '11.68 kmpl', '12.5 kmpl', '12.3 kmpl',\n",
       "       '23.87 kmpl', '16.38 kmpl', '17.42 kmpl', '10.0 kmpl',\n",
       "       '18.24 kmpl', '10.71 kmpl', '19.59 kmpl', '16.7 kmpl',\n",
       "       '19.83 kmpl', '21.76 kmpl', '16.05 kmpl', '20.28 kmpl',\n",
       "       '16.25 kmpl', '16.73 kmpl', '18.48 kmpl', '13.2 km/kg',\n",
       "       '21.4 km/kg', '14.99 kmpl', '18.76 kmpl', '16.4 kmpl',\n",
       "       '19.64 kmpl', '14.94 kmpl', '16.6 km/kg', '16.0 km/kg',\n",
       "       '17.11 kmpl', '22.8 km/kg', '32.26 km/kg', '33.0 km/kg',\n",
       "       '12.4 kmpl', '18.44 kmpl', '16.09 kmpl', '19.0 km/kg',\n",
       "       '12.62 kmpl', '21.13 kmpl', '15.17 kmpl', '21.73 kmpl',\n",
       "       '21.72 kmpl', '12.85 kmpl', '14.81 kmpl', '13.24 kmpl',\n",
       "       '14.4 km/kg', '21.49 kmpl', '14.62 kmpl', '26.83 km/kg',\n",
       "       '11.45 kmpl', '12.08 kmpl', '15.74 kmpl', '11.3 kmpl',\n",
       "       '15.1 km/kg', '14.21 kmpl', '11.72 kmpl', '16.51 kmpl'],\n",
       "      dtype=object)"
      ]
     },
     "execution_count": 275,
     "metadata": {},
     "output_type": "execute_result"
    }
   ],
   "source": [
    "df['mileage'].unique()\n"
   ]
  },
  {
   "cell_type": "code",
   "execution_count": 276,
   "metadata": {},
   "outputs": [
    {
     "data": {
      "text/plain": [
       "mileage\n",
       "18.9 kmpl     225\n",
       "19.7 kmpl     173\n",
       "18.6 kmpl     164\n",
       "21.1 kmpl     157\n",
       "17.0 kmpl     133\n",
       "             ... \n",
       "12.5 kmpl       1\n",
       "23.87 kmpl      1\n",
       "16.38 kmpl      1\n",
       "11.72 kmpl      1\n",
       "16.51 kmpl      1\n",
       "Name: count, Length: 393, dtype: int64"
      ]
     },
     "execution_count": 276,
     "metadata": {},
     "output_type": "execute_result"
    }
   ],
   "source": [
    "df['mileage'].value_counts()"
   ]
  },
  {
   "cell_type": "code",
   "execution_count": 277,
   "metadata": {},
   "outputs": [],
   "source": [
    "df['mileage']=df['mileage'].str.split(' ').str[0]"
   ]
  },
  {
   "cell_type": "code",
   "execution_count": 278,
   "metadata": {},
   "outputs": [
    {
     "data": {
      "text/plain": [
       "0        23.4\n",
       "1       21.14\n",
       "2        17.7\n",
       "3        23.0\n",
       "4        16.1\n",
       "        ...  \n",
       "8123     18.5\n",
       "8124     16.8\n",
       "8125     19.3\n",
       "8126    23.57\n",
       "8127    23.57\n",
       "Name: mileage, Length: 8128, dtype: object"
      ]
     },
     "execution_count": 278,
     "metadata": {},
     "output_type": "execute_result"
    }
   ],
   "source": [
    "df['mileage']"
   ]
  },
  {
   "cell_type": "code",
   "execution_count": 279,
   "metadata": {},
   "outputs": [
    {
     "data": {
      "text/html": [
       "<div>\n",
       "<style scoped>\n",
       "    .dataframe tbody tr th:only-of-type {\n",
       "        vertical-align: middle;\n",
       "    }\n",
       "\n",
       "    .dataframe tbody tr th {\n",
       "        vertical-align: top;\n",
       "    }\n",
       "\n",
       "    .dataframe thead th {\n",
       "        text-align: right;\n",
       "    }\n",
       "</style>\n",
       "<table border=\"1\" class=\"dataframe\">\n",
       "  <thead>\n",
       "    <tr style=\"text-align: right;\">\n",
       "      <th></th>\n",
       "      <th>name</th>\n",
       "      <th>year</th>\n",
       "      <th>selling_price</th>\n",
       "      <th>km_driven</th>\n",
       "      <th>fuel</th>\n",
       "      <th>seller_type</th>\n",
       "      <th>transmission</th>\n",
       "      <th>owner</th>\n",
       "      <th>mileage</th>\n",
       "      <th>engine</th>\n",
       "      <th>max_power</th>\n",
       "      <th>torque</th>\n",
       "      <th>seats</th>\n",
       "    </tr>\n",
       "  </thead>\n",
       "  <tbody>\n",
       "    <tr>\n",
       "      <th>0</th>\n",
       "      <td>Maruti Swift Dzire VDI</td>\n",
       "      <td>2014</td>\n",
       "      <td>450000</td>\n",
       "      <td>145500</td>\n",
       "      <td>Diesel</td>\n",
       "      <td>Individual</td>\n",
       "      <td>Manual</td>\n",
       "      <td>First Owner</td>\n",
       "      <td>23.4</td>\n",
       "      <td>1248 CC</td>\n",
       "      <td>74 bhp</td>\n",
       "      <td>190Nm@ 2000rpm</td>\n",
       "      <td>5.0</td>\n",
       "    </tr>\n",
       "    <tr>\n",
       "      <th>1</th>\n",
       "      <td>Skoda Rapid 1.5 TDI Ambition</td>\n",
       "      <td>2014</td>\n",
       "      <td>370000</td>\n",
       "      <td>120000</td>\n",
       "      <td>Diesel</td>\n",
       "      <td>Individual</td>\n",
       "      <td>Manual</td>\n",
       "      <td>Second Owner</td>\n",
       "      <td>21.14</td>\n",
       "      <td>1498 CC</td>\n",
       "      <td>103.52 bhp</td>\n",
       "      <td>250Nm@ 1500-2500rpm</td>\n",
       "      <td>5.0</td>\n",
       "    </tr>\n",
       "    <tr>\n",
       "      <th>2</th>\n",
       "      <td>Honda City 2017-2020 EXi</td>\n",
       "      <td>2006</td>\n",
       "      <td>158000</td>\n",
       "      <td>140000</td>\n",
       "      <td>Petrol</td>\n",
       "      <td>Individual</td>\n",
       "      <td>Manual</td>\n",
       "      <td>Third Owner</td>\n",
       "      <td>17.7</td>\n",
       "      <td>1497 CC</td>\n",
       "      <td>78 bhp</td>\n",
       "      <td>12.7@ 2,700(kgm@ rpm)</td>\n",
       "      <td>5.0</td>\n",
       "    </tr>\n",
       "    <tr>\n",
       "      <th>3</th>\n",
       "      <td>Hyundai i20 Sportz Diesel</td>\n",
       "      <td>2010</td>\n",
       "      <td>225000</td>\n",
       "      <td>127000</td>\n",
       "      <td>Diesel</td>\n",
       "      <td>Individual</td>\n",
       "      <td>Manual</td>\n",
       "      <td>First Owner</td>\n",
       "      <td>23.0</td>\n",
       "      <td>1396 CC</td>\n",
       "      <td>90 bhp</td>\n",
       "      <td>22.4 kgm at 1750-2750rpm</td>\n",
       "      <td>5.0</td>\n",
       "    </tr>\n",
       "    <tr>\n",
       "      <th>4</th>\n",
       "      <td>Maruti Swift VXI BSIII</td>\n",
       "      <td>2007</td>\n",
       "      <td>130000</td>\n",
       "      <td>120000</td>\n",
       "      <td>Petrol</td>\n",
       "      <td>Individual</td>\n",
       "      <td>Manual</td>\n",
       "      <td>First Owner</td>\n",
       "      <td>16.1</td>\n",
       "      <td>1298 CC</td>\n",
       "      <td>88.2 bhp</td>\n",
       "      <td>11.5@ 4,500(kgm@ rpm)</td>\n",
       "      <td>5.0</td>\n",
       "    </tr>\n",
       "  </tbody>\n",
       "</table>\n",
       "</div>"
      ],
      "text/plain": [
       "                           name  year  selling_price  km_driven    fuel  \\\n",
       "0        Maruti Swift Dzire VDI  2014         450000     145500  Diesel   \n",
       "1  Skoda Rapid 1.5 TDI Ambition  2014         370000     120000  Diesel   \n",
       "2      Honda City 2017-2020 EXi  2006         158000     140000  Petrol   \n",
       "3     Hyundai i20 Sportz Diesel  2010         225000     127000  Diesel   \n",
       "4        Maruti Swift VXI BSIII  2007         130000     120000  Petrol   \n",
       "\n",
       "  seller_type transmission         owner mileage   engine   max_power  \\\n",
       "0  Individual       Manual   First Owner    23.4  1248 CC      74 bhp   \n",
       "1  Individual       Manual  Second Owner   21.14  1498 CC  103.52 bhp   \n",
       "2  Individual       Manual   Third Owner    17.7  1497 CC      78 bhp   \n",
       "3  Individual       Manual   First Owner    23.0  1396 CC      90 bhp   \n",
       "4  Individual       Manual   First Owner    16.1  1298 CC    88.2 bhp   \n",
       "\n",
       "                     torque  seats  \n",
       "0            190Nm@ 2000rpm    5.0  \n",
       "1       250Nm@ 1500-2500rpm    5.0  \n",
       "2     12.7@ 2,700(kgm@ rpm)    5.0  \n",
       "3  22.4 kgm at 1750-2750rpm    5.0  \n",
       "4     11.5@ 4,500(kgm@ rpm)    5.0  "
      ]
     },
     "execution_count": 279,
     "metadata": {},
     "output_type": "execute_result"
    }
   ],
   "source": [
    "df.head()"
   ]
  },
  {
   "cell_type": "code",
   "execution_count": 280,
   "metadata": {},
   "outputs": [
    {
     "data": {
      "text/plain": [
       "array(['1248 CC', '1498 CC', '1497 CC', '1396 CC', '1298 CC', '1197 CC',\n",
       "       '1061 CC', '796 CC', '1364 CC', '1399 CC', '1461 CC', '993 CC',\n",
       "       nan, '1198 CC', '1199 CC', '998 CC', '1591 CC', '2179 CC',\n",
       "       '1368 CC', '2982 CC', '2494 CC', '2143 CC', '2477 CC', '1462 CC',\n",
       "       '2755 CC', '1968 CC', '1798 CC', '1196 CC', '1373 CC', '1598 CC',\n",
       "       '1998 CC', '1086 CC', '1194 CC', '1172 CC', '1405 CC', '1582 CC',\n",
       "       '999 CC', '2487 CC', '1999 CC', '3604 CC', '2987 CC', '1995 CC',\n",
       "       '1451 CC', '1969 CC', '2967 CC', '2497 CC', '1797 CC', '1991 CC',\n",
       "       '2362 CC', '1493 CC', '1599 CC', '1341 CC', '1794 CC', '799 CC',\n",
       "       '1193 CC', '2696 CC', '1495 CC', '1186 CC', '1047 CC', '2498 CC',\n",
       "       '2956 CC', '2523 CC', '1120 CC', '624 CC', '1496 CC', '1984 CC',\n",
       "       '2354 CC', '814 CC', '793 CC', '1799 CC', '936 CC', '1956 CC',\n",
       "       '1997 CC', '1499 CC', '1948 CC', '2997 CC', '2489 CC', '2499 CC',\n",
       "       '2609 CC', '2953 CC', '1150 CC', '1994 CC', '1388 CC', '1527 CC',\n",
       "       '2199 CC', '995 CC', '2993 CC', '1586 CC', '1390 CC', '909 CC',\n",
       "       '2393 CC', '3198 CC', '1339 CC', '2835 CC', '2092 CC', '1595 CC',\n",
       "       '2496 CC', '1596 CC', '1597 CC', '2596 CC', '2148 CC', '1299 CC',\n",
       "       '1590 CC', '2231 CC', '2694 CC', '2200 CC', '1795 CC', '1896 CC',\n",
       "       '1796 CC', '1422 CC', '1489 CC', '2359 CC', '2197 CC', '2999 CC',\n",
       "       '1781 CC', '2650 CC', '1343 CC', '2446 CC', '3498 CC', '2198 CC',\n",
       "       '2776 CC', '1950 CC'], dtype=object)"
      ]
     },
     "execution_count": 280,
     "metadata": {},
     "output_type": "execute_result"
    }
   ],
   "source": [
    "df['engine'].unique()"
   ]
  },
  {
   "cell_type": "code",
   "execution_count": 281,
   "metadata": {},
   "outputs": [],
   "source": [
    "df['engine']=df['engine'].str.split(' ').str[0]"
   ]
  },
  {
   "cell_type": "code",
   "execution_count": 282,
   "metadata": {},
   "outputs": [
    {
     "data": {
      "text/html": [
       "<div>\n",
       "<style scoped>\n",
       "    .dataframe tbody tr th:only-of-type {\n",
       "        vertical-align: middle;\n",
       "    }\n",
       "\n",
       "    .dataframe tbody tr th {\n",
       "        vertical-align: top;\n",
       "    }\n",
       "\n",
       "    .dataframe thead th {\n",
       "        text-align: right;\n",
       "    }\n",
       "</style>\n",
       "<table border=\"1\" class=\"dataframe\">\n",
       "  <thead>\n",
       "    <tr style=\"text-align: right;\">\n",
       "      <th></th>\n",
       "      <th>name</th>\n",
       "      <th>year</th>\n",
       "      <th>selling_price</th>\n",
       "      <th>km_driven</th>\n",
       "      <th>fuel</th>\n",
       "      <th>seller_type</th>\n",
       "      <th>transmission</th>\n",
       "      <th>owner</th>\n",
       "      <th>mileage</th>\n",
       "      <th>engine</th>\n",
       "      <th>max_power</th>\n",
       "      <th>torque</th>\n",
       "      <th>seats</th>\n",
       "    </tr>\n",
       "  </thead>\n",
       "  <tbody>\n",
       "    <tr>\n",
       "      <th>0</th>\n",
       "      <td>Maruti Swift Dzire VDI</td>\n",
       "      <td>2014</td>\n",
       "      <td>450000</td>\n",
       "      <td>145500</td>\n",
       "      <td>Diesel</td>\n",
       "      <td>Individual</td>\n",
       "      <td>Manual</td>\n",
       "      <td>First Owner</td>\n",
       "      <td>23.4</td>\n",
       "      <td>1248</td>\n",
       "      <td>74 bhp</td>\n",
       "      <td>190Nm@ 2000rpm</td>\n",
       "      <td>5.0</td>\n",
       "    </tr>\n",
       "    <tr>\n",
       "      <th>1</th>\n",
       "      <td>Skoda Rapid 1.5 TDI Ambition</td>\n",
       "      <td>2014</td>\n",
       "      <td>370000</td>\n",
       "      <td>120000</td>\n",
       "      <td>Diesel</td>\n",
       "      <td>Individual</td>\n",
       "      <td>Manual</td>\n",
       "      <td>Second Owner</td>\n",
       "      <td>21.14</td>\n",
       "      <td>1498</td>\n",
       "      <td>103.52 bhp</td>\n",
       "      <td>250Nm@ 1500-2500rpm</td>\n",
       "      <td>5.0</td>\n",
       "    </tr>\n",
       "    <tr>\n",
       "      <th>2</th>\n",
       "      <td>Honda City 2017-2020 EXi</td>\n",
       "      <td>2006</td>\n",
       "      <td>158000</td>\n",
       "      <td>140000</td>\n",
       "      <td>Petrol</td>\n",
       "      <td>Individual</td>\n",
       "      <td>Manual</td>\n",
       "      <td>Third Owner</td>\n",
       "      <td>17.7</td>\n",
       "      <td>1497</td>\n",
       "      <td>78 bhp</td>\n",
       "      <td>12.7@ 2,700(kgm@ rpm)</td>\n",
       "      <td>5.0</td>\n",
       "    </tr>\n",
       "    <tr>\n",
       "      <th>3</th>\n",
       "      <td>Hyundai i20 Sportz Diesel</td>\n",
       "      <td>2010</td>\n",
       "      <td>225000</td>\n",
       "      <td>127000</td>\n",
       "      <td>Diesel</td>\n",
       "      <td>Individual</td>\n",
       "      <td>Manual</td>\n",
       "      <td>First Owner</td>\n",
       "      <td>23.0</td>\n",
       "      <td>1396</td>\n",
       "      <td>90 bhp</td>\n",
       "      <td>22.4 kgm at 1750-2750rpm</td>\n",
       "      <td>5.0</td>\n",
       "    </tr>\n",
       "    <tr>\n",
       "      <th>4</th>\n",
       "      <td>Maruti Swift VXI BSIII</td>\n",
       "      <td>2007</td>\n",
       "      <td>130000</td>\n",
       "      <td>120000</td>\n",
       "      <td>Petrol</td>\n",
       "      <td>Individual</td>\n",
       "      <td>Manual</td>\n",
       "      <td>First Owner</td>\n",
       "      <td>16.1</td>\n",
       "      <td>1298</td>\n",
       "      <td>88.2 bhp</td>\n",
       "      <td>11.5@ 4,500(kgm@ rpm)</td>\n",
       "      <td>5.0</td>\n",
       "    </tr>\n",
       "  </tbody>\n",
       "</table>\n",
       "</div>"
      ],
      "text/plain": [
       "                           name  year  selling_price  km_driven    fuel  \\\n",
       "0        Maruti Swift Dzire VDI  2014         450000     145500  Diesel   \n",
       "1  Skoda Rapid 1.5 TDI Ambition  2014         370000     120000  Diesel   \n",
       "2      Honda City 2017-2020 EXi  2006         158000     140000  Petrol   \n",
       "3     Hyundai i20 Sportz Diesel  2010         225000     127000  Diesel   \n",
       "4        Maruti Swift VXI BSIII  2007         130000     120000  Petrol   \n",
       "\n",
       "  seller_type transmission         owner mileage engine   max_power  \\\n",
       "0  Individual       Manual   First Owner    23.4   1248      74 bhp   \n",
       "1  Individual       Manual  Second Owner   21.14   1498  103.52 bhp   \n",
       "2  Individual       Manual   Third Owner    17.7   1497      78 bhp   \n",
       "3  Individual       Manual   First Owner    23.0   1396      90 bhp   \n",
       "4  Individual       Manual   First Owner    16.1   1298    88.2 bhp   \n",
       "\n",
       "                     torque  seats  \n",
       "0            190Nm@ 2000rpm    5.0  \n",
       "1       250Nm@ 1500-2500rpm    5.0  \n",
       "2     12.7@ 2,700(kgm@ rpm)    5.0  \n",
       "3  22.4 kgm at 1750-2750rpm    5.0  \n",
       "4     11.5@ 4,500(kgm@ rpm)    5.0  "
      ]
     },
     "execution_count": 282,
     "metadata": {},
     "output_type": "execute_result"
    }
   ],
   "source": [
    "df.head()"
   ]
  },
  {
   "cell_type": "code",
   "execution_count": 283,
   "metadata": {},
   "outputs": [],
   "source": [
    "df['max_power']=df['max_power'].str.split(' ').str[0]"
   ]
  },
  {
   "cell_type": "code",
   "execution_count": 284,
   "metadata": {},
   "outputs": [
    {
     "data": {
      "text/html": [
       "<div>\n",
       "<style scoped>\n",
       "    .dataframe tbody tr th:only-of-type {\n",
       "        vertical-align: middle;\n",
       "    }\n",
       "\n",
       "    .dataframe tbody tr th {\n",
       "        vertical-align: top;\n",
       "    }\n",
       "\n",
       "    .dataframe thead th {\n",
       "        text-align: right;\n",
       "    }\n",
       "</style>\n",
       "<table border=\"1\" class=\"dataframe\">\n",
       "  <thead>\n",
       "    <tr style=\"text-align: right;\">\n",
       "      <th></th>\n",
       "      <th>name</th>\n",
       "      <th>year</th>\n",
       "      <th>selling_price</th>\n",
       "      <th>km_driven</th>\n",
       "      <th>fuel</th>\n",
       "      <th>seller_type</th>\n",
       "      <th>transmission</th>\n",
       "      <th>owner</th>\n",
       "      <th>mileage</th>\n",
       "      <th>engine</th>\n",
       "      <th>max_power</th>\n",
       "      <th>torque</th>\n",
       "      <th>seats</th>\n",
       "    </tr>\n",
       "  </thead>\n",
       "  <tbody>\n",
       "    <tr>\n",
       "      <th>0</th>\n",
       "      <td>Maruti Swift Dzire VDI</td>\n",
       "      <td>2014</td>\n",
       "      <td>450000</td>\n",
       "      <td>145500</td>\n",
       "      <td>Diesel</td>\n",
       "      <td>Individual</td>\n",
       "      <td>Manual</td>\n",
       "      <td>First Owner</td>\n",
       "      <td>23.4</td>\n",
       "      <td>1248</td>\n",
       "      <td>74</td>\n",
       "      <td>190Nm@ 2000rpm</td>\n",
       "      <td>5.0</td>\n",
       "    </tr>\n",
       "    <tr>\n",
       "      <th>1</th>\n",
       "      <td>Skoda Rapid 1.5 TDI Ambition</td>\n",
       "      <td>2014</td>\n",
       "      <td>370000</td>\n",
       "      <td>120000</td>\n",
       "      <td>Diesel</td>\n",
       "      <td>Individual</td>\n",
       "      <td>Manual</td>\n",
       "      <td>Second Owner</td>\n",
       "      <td>21.14</td>\n",
       "      <td>1498</td>\n",
       "      <td>103.52</td>\n",
       "      <td>250Nm@ 1500-2500rpm</td>\n",
       "      <td>5.0</td>\n",
       "    </tr>\n",
       "  </tbody>\n",
       "</table>\n",
       "</div>"
      ],
      "text/plain": [
       "                           name  year  selling_price  km_driven    fuel  \\\n",
       "0        Maruti Swift Dzire VDI  2014         450000     145500  Diesel   \n",
       "1  Skoda Rapid 1.5 TDI Ambition  2014         370000     120000  Diesel   \n",
       "\n",
       "  seller_type transmission         owner mileage engine max_power  \\\n",
       "0  Individual       Manual   First Owner    23.4   1248        74   \n",
       "1  Individual       Manual  Second Owner   21.14   1498    103.52   \n",
       "\n",
       "                torque  seats  \n",
       "0       190Nm@ 2000rpm    5.0  \n",
       "1  250Nm@ 1500-2500rpm    5.0  "
      ]
     },
     "execution_count": 284,
     "metadata": {},
     "output_type": "execute_result"
    }
   ],
   "source": [
    "df.head(2)"
   ]
  },
  {
   "cell_type": "code",
   "execution_count": 285,
   "metadata": {},
   "outputs": [],
   "source": [
    "df.drop(columns=['torque'],axis=1,inplace=True)"
   ]
  },
  {
   "cell_type": "code",
   "execution_count": 286,
   "metadata": {},
   "outputs": [
    {
     "data": {
      "text/html": [
       "<div>\n",
       "<style scoped>\n",
       "    .dataframe tbody tr th:only-of-type {\n",
       "        vertical-align: middle;\n",
       "    }\n",
       "\n",
       "    .dataframe tbody tr th {\n",
       "        vertical-align: top;\n",
       "    }\n",
       "\n",
       "    .dataframe thead th {\n",
       "        text-align: right;\n",
       "    }\n",
       "</style>\n",
       "<table border=\"1\" class=\"dataframe\">\n",
       "  <thead>\n",
       "    <tr style=\"text-align: right;\">\n",
       "      <th></th>\n",
       "      <th>name</th>\n",
       "      <th>year</th>\n",
       "      <th>selling_price</th>\n",
       "      <th>km_driven</th>\n",
       "      <th>fuel</th>\n",
       "      <th>seller_type</th>\n",
       "      <th>transmission</th>\n",
       "      <th>owner</th>\n",
       "      <th>mileage</th>\n",
       "      <th>engine</th>\n",
       "      <th>max_power</th>\n",
       "      <th>seats</th>\n",
       "    </tr>\n",
       "  </thead>\n",
       "  <tbody>\n",
       "    <tr>\n",
       "      <th>0</th>\n",
       "      <td>Maruti Swift Dzire VDI</td>\n",
       "      <td>2014</td>\n",
       "      <td>450000</td>\n",
       "      <td>145500</td>\n",
       "      <td>Diesel</td>\n",
       "      <td>Individual</td>\n",
       "      <td>Manual</td>\n",
       "      <td>First Owner</td>\n",
       "      <td>23.4</td>\n",
       "      <td>1248</td>\n",
       "      <td>74</td>\n",
       "      <td>5.0</td>\n",
       "    </tr>\n",
       "    <tr>\n",
       "      <th>1</th>\n",
       "      <td>Skoda Rapid 1.5 TDI Ambition</td>\n",
       "      <td>2014</td>\n",
       "      <td>370000</td>\n",
       "      <td>120000</td>\n",
       "      <td>Diesel</td>\n",
       "      <td>Individual</td>\n",
       "      <td>Manual</td>\n",
       "      <td>Second Owner</td>\n",
       "      <td>21.14</td>\n",
       "      <td>1498</td>\n",
       "      <td>103.52</td>\n",
       "      <td>5.0</td>\n",
       "    </tr>\n",
       "  </tbody>\n",
       "</table>\n",
       "</div>"
      ],
      "text/plain": [
       "                           name  year  selling_price  km_driven    fuel  \\\n",
       "0        Maruti Swift Dzire VDI  2014         450000     145500  Diesel   \n",
       "1  Skoda Rapid 1.5 TDI Ambition  2014         370000     120000  Diesel   \n",
       "\n",
       "  seller_type transmission         owner mileage engine max_power  seats  \n",
       "0  Individual       Manual   First Owner    23.4   1248        74    5.0  \n",
       "1  Individual       Manual  Second Owner   21.14   1498    103.52    5.0  "
      ]
     },
     "execution_count": 286,
     "metadata": {},
     "output_type": "execute_result"
    }
   ],
   "source": [
    "df.head(2)"
   ]
  },
  {
   "cell_type": "code",
   "execution_count": 287,
   "metadata": {},
   "outputs": [
    {
     "data": {
      "text/plain": [
       "array([2014, 2006, 2010, 2007, 2017, 2001, 2011, 2013, 2005, 2009, 2016,\n",
       "       2012, 2002, 2015, 2018, 2003, 2019, 2008, 2020, 1999, 2000, 1983,\n",
       "       2004, 1996, 1994, 1995, 1998, 1997, 1991])"
      ]
     },
     "execution_count": 287,
     "metadata": {},
     "output_type": "execute_result"
    }
   ],
   "source": [
    "df['year'].unique()"
   ]
  },
  {
   "cell_type": "code",
   "execution_count": 288,
   "metadata": {},
   "outputs": [
    {
     "data": {
      "text/plain": [
       "<matplotlib.collections.PathCollection at 0x2e1c0bbb230>"
      ]
     },
     "execution_count": 288,
     "metadata": {},
     "output_type": "execute_result"
    },
    {
     "data": {
      "image/png": "[encoded data removed]",
      "text/plain": [
       "<Figure size 640x480 with 1 Axes>"
      ]
     },
     "metadata": {},
     "output_type": "display_data"
    }
   ],
   "source": [
    "import matplotlib.pyplot as plt\n",
    "plt.scatter(df['year'],df['selling_price'])"
   ]
  },
  {
   "cell_type": "code",
   "execution_count": 289,
   "metadata": {},
   "outputs": [],
   "source": [
    "df['age']=2025-df['year']"
   ]
  },
  {
   "cell_type": "code",
   "execution_count": 290,
   "metadata": {},
   "outputs": [],
   "source": [
    "df.drop(columns=['year'],axis=1,inplace=True)"
   ]
  },
  {
   "cell_type": "code",
   "execution_count": 291,
   "metadata": {},
   "outputs": [
    {
     "data": {
      "text/html": [
       "<div>\n",
       "<style scoped>\n",
       "    .dataframe tbody tr th:only-of-type {\n",
       "        vertical-align: middle;\n",
       "    }\n",
       "\n",
       "    .dataframe tbody tr th {\n",
       "        vertical-align: top;\n",
       "    }\n",
       "\n",
       "    .dataframe thead th {\n",
       "        text-align: right;\n",
       "    }\n",
       "</style>\n",
       "<table border=\"1\" class=\"dataframe\">\n",
       "  <thead>\n",
       "    <tr style=\"text-align: right;\">\n",
       "      <th></th>\n",
       "      <th>name</th>\n",
       "      <th>selling_price</th>\n",
       "      <th>km_driven</th>\n",
       "      <th>fuel</th>\n",
       "      <th>seller_type</th>\n",
       "      <th>transmission</th>\n",
       "      <th>owner</th>\n",
       "      <th>mileage</th>\n",
       "      <th>engine</th>\n",
       "      <th>max_power</th>\n",
       "      <th>seats</th>\n",
       "      <th>age</th>\n",
       "    </tr>\n",
       "  </thead>\n",
       "  <tbody>\n",
       "    <tr>\n",
       "      <th>0</th>\n",
       "      <td>Maruti Swift Dzire VDI</td>\n",
       "      <td>450000</td>\n",
       "      <td>145500</td>\n",
       "      <td>Diesel</td>\n",
       "      <td>Individual</td>\n",
       "      <td>Manual</td>\n",
       "      <td>First Owner</td>\n",
       "      <td>23.4</td>\n",
       "      <td>1248</td>\n",
       "      <td>74</td>\n",
       "      <td>5.0</td>\n",
       "      <td>11</td>\n",
       "    </tr>\n",
       "    <tr>\n",
       "      <th>1</th>\n",
       "      <td>Skoda Rapid 1.5 TDI Ambition</td>\n",
       "      <td>370000</td>\n",
       "      <td>120000</td>\n",
       "      <td>Diesel</td>\n",
       "      <td>Individual</td>\n",
       "      <td>Manual</td>\n",
       "      <td>Second Owner</td>\n",
       "      <td>21.14</td>\n",
       "      <td>1498</td>\n",
       "      <td>103.52</td>\n",
       "      <td>5.0</td>\n",
       "      <td>11</td>\n",
       "    </tr>\n",
       "  </tbody>\n",
       "</table>\n",
       "</div>"
      ],
      "text/plain": [
       "                           name  selling_price  km_driven    fuel seller_type  \\\n",
       "0        Maruti Swift Dzire VDI         450000     145500  Diesel  Individual   \n",
       "1  Skoda Rapid 1.5 TDI Ambition         370000     120000  Diesel  Individual   \n",
       "\n",
       "  transmission         owner mileage engine max_power  seats  age  \n",
       "0       Manual   First Owner    23.4   1248        74    5.0   11  \n",
       "1       Manual  Second Owner   21.14   1498    103.52    5.0   11  "
      ]
     },
     "execution_count": 291,
     "metadata": {},
     "output_type": "execute_result"
    }
   ],
   "source": [
    "df.head(2)"
   ]
  },
  {
   "cell_type": "code",
   "execution_count": 292,
   "metadata": {},
   "outputs": [
    {
     "data": {
      "text/plain": [
       "2058"
      ]
     },
     "execution_count": 292,
     "metadata": {},
     "output_type": "execute_result"
    }
   ],
   "source": [
    "df['name'].nunique()"
   ]
  },
  {
   "cell_type": "code",
   "execution_count": 293,
   "metadata": {},
   "outputs": [
    {
     "data": {
      "text/plain": [
       "array(['Maruti Swift Dzire VDI', 'Skoda Rapid 1.5 TDI Ambition',\n",
       "       'Honda City 2017-2020 EXi', ..., 'Tata Nexon 1.5 Revotorq XT',\n",
       "       'Ford Freestyle Titanium Plus Diesel BSIV',\n",
       "       'Toyota Innova 2.5 GX (Diesel) 8 Seater BS IV'],\n",
       "      shape=(2058,), dtype=object)"
      ]
     },
     "execution_count": 293,
     "metadata": {},
     "output_type": "execute_result"
    }
   ],
   "source": [
    "df['name'].unique()"
   ]
  },
  {
   "cell_type": "code",
   "execution_count": 294,
   "metadata": {},
   "outputs": [
    {
     "data": {
      "text/plain": [
       "name\n",
       "Maruti Swift Dzire VDI              129\n",
       "Maruti Alto 800 LXI                  82\n",
       "Maruti Alto LXi                      71\n",
       "BMW X4 M Sport X xDrive20d           62\n",
       "Maruti Swift VDI                     61\n",
       "                                   ... \n",
       "Maruti 800 DX BSII                    1\n",
       "Ford Figo Aspire Titanium Diesel      1\n",
       "Hyundai Verna CRDi 1.6 SX             1\n",
       "Maruti Baleno Alpha Diesel            1\n",
       "Tata New Safari Dicor VX 4X2          1\n",
       "Name: count, Length: 2058, dtype: int64"
      ]
     },
     "execution_count": 294,
     "metadata": {},
     "output_type": "execute_result"
    }
   ],
   "source": [
    "df['name'].value_counts()"
   ]
  },
  {
   "cell_type": "code",
   "execution_count": 295,
   "metadata": {},
   "outputs": [],
   "source": [
    "count=df['name'].value_counts()"
   ]
  },
  {
   "cell_type": "code",
   "execution_count": 296,
   "metadata": {},
   "outputs": [
    {
     "data": {
      "text/plain": [
       "name\n",
       "Maruti Swift Dzire VDI              129\n",
       "Maruti Alto 800 LXI                  82\n",
       "Maruti Alto LXi                      71\n",
       "BMW X4 M Sport X xDrive20d           62\n",
       "Maruti Swift VDI                     61\n",
       "                                   ... \n",
       "Maruti 800 DX BSII                    1\n",
       "Ford Figo Aspire Titanium Diesel      1\n",
       "Hyundai Verna CRDi 1.6 SX             1\n",
       "Maruti Baleno Alpha Diesel            1\n",
       "Tata New Safari Dicor VX 4X2          1\n",
       "Name: count, Length: 2058, dtype: int64"
      ]
     },
     "execution_count": 296,
     "metadata": {},
     "output_type": "execute_result"
    }
   ],
   "source": [
    "count"
   ]
  },
  {
   "cell_type": "code",
   "execution_count": 297,
   "metadata": {},
   "outputs": [],
   "source": [
    "df['name']=df['name'].map(lambda x:x if count[x]>=10 else 'other')"
   ]
  },
  {
   "cell_type": "code",
   "execution_count": 298,
   "metadata": {},
   "outputs": [
    {
     "data": {
      "text/plain": [
       "name\n",
       "other                                    4548\n",
       "Maruti Swift Dzire VDI                    129\n",
       "Maruti Alto 800 LXI                        82\n",
       "Maruti Alto LXi                            71\n",
       "BMW X4 M Sport X xDrive20d                 62\n",
       "                                         ... \n",
       "Ford Fiesta Classic 1.4 Duratorq CLXI      10\n",
       "Mahindra Xylo D2                           10\n",
       "Chevrolet Cruze LTZ                        10\n",
       "Mahindra TUV 300 mHAWK100 T8               10\n",
       "Tata Tiago 1.2 Revotron XT                 10\n",
       "Name: count, Length: 168, dtype: int64"
      ]
     },
     "execution_count": 298,
     "metadata": {},
     "output_type": "execute_result"
    }
   ],
   "source": [
    "df['name'].value_counts()"
   ]
  },
  {
   "cell_type": "code",
   "execution_count": 299,
   "metadata": {},
   "outputs": [
    {
     "data": {
      "text/html": [
       "<div>\n",
       "<style scoped>\n",
       "    .dataframe tbody tr th:only-of-type {\n",
       "        vertical-align: middle;\n",
       "    }\n",
       "\n",
       "    .dataframe tbody tr th {\n",
       "        vertical-align: top;\n",
       "    }\n",
       "\n",
       "    .dataframe thead th {\n",
       "        text-align: right;\n",
       "    }\n",
       "</style>\n",
       "<table border=\"1\" class=\"dataframe\">\n",
       "  <thead>\n",
       "    <tr style=\"text-align: right;\">\n",
       "      <th></th>\n",
       "      <th>name</th>\n",
       "      <th>selling_price</th>\n",
       "      <th>km_driven</th>\n",
       "      <th>fuel</th>\n",
       "      <th>seller_type</th>\n",
       "      <th>transmission</th>\n",
       "      <th>owner</th>\n",
       "      <th>mileage</th>\n",
       "      <th>engine</th>\n",
       "      <th>max_power</th>\n",
       "      <th>seats</th>\n",
       "      <th>age</th>\n",
       "    </tr>\n",
       "  </thead>\n",
       "  <tbody>\n",
       "    <tr>\n",
       "      <th>0</th>\n",
       "      <td>Maruti Swift Dzire VDI</td>\n",
       "      <td>450000</td>\n",
       "      <td>145500</td>\n",
       "      <td>Diesel</td>\n",
       "      <td>Individual</td>\n",
       "      <td>Manual</td>\n",
       "      <td>First Owner</td>\n",
       "      <td>23.4</td>\n",
       "      <td>1248</td>\n",
       "      <td>74</td>\n",
       "      <td>5.0</td>\n",
       "      <td>11</td>\n",
       "    </tr>\n",
       "    <tr>\n",
       "      <th>1</th>\n",
       "      <td>other</td>\n",
       "      <td>370000</td>\n",
       "      <td>120000</td>\n",
       "      <td>Diesel</td>\n",
       "      <td>Individual</td>\n",
       "      <td>Manual</td>\n",
       "      <td>Second Owner</td>\n",
       "      <td>21.14</td>\n",
       "      <td>1498</td>\n",
       "      <td>103.52</td>\n",
       "      <td>5.0</td>\n",
       "      <td>11</td>\n",
       "    </tr>\n",
       "    <tr>\n",
       "      <th>2</th>\n",
       "      <td>other</td>\n",
       "      <td>158000</td>\n",
       "      <td>140000</td>\n",
       "      <td>Petrol</td>\n",
       "      <td>Individual</td>\n",
       "      <td>Manual</td>\n",
       "      <td>Third Owner</td>\n",
       "      <td>17.7</td>\n",
       "      <td>1497</td>\n",
       "      <td>78</td>\n",
       "      <td>5.0</td>\n",
       "      <td>19</td>\n",
       "    </tr>\n",
       "    <tr>\n",
       "      <th>3</th>\n",
       "      <td>other</td>\n",
       "      <td>225000</td>\n",
       "      <td>127000</td>\n",
       "      <td>Diesel</td>\n",
       "      <td>Individual</td>\n",
       "      <td>Manual</td>\n",
       "      <td>First Owner</td>\n",
       "      <td>23.0</td>\n",
       "      <td>1396</td>\n",
       "      <td>90</td>\n",
       "      <td>5.0</td>\n",
       "      <td>15</td>\n",
       "    </tr>\n",
       "  </tbody>\n",
       "</table>\n",
       "</div>"
      ],
      "text/plain": [
       "                     name  selling_price  km_driven    fuel seller_type  \\\n",
       "0  Maruti Swift Dzire VDI         450000     145500  Diesel  Individual   \n",
       "1                   other         370000     120000  Diesel  Individual   \n",
       "2                   other         158000     140000  Petrol  Individual   \n",
       "3                   other         225000     127000  Diesel  Individual   \n",
       "\n",
       "  transmission         owner mileage engine max_power  seats  age  \n",
       "0       Manual   First Owner    23.4   1248        74    5.0   11  \n",
       "1       Manual  Second Owner   21.14   1498    103.52    5.0   11  \n",
       "2       Manual   Third Owner    17.7   1497        78    5.0   19  \n",
       "3       Manual   First Owner    23.0   1396        90    5.0   15  "
      ]
     },
     "execution_count": 299,
     "metadata": {},
     "output_type": "execute_result"
    }
   ],
   "source": [
    "df.head(4)"
   ]
  },
  {
   "cell_type": "code",
   "execution_count": 300,
   "metadata": {},
   "outputs": [
    {
     "data": {
      "text/html": [
       "<div>\n",
       "<style scoped>\n",
       "    .dataframe tbody tr th:only-of-type {\n",
       "        vertical-align: middle;\n",
       "    }\n",
       "\n",
       "    .dataframe tbody tr th {\n",
       "        vertical-align: top;\n",
       "    }\n",
       "\n",
       "    .dataframe thead th {\n",
       "        text-align: right;\n",
       "    }\n",
       "</style>\n",
       "<table border=\"1\" class=\"dataframe\">\n",
       "  <thead>\n",
       "    <tr style=\"text-align: right;\">\n",
       "      <th></th>\n",
       "      <th>name</th>\n",
       "      <th>selling_price</th>\n",
       "      <th>km_driven</th>\n",
       "      <th>fuel</th>\n",
       "      <th>seller_type</th>\n",
       "      <th>transmission</th>\n",
       "      <th>owner</th>\n",
       "      <th>mileage</th>\n",
       "      <th>engine</th>\n",
       "      <th>max_power</th>\n",
       "      <th>seats</th>\n",
       "      <th>age</th>\n",
       "    </tr>\n",
       "  </thead>\n",
       "  <tbody>\n",
       "    <tr>\n",
       "      <th>8125</th>\n",
       "      <td>Maruti Swift Dzire ZDi</td>\n",
       "      <td>382000</td>\n",
       "      <td>120000</td>\n",
       "      <td>Diesel</td>\n",
       "      <td>Individual</td>\n",
       "      <td>Manual</td>\n",
       "      <td>First Owner</td>\n",
       "      <td>19.3</td>\n",
       "      <td>1248</td>\n",
       "      <td>73.9</td>\n",
       "      <td>5.0</td>\n",
       "      <td>16</td>\n",
       "    </tr>\n",
       "    <tr>\n",
       "      <th>8126</th>\n",
       "      <td>Tata Indigo CR4</td>\n",
       "      <td>290000</td>\n",
       "      <td>25000</td>\n",
       "      <td>Diesel</td>\n",
       "      <td>Individual</td>\n",
       "      <td>Manual</td>\n",
       "      <td>First Owner</td>\n",
       "      <td>23.57</td>\n",
       "      <td>1396</td>\n",
       "      <td>70</td>\n",
       "      <td>5.0</td>\n",
       "      <td>12</td>\n",
       "    </tr>\n",
       "    <tr>\n",
       "      <th>8127</th>\n",
       "      <td>Tata Indigo CR4</td>\n",
       "      <td>290000</td>\n",
       "      <td>25000</td>\n",
       "      <td>Diesel</td>\n",
       "      <td>Individual</td>\n",
       "      <td>Manual</td>\n",
       "      <td>First Owner</td>\n",
       "      <td>23.57</td>\n",
       "      <td>1396</td>\n",
       "      <td>70</td>\n",
       "      <td>5.0</td>\n",
       "      <td>12</td>\n",
       "    </tr>\n",
       "  </tbody>\n",
       "</table>\n",
       "</div>"
      ],
      "text/plain": [
       "                        name  selling_price  km_driven    fuel seller_type  \\\n",
       "8125  Maruti Swift Dzire ZDi         382000     120000  Diesel  Individual   \n",
       "8126         Tata Indigo CR4         290000      25000  Diesel  Individual   \n",
       "8127         Tata Indigo CR4         290000      25000  Diesel  Individual   \n",
       "\n",
       "     transmission        owner mileage engine max_power  seats  age  \n",
       "8125       Manual  First Owner    19.3   1248      73.9    5.0   16  \n",
       "8126       Manual  First Owner   23.57   1396        70    5.0   12  \n",
       "8127       Manual  First Owner   23.57   1396        70    5.0   12  "
      ]
     },
     "execution_count": 300,
     "metadata": {},
     "output_type": "execute_result"
    }
   ],
   "source": [
    "df.tail(3)"
   ]
  },
  {
   "cell_type": "code",
   "execution_count": 301,
   "metadata": {},
   "outputs": [
    {
     "data": {
      "text/plain": [
       "array(['Maruti Swift Dzire VDI', 'other',\n",
       "       'Ford Figo Diesel Celebration Edition',\n",
       "       'Renault Duster 110PS Diesel RxL', 'Maruti Swift Dzire VDi',\n",
       "       'Maruti Swift 1.3 VXi', 'Maruti Wagon R LXI Minor',\n",
       "       'Maruti Ertiga SHVS VDI', 'Hyundai i20 1.4 CRDi Asta',\n",
       "       'Maruti Alto LX', 'Maruti Swift Dzire ZDI',\n",
       "       'Maruti Baleno Delta 1.2', 'Maruti Alto 800 LXI',\n",
       "       'Maruti Omni E MPI STD BS IV', 'Maruti 800 Std',\n",
       "       'Maruti Vitara Brezza VDi', 'Maruti Alto K10 VXI',\n",
       "       'Toyota Innova Crysta 2.8 ZX AT BSIV',\n",
       "       'Toyota Innova 2.5 G (Diesel) 7 Seater', 'Hyundai i10 Magna',\n",
       "       'Hyundai i20 Asta 1.4 CRDi', 'Honda City i DTEC VX',\n",
       "       'Maruti Wagon R AMT VXI', 'Volkswagen Vento Diesel Highline',\n",
       "       'Hyundai i10 Magna 1.1L', 'Maruti Swift Dzire LDI',\n",
       "       'Maruti Alto LX BSIII', 'Maruti Wagon R VXI', 'Maruti Swift VXI',\n",
       "       'Maruti Eeco 7 Seater Standard BSIV',\n",
       "       'Tata Indigo CS LS (TDI) BS-III', 'Hyundai Verna 1.6 SX',\n",
       "       'Maruti Celerio VXI', 'Maruti Vitara Brezza ZDi Plus Dual Tone',\n",
       "       'Maruti Swift Dzire VXI', 'Maruti Wagon R VXI BS IV',\n",
       "       'Maruti Swift VDI BSIV', 'Hyundai Creta 1.6 CRDi SX',\n",
       "       'Ford EcoSport 1.5 Diesel Titanium Plus BSIV', 'Maruti Alto LXi',\n",
       "       'Maruti Ertiga VDI', 'Hyundai Santro Xing GLS', 'Lexus ES 300h',\n",
       "       'Jaguar XF 2.0 Diesel Portfolio', 'BMW X4 M Sport X xDrive20d',\n",
       "       'Jaguar XE 2016-2019 2.0L Diesel Prestige',\n",
       "       'Skoda Rapid 1.6 MPI AT Elegance', 'Toyota Camry 2.5 Hybrid',\n",
       "       'Maruti Swift VXI Optional', 'Hyundai i20 Magna 1.2',\n",
       "       'Maruti Ritz VDi', 'Hyundai Grand i10 Magna',\n",
       "       'Hyundai Grand i10 Sportz', 'Maruti Zen LXI', 'Toyota Etios GD',\n",
       "       'Maruti Wagon R LXI CNG', 'Hyundai i20 Sportz 1.2',\n",
       "       'Maruti Omni E 8 Str STD', 'Maruti Swift Dzire VXI 1.2',\n",
       "       'Hyundai i20 Magna', 'Tata Safari Storme EX', 'Renault KWID RXT',\n",
       "       'Maruti Vitara Brezza VDi Option', 'Tata Zest Revotron 1.2 XT',\n",
       "       'Maruti Ritz LDi', 'Maruti Eeco 5 Seater AC BSIV',\n",
       "       'Mahindra XUV500 W8 2WD', 'Maruti Ertiga SHVS ZDI Plus',\n",
       "       'Tata Indica Vista TDI LS', 'Hyundai Verna 1.6 CRDI',\n",
       "       'Maruti Swift Dzire ZDi', 'Toyota Fortuner 3.0 Diesel',\n",
       "       'Mahindra Thar CRDe', 'Mahindra Scorpio LX',\n",
       "       'Tata New Safari DICOR 2.2 EX 4x2',\n",
       "       'Mahindra Bolero 2011-2019 ZLX', 'Hyundai i20 1.2 Asta',\n",
       "       'Hyundai Grand i10 CRDi Sportz', 'Maruti Ertiga VXI',\n",
       "       'Renault KWID RXL', 'Tata Tiago 1.2 Revotron XZ',\n",
       "       'Hyundai Grand i10 1.2 CRDi Sportz', 'Maruti A-Star Vxi',\n",
       "       'Maruti Wagon R LXI', 'Ford Figo Diesel Titanium',\n",
       "       'Hyundai i10 Sportz', 'Toyota Innova 2.5 V Diesel 7-seater',\n",
       "       'Volvo XC40 D4 Inscription BSIV', 'Maruti Baleno Alpha 1.3',\n",
       "       'Honda Jazz VX', 'Toyota Innova 2.5 VX (Diesel) 7 Seater',\n",
       "       'Maruti Swift AMT VVT VXI', 'Toyota Etios VX',\n",
       "       'Maruti Swift AMT ZXI', 'Honda Amaze V CVT Petrol BSIV',\n",
       "       'Volvo V40 D3 R-Design', 'Hyundai Verna 1.6 SX CRDi (O)',\n",
       "       'Maruti Alto 800 VXI', 'Tata Indigo LS', 'Maruti Alto K10 LXI',\n",
       "       'Hyundai EON Sportz', 'Maruti Alto LXi BSIII',\n",
       "       'Maruti Swift VDI Optional', 'Ford Figo Diesel EXI',\n",
       "       'Mahindra Bolero 2011-2019 SLE', 'Renault Duster 110PS Diesel RxZ',\n",
       "       'Maruti SX4 S Cross 2015-2017 DDiS 200 Zeta',\n",
       "       'Maruti Swift Dzire VXi', 'Toyota Etios Liva GD',\n",
       "       'Chevrolet Beat Diesel LT', 'Hyundai EON Era Plus',\n",
       "       'Chevrolet Beat LT', 'Maruti Alto K10 2010-2014 VXI',\n",
       "       'Hyundai i20 1.2 Asta Option', 'Hyundai EON Magna Plus',\n",
       "       'Toyota Innova 2.5 G (Diesel) 8 Seater', 'Mahindra Bolero SLX',\n",
       "       'Hyundai i20 1.2 Spotz', 'Hyundai Grand i10 1.2 Kappa Sportz BSIV',\n",
       "       'Maruti Ertiga ZDI', 'Hyundai i10 Magna 1.2 iTech SE',\n",
       "       'Mahindra Bolero 2011-2019 SLX', 'Maruti Wagon R VXI Optional',\n",
       "       'Toyota Innova 2.5 G (Diesel) 8 Seater BS IV',\n",
       "       'Honda Amaze VX i-DTEC', 'Renault KWID 1.0 RXT Optional',\n",
       "       'Mahindra TUV 300 T8', 'Ford Figo Diesel ZXI',\n",
       "       'Maruti Wagon R LXI BS IV', 'Hyundai i10 Era', 'Maruti Swift VDI',\n",
       "       'Mahindra Scorpio S10 7 Seater',\n",
       "       'Ford EcoSport 1.5 TDCi Titanium BSIV',\n",
       "       'Mahindra Bolero 2011-2019 DI - AC BS III',\n",
       "       'Ford EcoSport 1.5 Diesel Titanium BSIV', 'Maruti Swift Vdi BSIII',\n",
       "       'Hyundai i20 Sportz 1.4 CRDi', 'Mahindra XUV500 W10 2WD',\n",
       "       'Volkswagen Polo Diesel Highline 1.2L', 'Mahindra Xylo D2',\n",
       "       'Maruti 800 AC', 'Mahindra XUV500 W6 2WD',\n",
       "       'Hyundai EON D Lite Plus', 'Honda City 2017-2020 GXi',\n",
       "       'Hyundai i20 Asta 1.2', 'Ford Fiesta Classic 1.4 Duratorq CLXI',\n",
       "       'Tata Indigo CS LX (TDI) BS III', 'Renault KWID RXT Optional',\n",
       "       'Hyundai i20 Asta Option 1.4 CRDi', 'Chevrolet Spark 1.0 LT',\n",
       "       'Tata Indica V2 DLS TC', 'Tata Safari DICOR 2.2 EX 4x2',\n",
       "       'Hyundai Creta 1.6 CRDi SX Option', 'Tata Indigo CS eLX BS IV',\n",
       "       'Maruti Eeco CNG 5 Seater AC BSIV', 'Tata Indigo CR4',\n",
       "       'Maruti Vitara Brezza ZDi Plus', 'Honda Amaze S i-Dtech',\n",
       "       'Mahindra XUV500 W8 4WD', 'Honda City i VTEC V',\n",
       "       'Chevrolet Cruze LTZ', 'Tata Indigo LX', 'Chevrolet Spark 1.0 LS',\n",
       "       'Mahindra TUV 300 mHAWK100 T8', 'Maruti Vitara Brezza ZDi',\n",
       "       'Tata Indica Vista TDI LX', 'Tata Tiago 1.2 Revotron XT',\n",
       "       'Maruti Ciaz ZDi Plus SHVS'], dtype=object)"
      ]
     },
     "execution_count": 301,
     "metadata": {},
     "output_type": "execute_result"
    }
   ],
   "source": [
    "df['name'].unique()"
   ]
  },
  {
   "cell_type": "code",
   "execution_count": 302,
   "metadata": {},
   "outputs": [
    {
     "data": {
      "text/html": [
       "<div>\n",
       "<style scoped>\n",
       "    .dataframe tbody tr th:only-of-type {\n",
       "        vertical-align: middle;\n",
       "    }\n",
       "\n",
       "    .dataframe tbody tr th {\n",
       "        vertical-align: top;\n",
       "    }\n",
       "\n",
       "    .dataframe thead th {\n",
       "        text-align: right;\n",
       "    }\n",
       "</style>\n",
       "<table border=\"1\" class=\"dataframe\">\n",
       "  <thead>\n",
       "    <tr style=\"text-align: right;\">\n",
       "      <th></th>\n",
       "      <th>name</th>\n",
       "      <th>selling_price</th>\n",
       "      <th>km_driven</th>\n",
       "      <th>fuel</th>\n",
       "      <th>seller_type</th>\n",
       "      <th>transmission</th>\n",
       "      <th>owner</th>\n",
       "      <th>mileage</th>\n",
       "      <th>engine</th>\n",
       "      <th>max_power</th>\n",
       "      <th>seats</th>\n",
       "      <th>age</th>\n",
       "    </tr>\n",
       "  </thead>\n",
       "  <tbody>\n",
       "    <tr>\n",
       "      <th>0</th>\n",
       "      <td>Maruti Swift Dzire VDI</td>\n",
       "      <td>450000</td>\n",
       "      <td>145500</td>\n",
       "      <td>Diesel</td>\n",
       "      <td>Individual</td>\n",
       "      <td>Manual</td>\n",
       "      <td>First Owner</td>\n",
       "      <td>23.4</td>\n",
       "      <td>1248</td>\n",
       "      <td>74</td>\n",
       "      <td>5.0</td>\n",
       "      <td>11</td>\n",
       "    </tr>\n",
       "    <tr>\n",
       "      <th>1</th>\n",
       "      <td>other</td>\n",
       "      <td>370000</td>\n",
       "      <td>120000</td>\n",
       "      <td>Diesel</td>\n",
       "      <td>Individual</td>\n",
       "      <td>Manual</td>\n",
       "      <td>Second Owner</td>\n",
       "      <td>21.14</td>\n",
       "      <td>1498</td>\n",
       "      <td>103.52</td>\n",
       "      <td>5.0</td>\n",
       "      <td>11</td>\n",
       "    </tr>\n",
       "    <tr>\n",
       "      <th>2</th>\n",
       "      <td>other</td>\n",
       "      <td>158000</td>\n",
       "      <td>140000</td>\n",
       "      <td>Petrol</td>\n",
       "      <td>Individual</td>\n",
       "      <td>Manual</td>\n",
       "      <td>Third Owner</td>\n",
       "      <td>17.7</td>\n",
       "      <td>1497</td>\n",
       "      <td>78</td>\n",
       "      <td>5.0</td>\n",
       "      <td>19</td>\n",
       "    </tr>\n",
       "  </tbody>\n",
       "</table>\n",
       "</div>"
      ],
      "text/plain": [
       "                     name  selling_price  km_driven    fuel seller_type  \\\n",
       "0  Maruti Swift Dzire VDI         450000     145500  Diesel  Individual   \n",
       "1                   other         370000     120000  Diesel  Individual   \n",
       "2                   other         158000     140000  Petrol  Individual   \n",
       "\n",
       "  transmission         owner mileage engine max_power  seats  age  \n",
       "0       Manual   First Owner    23.4   1248        74    5.0   11  \n",
       "1       Manual  Second Owner   21.14   1498    103.52    5.0   11  \n",
       "2       Manual   Third Owner    17.7   1497        78    5.0   19  "
      ]
     },
     "execution_count": 302,
     "metadata": {},
     "output_type": "execute_result"
    }
   ],
   "source": [
    "df.head(3)"
   ]
  },
  {
   "cell_type": "code",
   "execution_count": 303,
   "metadata": {},
   "outputs": [
    {
     "data": {
      "text/plain": [
       "array([  450000,   370000,   158000,   225000,   130000,   440000,\n",
       "          96000,    45000,   350000,   200000,   500000,    92000,\n",
       "         280000,   180000,   400000,   778000,   150000,   680000,\n",
       "         174000,   950000,   525000,   600000,   575000,   275000,\n",
       "         300000,   220000,   254999,   670000,    70000,   730000,\n",
       "         650000,   330000,   366000,  1149000,   425000,  2100000,\n",
       "         925000,   675000,   819999,   390000,  1500000,   700000,\n",
       "        1450000,  1090000,   850000,  1650000,  1750000,  1590000,\n",
       "        1689999,  1425000,   265000,   190000,   630000,   540000,\n",
       "         448000,   745000,  1025000,   235000,  1700000,    50000,\n",
       "        1200000,   610000,  2500000,   484999,   315000,   475000,\n",
       "         290000,   455000,   351000,   535000,   175000,   565000,\n",
       "         120000,   725000,   185000,   615000,   270000,   625000,\n",
       "         866000,   375000,   522000,   451999,   780000,   595000,\n",
       "        1140000,   360000,   105000,   135000,   690000,  3975000,\n",
       "        5150000,  3200000,  4100000,  4500000,  6000000,  3790000,\n",
       "        2150000,  5800000,  1864999,  2700000,   795000,  3400000,\n",
       "        2650000,  5850000,   975000,   805000,  2625000,   811000,\n",
       "         550000,   645000,  2550000,   599000,   875000,   894999,\n",
       "         340000,  1525000,  1900000,  2900000, 10000000,   160000,\n",
       "         515000,    40000,   480000,   487000,   386000,   100000,\n",
       "         490000,   345000,    85000,   215000,   320000,   459999,\n",
       "          65000,   720000,   800000,   520000,   580000,   420000,\n",
       "        1250000,   830000,   335000,   329000,   775000,   524000,\n",
       "         245000,   910000,   900000,   250000,  1100000,   640000,\n",
       "         409999,   165000,    80000,  1000000,   110000,    75000,\n",
       "         170000,  1380000,  1300000,   530000,   310000,  1150000,\n",
       "         380000,   404000,   114999,   465000,   210000,  4600000,\n",
       "         509999,    90000,   409000,   395000,    81000,   555000,\n",
       "         229999,  1210000,   325000,    60000,    89000,   434999,\n",
       "        3000000,   570000,  1550000,    64000,   140000,   503000,\n",
       "        3800000,  2000000,   740000,   750000,  5400000,  5500000,\n",
       "         779000,  2475000,   240000,  1085000,    95000,  1290000,\n",
       "         219000,   260000,   840000,   292000,   385000,  1050000,\n",
       "         735000,   560000,   585000,   760000,   430000,   643000,\n",
       "         285000,   660000,   268000,    88000,   561000,   755000,\n",
       "         125000,  1600000,   801000,   317000,   495000,   236000,\n",
       "        1800000,   415000,   217000,   466000,   204999,   605000,\n",
       "        1350000,   337000,   655000,   196000,   299000,   634000,\n",
       "        1225000,   238000,    72000,   590000,   195000,   715000,\n",
       "         168000,   531000,  1625000,   145000,   441000,    67500,\n",
       "         321000,   298000,  1075000,   681000,   810000,   573000,\n",
       "         101000,  1019999,   244000,  1165000,   241000,   327000,\n",
       "         620000,   576000,   695000,   231000,   261000,   371000,\n",
       "         421000,   710000,  1040000,   199000,   305000,  1745000,\n",
       "         611000,    55000,  1325000,   885000,   108000,   272000,\n",
       "        1125000,   388000,   757000,   626000,   793000,  3750000,\n",
       "        1400000,  1925000,   844999,  2940000,  1825000,   890000,\n",
       "         770000,   467000,   711000,   511000,   163000,   166000,\n",
       "         392000,   833000,    35000,   880000,  1030000,   521000,\n",
       "         451000,   472000,   649000,   429000,  1576000,   825000,\n",
       "         470000,  1560000,  1950000,   786000,   731000,   191000,\n",
       "         651000,   589000,   445000,    93150,   403000,   144000,\n",
       "          52000,   302000,   869999,   155000,   246000,   405000,\n",
       "        3250000,  1143000,   635000,  1575000,   318000,   152000,\n",
       "         248000,  1465000,  1080000,   678000,  1460000,   756000,\n",
       "         665000,  2950000,   377000,  1675000,   169000,   685000,\n",
       "         749000,   899000,   259000,   416000,   773000,   889000,\n",
       "         118000,   256000,  1888000,    99000,  2280000,    31504,\n",
       "         295000,   444000,    93000,   860000,  2450000,   198000,\n",
       "        2825000,  2125000,  3350000,   365000,   919999,  2600000,\n",
       "         839000,  1594000,   161000,   423000,   551000,   127000,\n",
       "         411000,  1530000,   376000,  1850000,    86000,   822000,\n",
       "          30000,   252000,   131000,   128000,   790000,   604000,\n",
       "        1175000,   256999,   141000,   151000,   577000,    83000,\n",
       "         946000,   356000,   955000,   978999,   348000,   399000,\n",
       "         362000,   499000,   358000,   278000,   426000,   211000,\n",
       "        1270000,   426999,   960000,  1031000,   479000,   764000,\n",
       "        2199000,  3600000,   184000,   119000,   267000,   328000,\n",
       "         112999,    39000,  2850000,  2800000,  3900000,   221000,\n",
       "         631000,   308000,   940000,   361000,   355000,  7200000,\n",
       "         930000,  1670000,   980000,   486000,   242000,   654000,\n",
       "         835000,   408000,    94500,  1110000,   438999,   911999,\n",
       "         693000,   449000,  1390000,   698000,   539000,   765000,\n",
       "         562000,   571000,   227999,  1151000,  1295000,  4090000,\n",
       "         347000,   493000,    78000,   545000,  1475000,   287000,\n",
       "        1630000,   501000,   181000,  2711000,  1035000,   316000,\n",
       "         813000,  1190000,   378000,   156000,   194000,   754000,\n",
       "          55599,  1511000,   250999,   312000,    66000,   369000,\n",
       "         149000,   752000,   142000,   111000,   206000,   567000,\n",
       "         699000,   632000,   905000,  1145000,    33983,    58000,\n",
       "         179000,  1515000,   178000,   222000,   387000,  1405000,\n",
       "         282000,   458000,   157000,   497000,  1227000,   574000,\n",
       "         121000,  3100000,    68000,  1920000,   808000,   512000,\n",
       "         671000,   799000,  1365000,  1490000,    80500,   189000,\n",
       "         892000,  1680000,   667000,   204000,    42000,   694000,\n",
       "         861999,   476999,  5200000,  2375000,  2750000,  1385000,\n",
       "         785000,  1275000,  1748999,   132000,    33351,  2064000,\n",
       "         469000,   906000,   797000,  6223000,  5923000,  6523000,\n",
       "         122000,   891000,   346000,   532000,   974000,   483000,\n",
       "         138000,   432000,  1757000,   412000,   126000,   736000,\n",
       "         579000,   187000,  4000000,  1898999,   311000,   482000,\n",
       "         401000,   737000,   291000,   999000,   957000,   834000,\n",
       "         297000,   669000,   616000,   129000,   115999,   861000,\n",
       "        3251000,   911000,   148000,   433000,   488000,    67000,\n",
       "         516000,   136000,    29999,   124000,  1938000,   172000,\n",
       "          59000,  3500000,   537000,    56000,   849000,   851000,\n",
       "         597000,   741000,   556000,   549000,   679000,   969999,\n",
       "        1237000,    31000,   666000,    54000,   374000,   455999,\n",
       "         453000,   258000,   428000,   262000,   389000,   339000,\n",
       "         277000,   578000,   684000,   949000,   227000,  5830000,\n",
       "         721000,   751000,  2400000,   990000,  1282000,  1147000,\n",
       "         558000,   722000,   563000,  2300000,  2200000,    57000,\n",
       "         488999,   276000,   434000,   372000,  1520000,   202999,\n",
       "         541000,   254000,   528000,   102000,   977000,  1251000,\n",
       "        1445000,    98000,    59259,   153000,  1051000,   591000,\n",
       "         319000,   454000,  1160000,  3300000,   791000,   352000,\n",
       "         802999,  1789999,  1044999,   279000,   944999,  1859000,\n",
       "         624000,  2175000,   430999,   803999,   934000,   357000,\n",
       "         965000,   341000,    75527,  1132000,   252999,   313000,\n",
       "         391000,  2051000,   212000,  2575000,  1516000,   359000,\n",
       "         209000,  1220000,  1180000,    45957,  1265000,   382000,\n",
       "         526000,    90177,    46000,   307000,   746000])"
      ]
     },
     "execution_count": 303,
     "metadata": {},
     "output_type": "execute_result"
    }
   ],
   "source": [
    "df['selling_price'].unique()"
   ]
  },
  {
   "cell_type": "code",
   "execution_count": 304,
   "metadata": {},
   "outputs": [
    {
     "data": {
      "text/plain": [
       "name               0\n",
       "selling_price      0\n",
       "km_driven          0\n",
       "fuel               0\n",
       "seller_type        0\n",
       "transmission       0\n",
       "owner              0\n",
       "mileage          221\n",
       "engine           221\n",
       "max_power        215\n",
       "seats            221\n",
       "age                0\n",
       "dtype: int64"
      ]
     },
     "execution_count": 304,
     "metadata": {},
     "output_type": "execute_result"
    }
   ],
   "source": [
    "df.isnull().sum()"
   ]
  },
  {
   "cell_type": "code",
   "execution_count": 305,
   "metadata": {},
   "outputs": [
    {
     "data": {
      "text/plain": [
       "array(['23.4', '21.14', '17.7', '23.0', '16.1', '20.14', '17.3', '23.59',\n",
       "       '20.0', '19.01', '19.3', nan, '18.9', '18.15', '24.52', '19.7',\n",
       "       '22.54', '21.0', '25.5', '26.59', '21.5', '20.3', '21.4', '24.7',\n",
       "       '18.2', '16.8', '24.3', '14.0', '18.6', '33.44', '23.95', '17.0',\n",
       "       '20.63', '13.93', '16.0', '17.8', '18.5', '12.55', '12.99', '14.8',\n",
       "       '13.5', '26.0', '20.65', '27.3', '11.36', '17.68', '14.28',\n",
       "       '18.53', '14.84', '21.12', '20.36', '21.27', '18.16', '22.0',\n",
       "       '25.1', '20.51', '21.66', '25.2', '22.9', '16.02', '20.54',\n",
       "       '22.77', '15.71', '23.1', '19.02', '19.81', '26.2', '16.47',\n",
       "       '15.04', '19.1', '21.79', '18.8', '21.21', '15.37', '11.79',\n",
       "       '19.0', '14.3', '15.8', '15.1', '19.09', '22.32', '21.9', '14.53',\n",
       "       '21.63', '20.85', '20.45', '19.67', '23.01', '20.77', '17.92',\n",
       "       '17.01', '22.37', '19.33', '9.5', '12.83', '22.48', '16.78',\n",
       "       '14.67', '15.0', '13.96', '18.0', '12.07', '26.21', '10.8', '16.3',\n",
       "       '13.6', '14.74', '15.6', '19.56', '22.69', '19.16', '18.12',\n",
       "       '12.1', '17.5', '42.0', '20.4', '21.1', '19.44', '13.0', '21.43',\n",
       "       '22.95', '16.2', '15.3', '28.09', '17.4', '19.4', '26.6', '17.6',\n",
       "       '28.4', '14.1', '25.17', '22.74', '17.57', '16.95', '19.49',\n",
       "       '17.21', '13.2', '14.2', '26.8', '25.4', '11.5', '27.28', '17.97',\n",
       "       '12.8', '16.55', '12.05', '14.07', '21.02', '11.57', '17.9',\n",
       "       '15.96', '17.1', '17.19', '21.01', '24.0', '25.6', '21.38',\n",
       "       '23.84', '23.08', '14.24', '20.71', '15.64', '14.5', '16.34',\n",
       "       '27.39', '11.1', '13.9', '20.88', '20.92', '23.8', '24.4', '15.29',\n",
       "       '21.19', '22.5', '19.6', '23.65', '25.32', '23.5', '16.6', '23.9',\n",
       "       '20.8', '27.62', '12.9', '25.44', '17.88', '22.7', '17.2', '15.42',\n",
       "       '19.68', '18.7', '15.4', '19.34', '22.71', '25.8', '13.7', '12.2',\n",
       "       '18.49', '9.0', '0.0', '13.58', '10.1', '20.5', '25.0', '10.5',\n",
       "       '22.07', '22.3', '15.26', '20.62', '27.4', '23.2', '14.4', '18.4',\n",
       "       '30.46', '14.02', '11.0', '20.6', '22.05', '20.2', '18.1', '22.1',\n",
       "       '19.87', '13.01', '18.06', '26.1', '16.52', '13.55', '24.2',\n",
       "       '25.83', '11.2', '17.09', '21.03', '17.45', '21.64', '21.94',\n",
       "       '13.87', '19.98', '20.52', '23.57', '11.7', '17.43', '18.88',\n",
       "       '13.68', '11.18', '20.89', '11.8', '19.62', '21.7', '14.9', '19.5',\n",
       "       '10.91', '15.7', '20.73', '15.85', '20.7', '14.23', '16.5',\n",
       "       '17.36', '12.6', '16.36', '14.95', '16.9', '19.2', '16.96',\n",
       "       '22.15', '18.78', '19.61', '17.71', '18.3', '19.12', '19.72',\n",
       "       '12.0', '11.4', '23.03', '11.07', '15.9', '17.67', '20.46', '13.1',\n",
       "       '13.45', '24.8', '15.73', '15.11', '12.7', '21.2', '20.38',\n",
       "       '21.56', '13.22', '14.49', '15.05', '23.26', '15.41', '13.8',\n",
       "       '22.27', '32.52', '14.66', '12.12', '16.84', '14.09', '14.7',\n",
       "       '13.4', '15.5', '13.49', '11.88', '14.6', '10.75', '24.5', '11.74',\n",
       "       '16.07', '15.63', '26.3', '23.7', '25.47', '17.05', '23.3', '11.9',\n",
       "       '13.38', '20.86', '10.9', '18.25', '15.2', '20.37', '21.8',\n",
       "       '11.96', '24.04', '19.69', '13.73', '21.04', '25.01', '10.93',\n",
       "       '24.29', '13.44', '20.07', '19.08', '20.34', '11.68', '12.5',\n",
       "       '12.3', '23.87', '16.38', '17.42', '10.0', '18.24', '10.71',\n",
       "       '19.59', '16.7', '19.83', '21.76', '16.05', '20.28', '16.25',\n",
       "       '16.73', '18.48', '14.99', '18.76', '16.4', '19.64', '14.94',\n",
       "       '17.11', '22.8', '32.26', '33.0', '12.4', '18.44', '16.09',\n",
       "       '12.62', '21.13', '15.17', '21.73', '21.72', '12.85', '14.81',\n",
       "       '13.24', '21.49', '14.62', '26.83', '11.45', '12.08', '15.74',\n",
       "       '11.3', '14.21', '11.72', '16.51'], dtype=object)"
      ]
     },
     "execution_count": 305,
     "metadata": {},
     "output_type": "execute_result"
    }
   ],
   "source": [
    "df['mileage'].unique()"
   ]
  },
  {
   "cell_type": "code",
   "execution_count": 306,
   "metadata": {},
   "outputs": [],
   "source": [
    "df['mileage']=df['mileage'].astype(float)"
   ]
  },
  {
   "cell_type": "code",
   "execution_count": 307,
   "metadata": {},
   "outputs": [],
   "source": [
    "df['mileage']=df['mileage'].fillna(df['mileage'].mean())"
   ]
  },
  {
   "cell_type": "code",
   "execution_count": 308,
   "metadata": {},
   "outputs": [
    {
     "data": {
      "text/plain": [
       "np.int64(0)"
      ]
     },
     "execution_count": 308,
     "metadata": {},
     "output_type": "execute_result"
    }
   ],
   "source": [
    "df['mileage'].isnull().sum()"
   ]
  },
  {
   "cell_type": "code",
   "execution_count": 309,
   "metadata": {},
   "outputs": [
    {
     "data": {
      "text/plain": [
       "array(['1248', '1498', '1497', '1396', '1298', '1197', '1061', '796',\n",
       "       '1364', '1399', '1461', '993', nan, '1198', '1199', '998', '1591',\n",
       "       '2179', '1368', '2982', '2494', '2143', '2477', '1462', '2755',\n",
       "       '1968', '1798', '1196', '1373', '1598', '1998', '1086', '1194',\n",
       "       '1172', '1405', '1582', '999', '2487', '1999', '3604', '2987',\n",
       "       '1995', '1451', '1969', '2967', '2497', '1797', '1991', '2362',\n",
       "       '1493', '1599', '1341', '1794', '799', '1193', '2696', '1495',\n",
       "       '1186', '1047', '2498', '2956', '2523', '1120', '624', '1496',\n",
       "       '1984', '2354', '814', '793', '1799', '936', '1956', '1997',\n",
       "       '1499', '1948', '2997', '2489', '2499', '2609', '2953', '1150',\n",
       "       '1994', '1388', '1527', '2199', '995', '2993', '1586', '1390',\n",
       "       '909', '2393', '3198', '1339', '2835', '2092', '1595', '2496',\n",
       "       '1596', '1597', '2596', '2148', '1299', '1590', '2231', '2694',\n",
       "       '2200', '1795', '1896', '1796', '1422', '1489', '2359', '2197',\n",
       "       '2999', '1781', '2650', '1343', '2446', '3498', '2198', '2776',\n",
       "       '1950'], dtype=object)"
      ]
     },
     "execution_count": 309,
     "metadata": {},
     "output_type": "execute_result"
    }
   ],
   "source": [
    "df['engine'].unique()"
   ]
  },
  {
   "cell_type": "code",
   "execution_count": 310,
   "metadata": {},
   "outputs": [],
   "source": [
    "df['engine']=df['engine'].astype(float)"
   ]
  },
  {
   "cell_type": "code",
   "execution_count": 311,
   "metadata": {},
   "outputs": [],
   "source": [
    "df['engine']=df['engine'].fillna(df['engine'].mean())"
   ]
  },
  {
   "cell_type": "code",
   "execution_count": 312,
   "metadata": {},
   "outputs": [
    {
     "data": {
      "text/html": [
       "<div>\n",
       "<style scoped>\n",
       "    .dataframe tbody tr th:only-of-type {\n",
       "        vertical-align: middle;\n",
       "    }\n",
       "\n",
       "    .dataframe tbody tr th {\n",
       "        vertical-align: top;\n",
       "    }\n",
       "\n",
       "    .dataframe thead th {\n",
       "        text-align: right;\n",
       "    }\n",
       "</style>\n",
       "<table border=\"1\" class=\"dataframe\">\n",
       "  <thead>\n",
       "    <tr style=\"text-align: right;\">\n",
       "      <th></th>\n",
       "      <th>name</th>\n",
       "      <th>selling_price</th>\n",
       "      <th>km_driven</th>\n",
       "      <th>fuel</th>\n",
       "      <th>seller_type</th>\n",
       "      <th>transmission</th>\n",
       "      <th>owner</th>\n",
       "      <th>mileage</th>\n",
       "      <th>engine</th>\n",
       "      <th>max_power</th>\n",
       "      <th>seats</th>\n",
       "      <th>age</th>\n",
       "    </tr>\n",
       "  </thead>\n",
       "  <tbody>\n",
       "    <tr>\n",
       "      <th>0</th>\n",
       "      <td>Maruti Swift Dzire VDI</td>\n",
       "      <td>450000</td>\n",
       "      <td>145500</td>\n",
       "      <td>Diesel</td>\n",
       "      <td>Individual</td>\n",
       "      <td>Manual</td>\n",
       "      <td>First Owner</td>\n",
       "      <td>23.40</td>\n",
       "      <td>1248.0</td>\n",
       "      <td>74</td>\n",
       "      <td>5.0</td>\n",
       "      <td>11</td>\n",
       "    </tr>\n",
       "    <tr>\n",
       "      <th>1</th>\n",
       "      <td>other</td>\n",
       "      <td>370000</td>\n",
       "      <td>120000</td>\n",
       "      <td>Diesel</td>\n",
       "      <td>Individual</td>\n",
       "      <td>Manual</td>\n",
       "      <td>Second Owner</td>\n",
       "      <td>21.14</td>\n",
       "      <td>1498.0</td>\n",
       "      <td>103.52</td>\n",
       "      <td>5.0</td>\n",
       "      <td>11</td>\n",
       "    </tr>\n",
       "    <tr>\n",
       "      <th>2</th>\n",
       "      <td>other</td>\n",
       "      <td>158000</td>\n",
       "      <td>140000</td>\n",
       "      <td>Petrol</td>\n",
       "      <td>Individual</td>\n",
       "      <td>Manual</td>\n",
       "      <td>Third Owner</td>\n",
       "      <td>17.70</td>\n",
       "      <td>1497.0</td>\n",
       "      <td>78</td>\n",
       "      <td>5.0</td>\n",
       "      <td>19</td>\n",
       "    </tr>\n",
       "  </tbody>\n",
       "</table>\n",
       "</div>"
      ],
      "text/plain": [
       "                     name  selling_price  km_driven    fuel seller_type  \\\n",
       "0  Maruti Swift Dzire VDI         450000     145500  Diesel  Individual   \n",
       "1                   other         370000     120000  Diesel  Individual   \n",
       "2                   other         158000     140000  Petrol  Individual   \n",
       "\n",
       "  transmission         owner  mileage  engine max_power  seats  age  \n",
       "0       Manual   First Owner    23.40  1248.0        74    5.0   11  \n",
       "1       Manual  Second Owner    21.14  1498.0    103.52    5.0   11  \n",
       "2       Manual   Third Owner    17.70  1497.0        78    5.0   19  "
      ]
     },
     "execution_count": 312,
     "metadata": {},
     "output_type": "execute_result"
    }
   ],
   "source": [
    "df.head(3)"
   ]
  },
  {
   "cell_type": "code",
   "execution_count": 313,
   "metadata": {},
   "outputs": [
    {
     "data": {
      "text/plain": [
       "name               0\n",
       "selling_price      0\n",
       "km_driven          0\n",
       "fuel               0\n",
       "seller_type        0\n",
       "transmission       0\n",
       "owner              0\n",
       "mileage            0\n",
       "engine             0\n",
       "max_power        215\n",
       "seats            221\n",
       "age                0\n",
       "dtype: int64"
      ]
     },
     "execution_count": 313,
     "metadata": {},
     "output_type": "execute_result"
    }
   ],
   "source": [
    "df.isnull().sum()"
   ]
  },
  {
   "cell_type": "code",
   "execution_count": 314,
   "metadata": {},
   "outputs": [
    {
     "data": {
      "text/plain": [
       "array(['74', '103.52', '78', '90', '88.2', '81.86', '57.5', '37', '67.1',\n",
       "       '68.1', '108.45', '60', '73.9', nan, '67', '82', '88.5', '46.3',\n",
       "       '88.73', '64.1', '98.6', '88.8', '83.81', '83.1', '47.3', '73.8',\n",
       "       '34.2', '35', '81.83', '40.3', '121.3', '138.03', '160.77',\n",
       "       '117.3', '116.3', '83.14', '67.05', '168.5', '100', '120.7',\n",
       "       '98.63', '175.56', '103.25', '171.5', '100.6', '174.33', '187.74',\n",
       "       '170', '78.9', '88.76', '86.8', '108.495', '108.62', '93.7',\n",
       "       '103.6', '98.59', '189', '67.04', '68.05', '58.2', '82.85',\n",
       "       '81.80', '73', '120', '94.68', '160', '65', '155', '69.01',\n",
       "       '126.32', '138.1', '83.8', '126.2', '98.96', '62.1', '86.7', '188',\n",
       "       '214.56', '177', '280', '148.31', '254.79', '190', '177.46', '204',\n",
       "       '141', '117.6', '241.4', '282', '150', '147.5', '108.5', '103.5',\n",
       "       '183', '181.04', '157.7', '164.7', '91.1', '400', '68', '75',\n",
       "       '85.8', '87.2', '53', '118', '103.2', '83', '84', '58.16',\n",
       "       '147.94', '74.02', '53.3', '80', '88.7', '97.7', '121.36', '162',\n",
       "       '140', '94', '100.57', '82.9', '83.11', '70', '153.86', '121',\n",
       "       '126.3', '73.97', '171', '69', '99.6', '102', '105', '63', '79.4',\n",
       "       '97.9', '63.1', '66.1', '110', '174.5', '53.26', '73.75', '67.06',\n",
       "       '64.08', '37.5', '189.3', '158.8', '61.7', '55.2', '71.01',\n",
       "       '73.74', '147.9', '71', '77', '121.4', '113.4', '47', '130',\n",
       "       '57.6', '138', '52.8', '53.64', '53.5', '76.8', '82.4', '113.42',\n",
       "       '76', '84.8', '0', '56.3', '218', '112', '92', '105.5', '169',\n",
       "       '95', '72.4', '115', '152', '91.2', '156', '74.9', '62', '105.3',\n",
       "       '73.94', '85.80', '85', '118.3', '72', '147.51', '58', '64',\n",
       "       '126.24', '76.9', '194.3', '99.23', '89.84', '123.7', '118.35',\n",
       "       '99', '241', '136', '261.4', '104.68', '37.48', '104', '88.50',\n",
       "       '63.12', '91.7', '102.5', '177.6', '45', '123.37', '147.8', '184',\n",
       "       '84.48', '68.07', '74.96', '167.6', '152.87', '112.2', '83.83',\n",
       "       '197', '110.4', '104.55', '103', '103.3', '66', '108.6', '165',\n",
       "       '163.7', '116.9', '94.93', '127', '198.5', '179.5', '120.69',\n",
       "       '121.31', '138.08', '187.7', '80.8', '86.79', '93.87', '116.6',\n",
       "       '143', '92.7', '88', '58.33', '78.8', '64.4', '125', '139.01',\n",
       "       '254.8', '181', '258', '55.23', '270.9', '265', '157.75', '101',\n",
       "       '186', '187.4', '224', '64.9', '148', '35.5', '89.75', '32.8',\n",
       "       '91.72', '106', '98.97', '66.6', '86', '65.3', '98.82', '198.25',\n",
       "       '38', '142', '132', '174.57', '178', '163.2', '203.2', '177.5',\n",
       "       '175', '57', '80.84', '68.4', '167.67', '170.63', '52', '149.5',\n",
       "       '48.21', '', '201.1', '100.5', '144', '194.4', '168.7', '104.5',\n",
       "       '103.26', '116.4', '98.79', '80.9', '58.3', '272', '235', '167.62',\n",
       "       '170.30', '139.46', '158', '110.5', '82.5', '141.1', '38.4',\n",
       "       '197.2', '161', '194', '122.4', '134.10', '60.2', '134', '203',\n",
       "       '135.1'], dtype=object)"
      ]
     },
     "execution_count": 314,
     "metadata": {},
     "output_type": "execute_result"
    }
   ],
   "source": [
    "df['max_power'].unique()"
   ]
  },
  {
   "cell_type": "code",
   "execution_count": 315,
   "metadata": {},
   "outputs": [
    {
     "data": {
      "text/plain": [
       "max_power\n",
       "74       377\n",
       "81.80    220\n",
       "88.5     204\n",
       "67       165\n",
       "46.3     162\n",
       "        ... \n",
       "80.9       1\n",
       "58.3       1\n",
       "272        1\n",
       "203        1\n",
       "135.1      1\n",
       "Name: count, Length: 322, dtype: int64"
      ]
     },
     "execution_count": 315,
     "metadata": {},
     "output_type": "execute_result"
    }
   ],
   "source": [
    "df['max_power'].value_counts()"
   ]
  },
  {
   "cell_type": "code",
   "execution_count": 316,
   "metadata": {},
   "outputs": [],
   "source": [
    "df['max_power'] = pd.to_numeric(df['max_power'], errors='coerce')"
   ]
  },
  {
   "cell_type": "code",
   "execution_count": 317,
   "metadata": {},
   "outputs": [
    {
     "data": {
      "text/plain": [
       "np.int64(216)"
      ]
     },
     "execution_count": 317,
     "metadata": {},
     "output_type": "execute_result"
    }
   ],
   "source": [
    "df['max_power'].isnull().sum()"
   ]
  },
  {
   "cell_type": "code",
   "execution_count": 318,
   "metadata": {},
   "outputs": [],
   "source": [
    "df['max_power']=df['max_power'].fillna(df['max_power'].mean())"
   ]
  },
  {
   "cell_type": "code",
   "execution_count": 319,
   "metadata": {},
   "outputs": [],
   "source": [
    "df['seats']=df['seats'].fillna(df['seats'].mode()[0])"
   ]
  },
  {
   "cell_type": "code",
   "execution_count": 320,
   "metadata": {},
   "outputs": [
    {
     "data": {
      "text/plain": [
       "name             0\n",
       "selling_price    0\n",
       "km_driven        0\n",
       "fuel             0\n",
       "seller_type      0\n",
       "transmission     0\n",
       "owner            0\n",
       "mileage          0\n",
       "engine           0\n",
       "max_power        0\n",
       "seats            0\n",
       "age              0\n",
       "dtype: int64"
      ]
     },
     "execution_count": 320,
     "metadata": {},
     "output_type": "execute_result"
    }
   ],
   "source": [
    "df.isnull().sum()"
   ]
  },
  {
   "cell_type": "code",
   "execution_count": 321,
   "metadata": {},
   "outputs": [
    {
     "data": {
      "text/html": [
       "<div>\n",
       "<style scoped>\n",
       "    .dataframe tbody tr th:only-of-type {\n",
       "        vertical-align: middle;\n",
       "    }\n",
       "\n",
       "    .dataframe tbody tr th {\n",
       "        vertical-align: top;\n",
       "    }\n",
       "\n",
       "    .dataframe thead th {\n",
       "        text-align: right;\n",
       "    }\n",
       "</style>\n",
       "<table border=\"1\" class=\"dataframe\">\n",
       "  <thead>\n",
       "    <tr style=\"text-align: right;\">\n",
       "      <th></th>\n",
       "      <th>name</th>\n",
       "      <th>selling_price</th>\n",
       "      <th>km_driven</th>\n",
       "      <th>fuel</th>\n",
       "      <th>seller_type</th>\n",
       "      <th>transmission</th>\n",
       "      <th>owner</th>\n",
       "      <th>mileage</th>\n",
       "      <th>engine</th>\n",
       "      <th>max_power</th>\n",
       "      <th>seats</th>\n",
       "      <th>age</th>\n",
       "    </tr>\n",
       "  </thead>\n",
       "  <tbody>\n",
       "    <tr>\n",
       "      <th>291</th>\n",
       "      <td>Hyundai Grand i10 Sportz</td>\n",
       "      <td>450000</td>\n",
       "      <td>35000</td>\n",
       "      <td>Petrol</td>\n",
       "      <td>Individual</td>\n",
       "      <td>Manual</td>\n",
       "      <td>First Owner</td>\n",
       "      <td>18.90</td>\n",
       "      <td>1197.0</td>\n",
       "      <td>82.00</td>\n",
       "      <td>5.0</td>\n",
       "      <td>8</td>\n",
       "    </tr>\n",
       "    <tr>\n",
       "      <th>296</th>\n",
       "      <td>Maruti Swift VXI</td>\n",
       "      <td>330000</td>\n",
       "      <td>50000</td>\n",
       "      <td>Petrol</td>\n",
       "      <td>Individual</td>\n",
       "      <td>Manual</td>\n",
       "      <td>Second Owner</td>\n",
       "      <td>18.60</td>\n",
       "      <td>1197.0</td>\n",
       "      <td>85.80</td>\n",
       "      <td>5.0</td>\n",
       "      <td>13</td>\n",
       "    </tr>\n",
       "    <tr>\n",
       "      <th>370</th>\n",
       "      <td>Jaguar XE 2016-2019 2.0L Diesel Prestige</td>\n",
       "      <td>2625000</td>\n",
       "      <td>9000</td>\n",
       "      <td>Diesel</td>\n",
       "      <td>Dealer</td>\n",
       "      <td>Automatic</td>\n",
       "      <td>First Owner</td>\n",
       "      <td>13.60</td>\n",
       "      <td>1999.0</td>\n",
       "      <td>177.00</td>\n",
       "      <td>5.0</td>\n",
       "      <td>8</td>\n",
       "    </tr>\n",
       "    <tr>\n",
       "      <th>371</th>\n",
       "      <td>Lexus ES 300h</td>\n",
       "      <td>5150000</td>\n",
       "      <td>20000</td>\n",
       "      <td>Petrol</td>\n",
       "      <td>Dealer</td>\n",
       "      <td>Automatic</td>\n",
       "      <td>First Owner</td>\n",
       "      <td>22.37</td>\n",
       "      <td>2487.0</td>\n",
       "      <td>214.56</td>\n",
       "      <td>5.0</td>\n",
       "      <td>6</td>\n",
       "    </tr>\n",
       "    <tr>\n",
       "      <th>372</th>\n",
       "      <td>Jaguar XF 2.0 Diesel Portfolio</td>\n",
       "      <td>3200000</td>\n",
       "      <td>45000</td>\n",
       "      <td>Diesel</td>\n",
       "      <td>Dealer</td>\n",
       "      <td>Automatic</td>\n",
       "      <td>First Owner</td>\n",
       "      <td>19.33</td>\n",
       "      <td>1999.0</td>\n",
       "      <td>177.00</td>\n",
       "      <td>5.0</td>\n",
       "      <td>8</td>\n",
       "    </tr>\n",
       "    <tr>\n",
       "      <th>...</th>\n",
       "      <td>...</td>\n",
       "      <td>...</td>\n",
       "      <td>...</td>\n",
       "      <td>...</td>\n",
       "      <td>...</td>\n",
       "      <td>...</td>\n",
       "      <td>...</td>\n",
       "      <td>...</td>\n",
       "      <td>...</td>\n",
       "      <td>...</td>\n",
       "      <td>...</td>\n",
       "      <td>...</td>\n",
       "    </tr>\n",
       "    <tr>\n",
       "      <th>7987</th>\n",
       "      <td>other</td>\n",
       "      <td>1265000</td>\n",
       "      <td>12000</td>\n",
       "      <td>Diesel</td>\n",
       "      <td>Individual</td>\n",
       "      <td>Manual</td>\n",
       "      <td>First Owner</td>\n",
       "      <td>20.37</td>\n",
       "      <td>1461.0</td>\n",
       "      <td>108.45</td>\n",
       "      <td>5.0</td>\n",
       "      <td>7</td>\n",
       "    </tr>\n",
       "    <tr>\n",
       "      <th>7988</th>\n",
       "      <td>other</td>\n",
       "      <td>1025000</td>\n",
       "      <td>32000</td>\n",
       "      <td>Diesel</td>\n",
       "      <td>Individual</td>\n",
       "      <td>Manual</td>\n",
       "      <td>First Owner</td>\n",
       "      <td>28.09</td>\n",
       "      <td>1248.0</td>\n",
       "      <td>88.50</td>\n",
       "      <td>5.0</td>\n",
       "      <td>6</td>\n",
       "    </tr>\n",
       "    <tr>\n",
       "      <th>8117</th>\n",
       "      <td>Maruti Swift Dzire VDI</td>\n",
       "      <td>625000</td>\n",
       "      <td>50000</td>\n",
       "      <td>Diesel</td>\n",
       "      <td>Individual</td>\n",
       "      <td>Manual</td>\n",
       "      <td>First Owner</td>\n",
       "      <td>26.59</td>\n",
       "      <td>1248.0</td>\n",
       "      <td>74.00</td>\n",
       "      <td>5.0</td>\n",
       "      <td>10</td>\n",
       "    </tr>\n",
       "    <tr>\n",
       "      <th>8126</th>\n",
       "      <td>Tata Indigo CR4</td>\n",
       "      <td>290000</td>\n",
       "      <td>25000</td>\n",
       "      <td>Diesel</td>\n",
       "      <td>Individual</td>\n",
       "      <td>Manual</td>\n",
       "      <td>First Owner</td>\n",
       "      <td>23.57</td>\n",
       "      <td>1396.0</td>\n",
       "      <td>70.00</td>\n",
       "      <td>5.0</td>\n",
       "      <td>12</td>\n",
       "    </tr>\n",
       "    <tr>\n",
       "      <th>8127</th>\n",
       "      <td>Tata Indigo CR4</td>\n",
       "      <td>290000</td>\n",
       "      <td>25000</td>\n",
       "      <td>Diesel</td>\n",
       "      <td>Individual</td>\n",
       "      <td>Manual</td>\n",
       "      <td>First Owner</td>\n",
       "      <td>23.57</td>\n",
       "      <td>1396.0</td>\n",
       "      <td>70.00</td>\n",
       "      <td>5.0</td>\n",
       "      <td>12</td>\n",
       "    </tr>\n",
       "  </tbody>\n",
       "</table>\n",
       "<p>1209 rows × 12 columns</p>\n",
       "</div>"
      ],
      "text/plain": [
       "                                          name  selling_price  km_driven  \\\n",
       "291                   Hyundai Grand i10 Sportz         450000      35000   \n",
       "296                           Maruti Swift VXI         330000      50000   \n",
       "370   Jaguar XE 2016-2019 2.0L Diesel Prestige        2625000       9000   \n",
       "371                              Lexus ES 300h        5150000      20000   \n",
       "372             Jaguar XF 2.0 Diesel Portfolio        3200000      45000   \n",
       "...                                        ...            ...        ...   \n",
       "7987                                     other        1265000      12000   \n",
       "7988                                     other        1025000      32000   \n",
       "8117                    Maruti Swift Dzire VDI         625000      50000   \n",
       "8126                           Tata Indigo CR4         290000      25000   \n",
       "8127                           Tata Indigo CR4         290000      25000   \n",
       "\n",
       "        fuel seller_type transmission         owner  mileage  engine  \\\n",
       "291   Petrol  Individual       Manual   First Owner    18.90  1197.0   \n",
       "296   Petrol  Individual       Manual  Second Owner    18.60  1197.0   \n",
       "370   Diesel      Dealer    Automatic   First Owner    13.60  1999.0   \n",
       "371   Petrol      Dealer    Automatic   First Owner    22.37  2487.0   \n",
       "372   Diesel      Dealer    Automatic   First Owner    19.33  1999.0   \n",
       "...      ...         ...          ...           ...      ...     ...   \n",
       "7987  Diesel  Individual       Manual   First Owner    20.37  1461.0   \n",
       "7988  Diesel  Individual       Manual   First Owner    28.09  1248.0   \n",
       "8117  Diesel  Individual       Manual   First Owner    26.59  1248.0   \n",
       "8126  Diesel  Individual       Manual   First Owner    23.57  1396.0   \n",
       "8127  Diesel  Individual       Manual   First Owner    23.57  1396.0   \n",
       "\n",
       "      max_power  seats  age  \n",
       "291       82.00    5.0    8  \n",
       "296       85.80    5.0   13  \n",
       "370      177.00    5.0    8  \n",
       "371      214.56    5.0    6  \n",
       "372      177.00    5.0    8  \n",
       "...         ...    ...  ...  \n",
       "7987     108.45    5.0    7  \n",
       "7988      88.50    5.0    6  \n",
       "8117      74.00    5.0   10  \n",
       "8126      70.00    5.0   12  \n",
       "8127      70.00    5.0   12  \n",
       "\n",
       "[1209 rows x 12 columns]"
      ]
     },
     "execution_count": 321,
     "metadata": {},
     "output_type": "execute_result"
    }
   ],
   "source": [
    "df[df.duplicated()]"
   ]
  },
  {
   "cell_type": "code",
   "execution_count": 322,
   "metadata": {},
   "outputs": [],
   "source": [
    "df=df.drop_duplicates(keep='first')"
   ]
  },
  {
   "cell_type": "code",
   "execution_count": 323,
   "metadata": {},
   "outputs": [
    {
     "data": {
      "text/html": [
       "<div>\n",
       "<style scoped>\n",
       "    .dataframe tbody tr th:only-of-type {\n",
       "        vertical-align: middle;\n",
       "    }\n",
       "\n",
       "    .dataframe tbody tr th {\n",
       "        vertical-align: top;\n",
       "    }\n",
       "\n",
       "    .dataframe thead th {\n",
       "        text-align: right;\n",
       "    }\n",
       "</style>\n",
       "<table border=\"1\" class=\"dataframe\">\n",
       "  <thead>\n",
       "    <tr style=\"text-align: right;\">\n",
       "      <th></th>\n",
       "      <th>name</th>\n",
       "      <th>selling_price</th>\n",
       "      <th>km_driven</th>\n",
       "      <th>fuel</th>\n",
       "      <th>seller_type</th>\n",
       "      <th>transmission</th>\n",
       "      <th>owner</th>\n",
       "      <th>mileage</th>\n",
       "      <th>engine</th>\n",
       "      <th>max_power</th>\n",
       "      <th>seats</th>\n",
       "      <th>age</th>\n",
       "    </tr>\n",
       "  </thead>\n",
       "  <tbody>\n",
       "  </tbody>\n",
       "</table>\n",
       "</div>"
      ],
      "text/plain": [
       "Empty DataFrame\n",
       "Columns: [name, selling_price, km_driven, fuel, seller_type, transmission, owner, mileage, engine, max_power, seats, age]\n",
       "Index: []"
      ]
     },
     "execution_count": 323,
     "metadata": {},
     "output_type": "execute_result"
    }
   ],
   "source": [
    "df[df.duplicated()]"
   ]
  },
  {
   "cell_type": "code",
   "execution_count": 324,
   "metadata": {},
   "outputs": [
    {
     "data": {
      "text/plain": [
       "(6919, 12)"
      ]
     },
     "execution_count": 324,
     "metadata": {},
     "output_type": "execute_result"
    }
   ],
   "source": [
    "df.shape"
   ]
  },
  {
   "cell_type": "code",
   "execution_count": 325,
   "metadata": {},
   "outputs": [
    {
     "data": {
      "text/html": [
       "<div>\n",
       "<style scoped>\n",
       "    .dataframe tbody tr th:only-of-type {\n",
       "        vertical-align: middle;\n",
       "    }\n",
       "\n",
       "    .dataframe tbody tr th {\n",
       "        vertical-align: top;\n",
       "    }\n",
       "\n",
       "    .dataframe thead th {\n",
       "        text-align: right;\n",
       "    }\n",
       "</style>\n",
       "<table border=\"1\" class=\"dataframe\">\n",
       "  <thead>\n",
       "    <tr style=\"text-align: right;\">\n",
       "      <th></th>\n",
       "      <th>name</th>\n",
       "      <th>selling_price</th>\n",
       "      <th>km_driven</th>\n",
       "      <th>fuel</th>\n",
       "      <th>seller_type</th>\n",
       "      <th>transmission</th>\n",
       "      <th>owner</th>\n",
       "      <th>mileage</th>\n",
       "      <th>engine</th>\n",
       "      <th>max_power</th>\n",
       "      <th>seats</th>\n",
       "      <th>age</th>\n",
       "    </tr>\n",
       "  </thead>\n",
       "  <tbody>\n",
       "    <tr>\n",
       "      <th>0</th>\n",
       "      <td>Maruti Swift Dzire VDI</td>\n",
       "      <td>450000</td>\n",
       "      <td>145500</td>\n",
       "      <td>Diesel</td>\n",
       "      <td>Individual</td>\n",
       "      <td>Manual</td>\n",
       "      <td>First Owner</td>\n",
       "      <td>23.40</td>\n",
       "      <td>1248.0</td>\n",
       "      <td>74.00</td>\n",
       "      <td>5.0</td>\n",
       "      <td>11</td>\n",
       "    </tr>\n",
       "    <tr>\n",
       "      <th>1</th>\n",
       "      <td>other</td>\n",
       "      <td>370000</td>\n",
       "      <td>120000</td>\n",
       "      <td>Diesel</td>\n",
       "      <td>Individual</td>\n",
       "      <td>Manual</td>\n",
       "      <td>Second Owner</td>\n",
       "      <td>21.14</td>\n",
       "      <td>1498.0</td>\n",
       "      <td>103.52</td>\n",
       "      <td>5.0</td>\n",
       "      <td>11</td>\n",
       "    </tr>\n",
       "    <tr>\n",
       "      <th>2</th>\n",
       "      <td>other</td>\n",
       "      <td>158000</td>\n",
       "      <td>140000</td>\n",
       "      <td>Petrol</td>\n",
       "      <td>Individual</td>\n",
       "      <td>Manual</td>\n",
       "      <td>Third Owner</td>\n",
       "      <td>17.70</td>\n",
       "      <td>1497.0</td>\n",
       "      <td>78.00</td>\n",
       "      <td>5.0</td>\n",
       "      <td>19</td>\n",
       "    </tr>\n",
       "    <tr>\n",
       "      <th>3</th>\n",
       "      <td>other</td>\n",
       "      <td>225000</td>\n",
       "      <td>127000</td>\n",
       "      <td>Diesel</td>\n",
       "      <td>Individual</td>\n",
       "      <td>Manual</td>\n",
       "      <td>First Owner</td>\n",
       "      <td>23.00</td>\n",
       "      <td>1396.0</td>\n",
       "      <td>90.00</td>\n",
       "      <td>5.0</td>\n",
       "      <td>15</td>\n",
       "    </tr>\n",
       "  </tbody>\n",
       "</table>\n",
       "</div>"
      ],
      "text/plain": [
       "                     name  selling_price  km_driven    fuel seller_type  \\\n",
       "0  Maruti Swift Dzire VDI         450000     145500  Diesel  Individual   \n",
       "1                   other         370000     120000  Diesel  Individual   \n",
       "2                   other         158000     140000  Petrol  Individual   \n",
       "3                   other         225000     127000  Diesel  Individual   \n",
       "\n",
       "  transmission         owner  mileage  engine  max_power  seats  age  \n",
       "0       Manual   First Owner    23.40  1248.0      74.00    5.0   11  \n",
       "1       Manual  Second Owner    21.14  1498.0     103.52    5.0   11  \n",
       "2       Manual   Third Owner    17.70  1497.0      78.00    5.0   19  \n",
       "3       Manual   First Owner    23.00  1396.0      90.00    5.0   15  "
      ]
     },
     "execution_count": 325,
     "metadata": {},
     "output_type": "execute_result"
    }
   ],
   "source": [
    "df.head(4)"
   ]
  },
  {
   "cell_type": "code",
   "execution_count": 326,
   "metadata": {},
   "outputs": [],
   "source": [
    "df['name']=df['name'].str.replace(' ','')"
   ]
  },
  {
   "cell_type": "code",
   "execution_count": 327,
   "metadata": {},
   "outputs": [
    {
     "data": {
      "text/html": [
       "<div>\n",
       "<style scoped>\n",
       "    .dataframe tbody tr th:only-of-type {\n",
       "        vertical-align: middle;\n",
       "    }\n",
       "\n",
       "    .dataframe tbody tr th {\n",
       "        vertical-align: top;\n",
       "    }\n",
       "\n",
       "    .dataframe thead th {\n",
       "        text-align: right;\n",
       "    }\n",
       "</style>\n",
       "<table border=\"1\" class=\"dataframe\">\n",
       "  <thead>\n",
       "    <tr style=\"text-align: right;\">\n",
       "      <th></th>\n",
       "      <th>name</th>\n",
       "      <th>selling_price</th>\n",
       "      <th>km_driven</th>\n",
       "      <th>fuel</th>\n",
       "      <th>seller_type</th>\n",
       "      <th>transmission</th>\n",
       "      <th>owner</th>\n",
       "      <th>mileage</th>\n",
       "      <th>engine</th>\n",
       "      <th>max_power</th>\n",
       "      <th>seats</th>\n",
       "      <th>age</th>\n",
       "    </tr>\n",
       "  </thead>\n",
       "  <tbody>\n",
       "    <tr>\n",
       "      <th>0</th>\n",
       "      <td>MarutiSwiftDzireVDI</td>\n",
       "      <td>450000</td>\n",
       "      <td>145500</td>\n",
       "      <td>Diesel</td>\n",
       "      <td>Individual</td>\n",
       "      <td>Manual</td>\n",
       "      <td>First Owner</td>\n",
       "      <td>23.40</td>\n",
       "      <td>1248.0</td>\n",
       "      <td>74.00</td>\n",
       "      <td>5.0</td>\n",
       "      <td>11</td>\n",
       "    </tr>\n",
       "    <tr>\n",
       "      <th>1</th>\n",
       "      <td>other</td>\n",
       "      <td>370000</td>\n",
       "      <td>120000</td>\n",
       "      <td>Diesel</td>\n",
       "      <td>Individual</td>\n",
       "      <td>Manual</td>\n",
       "      <td>Second Owner</td>\n",
       "      <td>21.14</td>\n",
       "      <td>1498.0</td>\n",
       "      <td>103.52</td>\n",
       "      <td>5.0</td>\n",
       "      <td>11</td>\n",
       "    </tr>\n",
       "    <tr>\n",
       "      <th>2</th>\n",
       "      <td>other</td>\n",
       "      <td>158000</td>\n",
       "      <td>140000</td>\n",
       "      <td>Petrol</td>\n",
       "      <td>Individual</td>\n",
       "      <td>Manual</td>\n",
       "      <td>Third Owner</td>\n",
       "      <td>17.70</td>\n",
       "      <td>1497.0</td>\n",
       "      <td>78.00</td>\n",
       "      <td>5.0</td>\n",
       "      <td>19</td>\n",
       "    </tr>\n",
       "    <tr>\n",
       "      <th>3</th>\n",
       "      <td>other</td>\n",
       "      <td>225000</td>\n",
       "      <td>127000</td>\n",
       "      <td>Diesel</td>\n",
       "      <td>Individual</td>\n",
       "      <td>Manual</td>\n",
       "      <td>First Owner</td>\n",
       "      <td>23.00</td>\n",
       "      <td>1396.0</td>\n",
       "      <td>90.00</td>\n",
       "      <td>5.0</td>\n",
       "      <td>15</td>\n",
       "    </tr>\n",
       "    <tr>\n",
       "      <th>4</th>\n",
       "      <td>other</td>\n",
       "      <td>130000</td>\n",
       "      <td>120000</td>\n",
       "      <td>Petrol</td>\n",
       "      <td>Individual</td>\n",
       "      <td>Manual</td>\n",
       "      <td>First Owner</td>\n",
       "      <td>16.10</td>\n",
       "      <td>1298.0</td>\n",
       "      <td>88.20</td>\n",
       "      <td>5.0</td>\n",
       "      <td>18</td>\n",
       "    </tr>\n",
       "  </tbody>\n",
       "</table>\n",
       "</div>"
      ],
      "text/plain": [
       "                  name  selling_price  km_driven    fuel seller_type  \\\n",
       "0  MarutiSwiftDzireVDI         450000     145500  Diesel  Individual   \n",
       "1                other         370000     120000  Diesel  Individual   \n",
       "2                other         158000     140000  Petrol  Individual   \n",
       "3                other         225000     127000  Diesel  Individual   \n",
       "4                other         130000     120000  Petrol  Individual   \n",
       "\n",
       "  transmission         owner  mileage  engine  max_power  seats  age  \n",
       "0       Manual   First Owner    23.40  1248.0      74.00    5.0   11  \n",
       "1       Manual  Second Owner    21.14  1498.0     103.52    5.0   11  \n",
       "2       Manual   Third Owner    17.70  1497.0      78.00    5.0   19  \n",
       "3       Manual   First Owner    23.00  1396.0      90.00    5.0   15  \n",
       "4       Manual   First Owner    16.10  1298.0      88.20    5.0   18  "
      ]
     },
     "execution_count": 327,
     "metadata": {},
     "output_type": "execute_result"
    }
   ],
   "source": [
    "df.head()"
   ]
  },
  {
   "cell_type": "code",
   "execution_count": 328,
   "metadata": {},
   "outputs": [
    {
     "data": {
      "text/plain": [
       "array(['Diesel', 'Petrol', 'LPG', 'CNG'], dtype=object)"
      ]
     },
     "execution_count": 328,
     "metadata": {},
     "output_type": "execute_result"
    }
   ],
   "source": [
    "df['fuel'].unique()"
   ]
  },
  {
   "cell_type": "code",
   "execution_count": 329,
   "metadata": {},
   "outputs": [
    {
     "data": {
      "text/plain": [
       "array(['Individual', 'Dealer', 'Trustmark Dealer'], dtype=object)"
      ]
     },
     "execution_count": 329,
     "metadata": {},
     "output_type": "execute_result"
    }
   ],
   "source": [
    "df['seller_type'].unique()"
   ]
  },
  {
   "cell_type": "code",
   "execution_count": 330,
   "metadata": {},
   "outputs": [],
   "source": [
    "df['seller_type']=df['seller_type'].str.replace(' ','')"
   ]
  },
  {
   "cell_type": "code",
   "execution_count": 331,
   "metadata": {},
   "outputs": [
    {
     "data": {
      "text/plain": [
       "array(['Individual', 'Dealer', 'TrustmarkDealer'], dtype=object)"
      ]
     },
     "execution_count": 331,
     "metadata": {},
     "output_type": "execute_result"
    }
   ],
   "source": [
    "df['seller_type'].unique()"
   ]
  },
  {
   "cell_type": "code",
   "execution_count": 332,
   "metadata": {},
   "outputs": [
    {
     "data": {
      "text/plain": [
       "<matplotlib.collections.PathCollection at 0x2e1c2103c50>"
      ]
     },
     "execution_count": 332,
     "metadata": {},
     "output_type": "execute_result"
    },
    {
     "data": {
      "image/png": "[encoded data removed]",
      "text/plain": [
       "<Figure size 640x480 with 1 Axes>"
      ]
     },
     "metadata": {},
     "output_type": "display_data"
    }
   ],
   "source": [
    "plt.scatter(df['seller_type'],df['selling_price'])"
   ]
  },
  {
   "cell_type": "code",
   "execution_count": 333,
   "metadata": {},
   "outputs": [
    {
     "name": "stdout",
     "output_type": "stream",
     "text": [
      "ANOVA p-value: 2.1516028677173907e-107\n"
     ]
    }
   ],
   "source": [
    "from scipy.stats import f_oneway\n",
    "\n",
    "# Get price data for each seller type\n",
    "groups = [df[df['seller_type'] == seller]['selling_price'] for seller in df['seller_type'].unique()]\n",
    "\n",
    "# ANOVA Test\n",
    "stat, p_value = f_oneway(*groups)\n",
    "\n",
    "print(f'ANOVA p-value: {p_value}')\n"
   ]
  },
  {
   "cell_type": "code",
   "execution_count": 334,
   "metadata": {},
   "outputs": [
    {
     "data": {
      "text/html": [
       "<div>\n",
       "<style scoped>\n",
       "    .dataframe tbody tr th:only-of-type {\n",
       "        vertical-align: middle;\n",
       "    }\n",
       "\n",
       "    .dataframe tbody tr th {\n",
       "        vertical-align: top;\n",
       "    }\n",
       "\n",
       "    .dataframe thead th {\n",
       "        text-align: right;\n",
       "    }\n",
       "</style>\n",
       "<table border=\"1\" class=\"dataframe\">\n",
       "  <thead>\n",
       "    <tr style=\"text-align: right;\">\n",
       "      <th></th>\n",
       "      <th>name</th>\n",
       "      <th>selling_price</th>\n",
       "      <th>km_driven</th>\n",
       "      <th>fuel</th>\n",
       "      <th>seller_type</th>\n",
       "      <th>transmission</th>\n",
       "      <th>owner</th>\n",
       "      <th>mileage</th>\n",
       "      <th>engine</th>\n",
       "      <th>max_power</th>\n",
       "      <th>seats</th>\n",
       "      <th>age</th>\n",
       "    </tr>\n",
       "  </thead>\n",
       "  <tbody>\n",
       "    <tr>\n",
       "      <th>0</th>\n",
       "      <td>MarutiSwiftDzireVDI</td>\n",
       "      <td>450000</td>\n",
       "      <td>145500</td>\n",
       "      <td>Diesel</td>\n",
       "      <td>Individual</td>\n",
       "      <td>Manual</td>\n",
       "      <td>First Owner</td>\n",
       "      <td>23.40</td>\n",
       "      <td>1248.0</td>\n",
       "      <td>74.00</td>\n",
       "      <td>5.0</td>\n",
       "      <td>11</td>\n",
       "    </tr>\n",
       "    <tr>\n",
       "      <th>1</th>\n",
       "      <td>other</td>\n",
       "      <td>370000</td>\n",
       "      <td>120000</td>\n",
       "      <td>Diesel</td>\n",
       "      <td>Individual</td>\n",
       "      <td>Manual</td>\n",
       "      <td>Second Owner</td>\n",
       "      <td>21.14</td>\n",
       "      <td>1498.0</td>\n",
       "      <td>103.52</td>\n",
       "      <td>5.0</td>\n",
       "      <td>11</td>\n",
       "    </tr>\n",
       "    <tr>\n",
       "      <th>2</th>\n",
       "      <td>other</td>\n",
       "      <td>158000</td>\n",
       "      <td>140000</td>\n",
       "      <td>Petrol</td>\n",
       "      <td>Individual</td>\n",
       "      <td>Manual</td>\n",
       "      <td>Third Owner</td>\n",
       "      <td>17.70</td>\n",
       "      <td>1497.0</td>\n",
       "      <td>78.00</td>\n",
       "      <td>5.0</td>\n",
       "      <td>19</td>\n",
       "    </tr>\n",
       "    <tr>\n",
       "      <th>3</th>\n",
       "      <td>other</td>\n",
       "      <td>225000</td>\n",
       "      <td>127000</td>\n",
       "      <td>Diesel</td>\n",
       "      <td>Individual</td>\n",
       "      <td>Manual</td>\n",
       "      <td>First Owner</td>\n",
       "      <td>23.00</td>\n",
       "      <td>1396.0</td>\n",
       "      <td>90.00</td>\n",
       "      <td>5.0</td>\n",
       "      <td>15</td>\n",
       "    </tr>\n",
       "    <tr>\n",
       "      <th>4</th>\n",
       "      <td>other</td>\n",
       "      <td>130000</td>\n",
       "      <td>120000</td>\n",
       "      <td>Petrol</td>\n",
       "      <td>Individual</td>\n",
       "      <td>Manual</td>\n",
       "      <td>First Owner</td>\n",
       "      <td>16.10</td>\n",
       "      <td>1298.0</td>\n",
       "      <td>88.20</td>\n",
       "      <td>5.0</td>\n",
       "      <td>18</td>\n",
       "    </tr>\n",
       "  </tbody>\n",
       "</table>\n",
       "</div>"
      ],
      "text/plain": [
       "                  name  selling_price  km_driven    fuel seller_type  \\\n",
       "0  MarutiSwiftDzireVDI         450000     145500  Diesel  Individual   \n",
       "1                other         370000     120000  Diesel  Individual   \n",
       "2                other         158000     140000  Petrol  Individual   \n",
       "3                other         225000     127000  Diesel  Individual   \n",
       "4                other         130000     120000  Petrol  Individual   \n",
       "\n",
       "  transmission         owner  mileage  engine  max_power  seats  age  \n",
       "0       Manual   First Owner    23.40  1248.0      74.00    5.0   11  \n",
       "1       Manual  Second Owner    21.14  1498.0     103.52    5.0   11  \n",
       "2       Manual   Third Owner    17.70  1497.0      78.00    5.0   19  \n",
       "3       Manual   First Owner    23.00  1396.0      90.00    5.0   15  \n",
       "4       Manual   First Owner    16.10  1298.0      88.20    5.0   18  "
      ]
     },
     "execution_count": 334,
     "metadata": {},
     "output_type": "execute_result"
    }
   ],
   "source": [
    "df.head()"
   ]
  },
  {
   "cell_type": "code",
   "execution_count": 335,
   "metadata": {},
   "outputs": [
    {
     "data": {
      "text/plain": [
       "array(['Manual', 'Automatic'], dtype=object)"
      ]
     },
     "execution_count": 335,
     "metadata": {},
     "output_type": "execute_result"
    }
   ],
   "source": [
    "df['transmission'].unique()"
   ]
  },
  {
   "cell_type": "code",
   "execution_count": 336,
   "metadata": {},
   "outputs": [
    {
     "data": {
      "text/plain": [
       "array(['First Owner', 'Second Owner', 'Third Owner',\n",
       "       'Fourth & Above Owner', 'Test Drive Car'], dtype=object)"
      ]
     },
     "execution_count": 336,
     "metadata": {},
     "output_type": "execute_result"
    }
   ],
   "source": [
    "df['owner'].unique()"
   ]
  },
  {
   "cell_type": "code",
   "execution_count": 337,
   "metadata": {},
   "outputs": [],
   "source": [
    "df['price']=df['selling_price']"
   ]
  },
  {
   "cell_type": "code",
   "execution_count": 338,
   "metadata": {},
   "outputs": [
    {
     "data": {
      "text/html": [
       "<div>\n",
       "<style scoped>\n",
       "    .dataframe tbody tr th:only-of-type {\n",
       "        vertical-align: middle;\n",
       "    }\n",
       "\n",
       "    .dataframe tbody tr th {\n",
       "        vertical-align: top;\n",
       "    }\n",
       "\n",
       "    .dataframe thead th {\n",
       "        text-align: right;\n",
       "    }\n",
       "</style>\n",
       "<table border=\"1\" class=\"dataframe\">\n",
       "  <thead>\n",
       "    <tr style=\"text-align: right;\">\n",
       "      <th></th>\n",
       "      <th>name</th>\n",
       "      <th>selling_price</th>\n",
       "      <th>km_driven</th>\n",
       "      <th>fuel</th>\n",
       "      <th>seller_type</th>\n",
       "      <th>transmission</th>\n",
       "      <th>owner</th>\n",
       "      <th>mileage</th>\n",
       "      <th>engine</th>\n",
       "      <th>max_power</th>\n",
       "      <th>seats</th>\n",
       "      <th>age</th>\n",
       "      <th>price</th>\n",
       "    </tr>\n",
       "  </thead>\n",
       "  <tbody>\n",
       "    <tr>\n",
       "      <th>0</th>\n",
       "      <td>MarutiSwiftDzireVDI</td>\n",
       "      <td>450000</td>\n",
       "      <td>145500</td>\n",
       "      <td>Diesel</td>\n",
       "      <td>Individual</td>\n",
       "      <td>Manual</td>\n",
       "      <td>First Owner</td>\n",
       "      <td>23.40</td>\n",
       "      <td>1248.0</td>\n",
       "      <td>74.00</td>\n",
       "      <td>5.0</td>\n",
       "      <td>11</td>\n",
       "      <td>450000</td>\n",
       "    </tr>\n",
       "    <tr>\n",
       "      <th>1</th>\n",
       "      <td>other</td>\n",
       "      <td>370000</td>\n",
       "      <td>120000</td>\n",
       "      <td>Diesel</td>\n",
       "      <td>Individual</td>\n",
       "      <td>Manual</td>\n",
       "      <td>Second Owner</td>\n",
       "      <td>21.14</td>\n",
       "      <td>1498.0</td>\n",
       "      <td>103.52</td>\n",
       "      <td>5.0</td>\n",
       "      <td>11</td>\n",
       "      <td>370000</td>\n",
       "    </tr>\n",
       "    <tr>\n",
       "      <th>2</th>\n",
       "      <td>other</td>\n",
       "      <td>158000</td>\n",
       "      <td>140000</td>\n",
       "      <td>Petrol</td>\n",
       "      <td>Individual</td>\n",
       "      <td>Manual</td>\n",
       "      <td>Third Owner</td>\n",
       "      <td>17.70</td>\n",
       "      <td>1497.0</td>\n",
       "      <td>78.00</td>\n",
       "      <td>5.0</td>\n",
       "      <td>19</td>\n",
       "      <td>158000</td>\n",
       "    </tr>\n",
       "    <tr>\n",
       "      <th>3</th>\n",
       "      <td>other</td>\n",
       "      <td>225000</td>\n",
       "      <td>127000</td>\n",
       "      <td>Diesel</td>\n",
       "      <td>Individual</td>\n",
       "      <td>Manual</td>\n",
       "      <td>First Owner</td>\n",
       "      <td>23.00</td>\n",
       "      <td>1396.0</td>\n",
       "      <td>90.00</td>\n",
       "      <td>5.0</td>\n",
       "      <td>15</td>\n",
       "      <td>225000</td>\n",
       "    </tr>\n",
       "    <tr>\n",
       "      <th>4</th>\n",
       "      <td>other</td>\n",
       "      <td>130000</td>\n",
       "      <td>120000</td>\n",
       "      <td>Petrol</td>\n",
       "      <td>Individual</td>\n",
       "      <td>Manual</td>\n",
       "      <td>First Owner</td>\n",
       "      <td>16.10</td>\n",
       "      <td>1298.0</td>\n",
       "      <td>88.20</td>\n",
       "      <td>5.0</td>\n",
       "      <td>18</td>\n",
       "      <td>130000</td>\n",
       "    </tr>\n",
       "  </tbody>\n",
       "</table>\n",
       "</div>"
      ],
      "text/plain": [
       "                  name  selling_price  km_driven    fuel seller_type  \\\n",
       "0  MarutiSwiftDzireVDI         450000     145500  Diesel  Individual   \n",
       "1                other         370000     120000  Diesel  Individual   \n",
       "2                other         158000     140000  Petrol  Individual   \n",
       "3                other         225000     127000  Diesel  Individual   \n",
       "4                other         130000     120000  Petrol  Individual   \n",
       "\n",
       "  transmission         owner  mileage  engine  max_power  seats  age   price  \n",
       "0       Manual   First Owner    23.40  1248.0      74.00    5.0   11  450000  \n",
       "1       Manual  Second Owner    21.14  1498.0     103.52    5.0   11  370000  \n",
       "2       Manual   Third Owner    17.70  1497.0      78.00    5.0   19  158000  \n",
       "3       Manual   First Owner    23.00  1396.0      90.00    5.0   15  225000  \n",
       "4       Manual   First Owner    16.10  1298.0      88.20    5.0   18  130000  "
      ]
     },
     "execution_count": 338,
     "metadata": {},
     "output_type": "execute_result"
    }
   ],
   "source": [
    "df.head()"
   ]
  },
  {
   "cell_type": "code",
   "execution_count": 339,
   "metadata": {},
   "outputs": [],
   "source": [
    "df.drop(columns=['selling_price'],axis=1,inplace=True)"
   ]
  },
  {
   "cell_type": "code",
   "execution_count": 340,
   "metadata": {},
   "outputs": [
    {
     "data": {
      "text/html": [
       "<div>\n",
       "<style scoped>\n",
       "    .dataframe tbody tr th:only-of-type {\n",
       "        vertical-align: middle;\n",
       "    }\n",
       "\n",
       "    .dataframe tbody tr th {\n",
       "        vertical-align: top;\n",
       "    }\n",
       "\n",
       "    .dataframe thead th {\n",
       "        text-align: right;\n",
       "    }\n",
       "</style>\n",
       "<table border=\"1\" class=\"dataframe\">\n",
       "  <thead>\n",
       "    <tr style=\"text-align: right;\">\n",
       "      <th></th>\n",
       "      <th>name</th>\n",
       "      <th>km_driven</th>\n",
       "      <th>fuel</th>\n",
       "      <th>seller_type</th>\n",
       "      <th>transmission</th>\n",
       "      <th>owner</th>\n",
       "      <th>mileage</th>\n",
       "      <th>engine</th>\n",
       "      <th>max_power</th>\n",
       "      <th>seats</th>\n",
       "      <th>age</th>\n",
       "      <th>price</th>\n",
       "    </tr>\n",
       "  </thead>\n",
       "  <tbody>\n",
       "    <tr>\n",
       "      <th>0</th>\n",
       "      <td>MarutiSwiftDzireVDI</td>\n",
       "      <td>145500</td>\n",
       "      <td>Diesel</td>\n",
       "      <td>Individual</td>\n",
       "      <td>Manual</td>\n",
       "      <td>First Owner</td>\n",
       "      <td>23.40</td>\n",
       "      <td>1248.0</td>\n",
       "      <td>74.00</td>\n",
       "      <td>5.0</td>\n",
       "      <td>11</td>\n",
       "      <td>450000</td>\n",
       "    </tr>\n",
       "    <tr>\n",
       "      <th>1</th>\n",
       "      <td>other</td>\n",
       "      <td>120000</td>\n",
       "      <td>Diesel</td>\n",
       "      <td>Individual</td>\n",
       "      <td>Manual</td>\n",
       "      <td>Second Owner</td>\n",
       "      <td>21.14</td>\n",
       "      <td>1498.0</td>\n",
       "      <td>103.52</td>\n",
       "      <td>5.0</td>\n",
       "      <td>11</td>\n",
       "      <td>370000</td>\n",
       "    </tr>\n",
       "    <tr>\n",
       "      <th>2</th>\n",
       "      <td>other</td>\n",
       "      <td>140000</td>\n",
       "      <td>Petrol</td>\n",
       "      <td>Individual</td>\n",
       "      <td>Manual</td>\n",
       "      <td>Third Owner</td>\n",
       "      <td>17.70</td>\n",
       "      <td>1497.0</td>\n",
       "      <td>78.00</td>\n",
       "      <td>5.0</td>\n",
       "      <td>19</td>\n",
       "      <td>158000</td>\n",
       "    </tr>\n",
       "    <tr>\n",
       "      <th>3</th>\n",
       "      <td>other</td>\n",
       "      <td>127000</td>\n",
       "      <td>Diesel</td>\n",
       "      <td>Individual</td>\n",
       "      <td>Manual</td>\n",
       "      <td>First Owner</td>\n",
       "      <td>23.00</td>\n",
       "      <td>1396.0</td>\n",
       "      <td>90.00</td>\n",
       "      <td>5.0</td>\n",
       "      <td>15</td>\n",
       "      <td>225000</td>\n",
       "    </tr>\n",
       "    <tr>\n",
       "      <th>4</th>\n",
       "      <td>other</td>\n",
       "      <td>120000</td>\n",
       "      <td>Petrol</td>\n",
       "      <td>Individual</td>\n",
       "      <td>Manual</td>\n",
       "      <td>First Owner</td>\n",
       "      <td>16.10</td>\n",
       "      <td>1298.0</td>\n",
       "      <td>88.20</td>\n",
       "      <td>5.0</td>\n",
       "      <td>18</td>\n",
       "      <td>130000</td>\n",
       "    </tr>\n",
       "  </tbody>\n",
       "</table>\n",
       "</div>"
      ],
      "text/plain": [
       "                  name  km_driven    fuel seller_type transmission  \\\n",
       "0  MarutiSwiftDzireVDI     145500  Diesel  Individual       Manual   \n",
       "1                other     120000  Diesel  Individual       Manual   \n",
       "2                other     140000  Petrol  Individual       Manual   \n",
       "3                other     127000  Diesel  Individual       Manual   \n",
       "4                other     120000  Petrol  Individual       Manual   \n",
       "\n",
       "          owner  mileage  engine  max_power  seats  age   price  \n",
       "0   First Owner    23.40  1248.0      74.00    5.0   11  450000  \n",
       "1  Second Owner    21.14  1498.0     103.52    5.0   11  370000  \n",
       "2   Third Owner    17.70  1497.0      78.00    5.0   19  158000  \n",
       "3   First Owner    23.00  1396.0      90.00    5.0   15  225000  \n",
       "4   First Owner    16.10  1298.0      88.20    5.0   18  130000  "
      ]
     },
     "execution_count": 340,
     "metadata": {},
     "output_type": "execute_result"
    }
   ],
   "source": [
    "df.head()"
   ]
  },
  {
   "cell_type": "code",
   "execution_count": 341,
   "metadata": {},
   "outputs": [
    {
     "data": {
      "text/plain": [
       "Index(['name', 'km_driven', 'fuel', 'seller_type', 'transmission', 'owner',\n",
       "       'mileage', 'engine', 'max_power', 'seats', 'age', 'price'],\n",
       "      dtype='object')"
      ]
     },
     "execution_count": 341,
     "metadata": {},
     "output_type": "execute_result"
    }
   ],
   "source": [
    "df.columns"
   ]
  },
  {
   "cell_type": "code",
   "execution_count": 342,
   "metadata": {},
   "outputs": [],
   "source": [
    "categorical_col=[col for col in df.columns if df[col].dtype=='O']"
   ]
  },
  {
   "cell_type": "code",
   "execution_count": 343,
   "metadata": {},
   "outputs": [
    {
     "data": {
      "text/plain": [
       "['name', 'fuel', 'seller_type', 'transmission', 'owner']"
      ]
     },
     "execution_count": 343,
     "metadata": {},
     "output_type": "execute_result"
    }
   ],
   "source": [
    "categorical_col"
   ]
  },
  {
   "cell_type": "code",
   "execution_count": 344,
   "metadata": {},
   "outputs": [
    {
     "name": "stdout",
     "output_type": "stream",
     "text": [
      "<class 'pandas.core.frame.DataFrame'>\n",
      "Index: 6919 entries, 0 to 8125\n",
      "Data columns (total 12 columns):\n",
      " #   Column        Non-Null Count  Dtype  \n",
      "---  ------        --------------  -----  \n",
      " 0   name          6919 non-null   object \n",
      " 1   km_driven     6919 non-null   int64  \n",
      " 2   fuel          6919 non-null   object \n",
      " 3   seller_type   6919 non-null   object \n",
      " 4   transmission  6919 non-null   object \n",
      " 5   owner         6919 non-null   object \n",
      " 6   mileage       6919 non-null   float64\n",
      " 7   engine        6919 non-null   float64\n",
      " 8   max_power     6919 non-null   float64\n",
      " 9   seats         6919 non-null   float64\n",
      " 10  age           6919 non-null   int64  \n",
      " 11  price         6919 non-null   int64  \n",
      "dtypes: float64(4), int64(3), object(5)\n",
      "memory usage: 702.7+ KB\n"
     ]
    }
   ],
   "source": [
    "df.info()"
   ]
  },
  {
   "cell_type": "code",
   "execution_count": 345,
   "metadata": {},
   "outputs": [],
   "source": [
    "numeric_col=[col for col in df.columns if df[col].dtype!='O']"
   ]
  },
  {
   "cell_type": "code",
   "execution_count": 346,
   "metadata": {},
   "outputs": [
    {
     "data": {
      "text/plain": [
       "['km_driven', 'mileage', 'engine', 'max_power', 'seats', 'age', 'price']"
      ]
     },
     "execution_count": 346,
     "metadata": {},
     "output_type": "execute_result"
    }
   ],
   "source": [
    "numeric_col"
   ]
  },
  {
   "cell_type": "code",
   "execution_count": 347,
   "metadata": {},
   "outputs": [
    {
     "data": {
      "text/plain": [
       "seats\n",
       "5.0     5457\n",
       "7.0      964\n",
       "8.0      222\n",
       "4.0      124\n",
       "9.0       74\n",
       "6.0       57\n",
       "10.0      18\n",
       "2.0        2\n",
       "14.0       1\n",
       "Name: count, dtype: int64"
      ]
     },
     "execution_count": 347,
     "metadata": {},
     "output_type": "execute_result"
    }
   ],
   "source": [
    "df['seats'].value_counts()"
   ]
  },
  {
   "cell_type": "code",
   "execution_count": 348,
   "metadata": {},
   "outputs": [],
   "source": [
    "from sklearn.model_selection import train_test_split\n",
    "from sklearn.pipeline import make_pipeline\n",
    "from sklearn.compose import ColumnTransformer\n",
    "from sklearn.preprocessing import StandardScaler"
   ]
  },
  {
   "cell_type": "code",
   "execution_count": 349,
   "metadata": {},
   "outputs": [
    {
     "data": {
      "text/plain": [
       "Index(['name', 'km_driven', 'fuel', 'seller_type', 'transmission', 'owner',\n",
       "       'mileage', 'engine', 'max_power', 'seats', 'age', 'price'],\n",
       "      dtype='object')"
      ]
     },
     "execution_count": 349,
     "metadata": {},
     "output_type": "execute_result"
    }
   ],
   "source": [
    "df.columns"
   ]
  },
  {
   "cell_type": "code",
   "execution_count": 350,
   "metadata": {},
   "outputs": [
    {
     "name": "stdout",
     "output_type": "stream",
     "text": [
      "['MarutiSwiftDzireVDI' 'other' 'FordFigoDieselCelebrationEdition'\n",
      " 'RenaultDuster110PSDieselRxL' 'MarutiSwiftDzireVDi' 'MarutiSwift1.3VXi'\n",
      " 'MarutiWagonRLXIMinor' 'MarutiErtigaSHVSVDI' 'Hyundaii201.4CRDiAsta'\n",
      " 'MarutiAltoLX' 'MarutiSwiftDzireZDI' 'MarutiBalenoDelta1.2'\n",
      " 'MarutiAlto800LXI' 'MarutiOmniEMPISTDBSIV' 'Maruti800Std'\n",
      " 'MarutiVitaraBrezzaVDi' 'MarutiAltoK10VXI'\n",
      " 'ToyotaInnovaCrysta2.8ZXATBSIV' 'ToyotaInnova2.5G(Diesel)7Seater'\n",
      " 'Hyundaii10Magna' 'Hyundaii20Asta1.4CRDi' 'HondaCityiDTECVX'\n",
      " 'MarutiWagonRAMTVXI' 'VolkswagenVentoDieselHighline'\n",
      " 'Hyundaii10Magna1.1L' 'MarutiSwiftDzireLDI' 'MarutiAltoLXBSIII'\n",
      " 'MarutiWagonRVXI' 'MarutiSwiftVXI' 'MarutiEeco7SeaterStandardBSIV'\n",
      " 'TataIndigoCSLS(TDI)BS-III' 'HyundaiVerna1.6SX' 'MarutiCelerioVXI'\n",
      " 'MarutiVitaraBrezzaZDiPlusDualTone' 'MarutiSwiftDzireVXI'\n",
      " 'MarutiWagonRVXIBSIV' 'MarutiSwiftVDIBSIV' 'HyundaiCreta1.6CRDiSX'\n",
      " 'FordEcoSport1.5DieselTitaniumPlusBSIV' 'MarutiAltoLXi' 'MarutiErtigaVDI'\n",
      " 'HyundaiSantroXingGLS' 'LexusES300h' 'JaguarXF2.0DieselPortfolio'\n",
      " 'BMWX4MSportXxDrive20d' 'JaguarXE2016-20192.0LDieselPrestige'\n",
      " 'SkodaRapid1.6MPIATElegance' 'ToyotaCamry2.5Hybrid'\n",
      " 'MarutiSwiftVXIOptional' 'Hyundaii20Magna1.2' 'MarutiRitzVDi'\n",
      " 'HyundaiGrandi10Magna' 'HyundaiGrandi10Sportz' 'MarutiZenLXI'\n",
      " 'ToyotaEtiosGD' 'MarutiWagonRLXICNG' 'Hyundaii20Sportz1.2'\n",
      " 'MarutiOmniE8StrSTD' 'MarutiSwiftDzireVXI1.2' 'Hyundaii20Magna'\n",
      " 'TataSafariStormeEX' 'RenaultKWIDRXT' 'MarutiVitaraBrezzaVDiOption'\n",
      " 'TataZestRevotron1.2XT' 'MarutiRitzLDi' 'MarutiEeco5SeaterACBSIV'\n",
      " 'MahindraXUV500W82WD' 'MarutiErtigaSHVSZDIPlus' 'TataIndicaVistaTDILS'\n",
      " 'HyundaiVerna1.6CRDI' 'MarutiSwiftDzireZDi' 'ToyotaFortuner3.0Diesel'\n",
      " 'MahindraTharCRDe' 'MahindraScorpioLX' 'TataNewSafariDICOR2.2EX4x2'\n",
      " 'MahindraBolero2011-2019ZLX' 'Hyundaii201.2Asta'\n",
      " 'HyundaiGrandi10CRDiSportz' 'MarutiErtigaVXI' 'RenaultKWIDRXL'\n",
      " 'TataTiago1.2RevotronXZ' 'HyundaiGrandi101.2CRDiSportz' 'MarutiA-StarVxi'\n",
      " 'MarutiWagonRLXI' 'FordFigoDieselTitanium' 'Hyundaii10Sportz'\n",
      " 'ToyotaInnova2.5VDiesel7-seater' 'VolvoXC40D4InscriptionBSIV'\n",
      " 'MarutiBalenoAlpha1.3' 'HondaJazzVX' 'ToyotaInnova2.5VX(Diesel)7Seater'\n",
      " 'MarutiSwiftAMTVVTVXI' 'ToyotaEtiosVX' 'MarutiSwiftAMTZXI'\n",
      " 'HondaAmazeVCVTPetrolBSIV' 'VolvoV40D3R-Design'\n",
      " 'HyundaiVerna1.6SXCRDi(O)' 'MarutiAlto800VXI' 'TataIndigoLS'\n",
      " 'MarutiAltoK10LXI' 'HyundaiEONSportz' 'MarutiAltoLXiBSIII'\n",
      " 'MarutiSwiftVDIOptional' 'FordFigoDieselEXI' 'MahindraBolero2011-2019SLE'\n",
      " 'RenaultDuster110PSDieselRxZ' 'MarutiSX4SCross2015-2017DDiS200Zeta'\n",
      " 'MarutiSwiftDzireVXi' 'ToyotaEtiosLivaGD' 'ChevroletBeatDieselLT'\n",
      " 'HyundaiEONEraPlus' 'ChevroletBeatLT' 'MarutiAltoK102010-2014VXI'\n",
      " 'Hyundaii201.2AstaOption' 'HyundaiEONMagnaPlus'\n",
      " 'ToyotaInnova2.5G(Diesel)8Seater' 'MahindraBoleroSLX'\n",
      " 'Hyundaii201.2Spotz' 'HyundaiGrandi101.2KappaSportzBSIV'\n",
      " 'MarutiErtigaZDI' 'Hyundaii10Magna1.2iTechSE'\n",
      " 'MahindraBolero2011-2019SLX' 'MarutiWagonRVXIOptional'\n",
      " 'ToyotaInnova2.5G(Diesel)8SeaterBSIV' 'HondaAmazeVXi-DTEC'\n",
      " 'RenaultKWID1.0RXTOptional' 'MahindraTUV300T8' 'FordFigoDieselZXI'\n",
      " 'MarutiWagonRLXIBSIV' 'Hyundaii10Era' 'MarutiSwiftVDI'\n",
      " 'MahindraScorpioS107Seater' 'FordEcoSport1.5TDCiTitaniumBSIV'\n",
      " 'MahindraBolero2011-2019DI-ACBSIII' 'FordEcoSport1.5DieselTitaniumBSIV'\n",
      " 'MarutiSwiftVdiBSIII' 'Hyundaii20Sportz1.4CRDi' 'MahindraXUV500W102WD'\n",
      " 'VolkswagenPoloDieselHighline1.2L' 'MahindraXyloD2' 'Maruti800AC'\n",
      " 'MahindraXUV500W62WD' 'HyundaiEONDLitePlus' 'HondaCity2017-2020GXi'\n",
      " 'Hyundaii20Asta1.2' 'FordFiestaClassic1.4DuratorqCLXI'\n",
      " 'TataIndigoCSLX(TDI)BSIII' 'RenaultKWIDRXTOptional'\n",
      " 'Hyundaii20AstaOption1.4CRDi' 'ChevroletSpark1.0LT' 'TataIndicaV2DLSTC'\n",
      " 'TataSafariDICOR2.2EX4x2' 'HyundaiCreta1.6CRDiSXOption'\n",
      " 'TataIndigoCSeLXBSIV' 'MarutiEecoCNG5SeaterACBSIV' 'TataIndigoCR4'\n",
      " 'MarutiVitaraBrezzaZDiPlus' 'HondaAmazeSi-Dtech' 'MahindraXUV500W84WD'\n",
      " 'HondaCityiVTECV' 'ChevroletCruzeLTZ' 'TataIndigoLX'\n",
      " 'ChevroletSpark1.0LS' 'MahindraTUV300mHAWK100T8' 'MarutiVitaraBrezzaZDi'\n",
      " 'TataIndicaVistaTDILX' 'TataTiago1.2RevotronXT' 'MarutiCiazZDiPlusSHVS']\n",
      "['Diesel' 'Petrol' 'LPG' 'CNG']\n",
      "['Individual' 'Dealer' 'TrustmarkDealer']\n",
      "['Manual' 'Automatic']\n",
      "['First Owner' 'Second Owner' 'Third Owner' 'Fourth & Above Owner'\n",
      " 'Test Drive Car']\n"
     ]
    }
   ],
   "source": [
    "for col in categorical_col:\n",
    "    print(df[col].unique())"
   ]
  },
  {
   "cell_type": "code",
   "execution_count": 351,
   "metadata": {},
   "outputs": [
    {
     "data": {
      "text/html": [
       "<div>\n",
       "<style scoped>\n",
       "    .dataframe tbody tr th:only-of-type {\n",
       "        vertical-align: middle;\n",
       "    }\n",
       "\n",
       "    .dataframe tbody tr th {\n",
       "        vertical-align: top;\n",
       "    }\n",
       "\n",
       "    .dataframe thead th {\n",
       "        text-align: right;\n",
       "    }\n",
       "</style>\n",
       "<table border=\"1\" class=\"dataframe\">\n",
       "  <thead>\n",
       "    <tr style=\"text-align: right;\">\n",
       "      <th></th>\n",
       "      <th>name</th>\n",
       "      <th>km_driven</th>\n",
       "      <th>fuel</th>\n",
       "      <th>seller_type</th>\n",
       "      <th>transmission</th>\n",
       "      <th>owner</th>\n",
       "      <th>mileage</th>\n",
       "      <th>engine</th>\n",
       "      <th>max_power</th>\n",
       "      <th>seats</th>\n",
       "      <th>age</th>\n",
       "      <th>price</th>\n",
       "    </tr>\n",
       "  </thead>\n",
       "  <tbody>\n",
       "    <tr>\n",
       "      <th>0</th>\n",
       "      <td>MarutiSwiftDzireVDI</td>\n",
       "      <td>145500</td>\n",
       "      <td>Diesel</td>\n",
       "      <td>Individual</td>\n",
       "      <td>Manual</td>\n",
       "      <td>First Owner</td>\n",
       "      <td>23.40</td>\n",
       "      <td>1248.0</td>\n",
       "      <td>74.00</td>\n",
       "      <td>5.0</td>\n",
       "      <td>11</td>\n",
       "      <td>450000</td>\n",
       "    </tr>\n",
       "    <tr>\n",
       "      <th>1</th>\n",
       "      <td>other</td>\n",
       "      <td>120000</td>\n",
       "      <td>Diesel</td>\n",
       "      <td>Individual</td>\n",
       "      <td>Manual</td>\n",
       "      <td>Second Owner</td>\n",
       "      <td>21.14</td>\n",
       "      <td>1498.0</td>\n",
       "      <td>103.52</td>\n",
       "      <td>5.0</td>\n",
       "      <td>11</td>\n",
       "      <td>370000</td>\n",
       "    </tr>\n",
       "    <tr>\n",
       "      <th>2</th>\n",
       "      <td>other</td>\n",
       "      <td>140000</td>\n",
       "      <td>Petrol</td>\n",
       "      <td>Individual</td>\n",
       "      <td>Manual</td>\n",
       "      <td>Third Owner</td>\n",
       "      <td>17.70</td>\n",
       "      <td>1497.0</td>\n",
       "      <td>78.00</td>\n",
       "      <td>5.0</td>\n",
       "      <td>19</td>\n",
       "      <td>158000</td>\n",
       "    </tr>\n",
       "  </tbody>\n",
       "</table>\n",
       "</div>"
      ],
      "text/plain": [
       "                  name  km_driven    fuel seller_type transmission  \\\n",
       "0  MarutiSwiftDzireVDI     145500  Diesel  Individual       Manual   \n",
       "1                other     120000  Diesel  Individual       Manual   \n",
       "2                other     140000  Petrol  Individual       Manual   \n",
       "\n",
       "          owner  mileage  engine  max_power  seats  age   price  \n",
       "0   First Owner    23.40  1248.0      74.00    5.0   11  450000  \n",
       "1  Second Owner    21.14  1498.0     103.52    5.0   11  370000  \n",
       "2   Third Owner    17.70  1497.0      78.00    5.0   19  158000  "
      ]
     },
     "execution_count": 351,
     "metadata": {},
     "output_type": "execute_result"
    }
   ],
   "source": [
    "df.head(3)"
   ]
  },
  {
   "cell_type": "code",
   "execution_count": 352,
   "metadata": {},
   "outputs": [],
   "source": [
    "df['owner']=df['owner'].str.replace('&','')"
   ]
  },
  {
   "cell_type": "code",
   "execution_count": 353,
   "metadata": {},
   "outputs": [
    {
     "data": {
      "text/plain": [
       "array(['First Owner', 'Second Owner', 'Third Owner',\n",
       "       'Fourth  Above Owner', 'Test Drive Car'], dtype=object)"
      ]
     },
     "execution_count": 353,
     "metadata": {},
     "output_type": "execute_result"
    }
   ],
   "source": [
    "df['owner'].unique()"
   ]
  },
  {
   "cell_type": "code",
   "execution_count": 354,
   "metadata": {},
   "outputs": [],
   "source": [
    "df['owner']=df['owner'].str.replace(' ','')"
   ]
  },
  {
   "cell_type": "code",
   "execution_count": 355,
   "metadata": {},
   "outputs": [
    {
     "data": {
      "text/plain": [
       "array(['FirstOwner', 'SecondOwner', 'ThirdOwner', 'FourthAboveOwner',\n",
       "       'TestDriveCar'], dtype=object)"
      ]
     },
     "execution_count": 355,
     "metadata": {},
     "output_type": "execute_result"
    }
   ],
   "source": [
    "df['owner'].unique()"
   ]
  },
  {
   "cell_type": "code",
   "execution_count": 356,
   "metadata": {},
   "outputs": [],
   "source": [
    "df = df.reset_index(drop=True)\n"
   ]
  },
  {
   "cell_type": "code",
   "execution_count": 357,
   "metadata": {},
   "outputs": [],
   "source": [
    "x=df.drop(columns=['price'],axis=1)\n",
    "y=df['price']"
   ]
  },
  {
   "cell_type": "code",
   "execution_count": 358,
   "metadata": {},
   "outputs": [],
   "source": [
    "x_train,x_test,y_train,y_test=train_test_split(x,y,test_size=0.30,random_state=45)"
   ]
  },
  {
   "cell_type": "code",
   "execution_count": 359,
   "metadata": {},
   "outputs": [],
   "source": [
    "from sklearn.preprocessing import OneHotEncoder,OrdinalEncoder"
   ]
  },
  {
   "cell_type": "code",
   "execution_count": 368,
   "metadata": {},
   "outputs": [
    {
     "data": {
      "text/plain": [
       "['km_driven', 'mileage', 'engine', 'max_power', 'seats', 'age', 'price']"
      ]
     },
     "execution_count": 368,
     "metadata": {},
     "output_type": "execute_result"
    }
   ],
   "source": [
    "numeric_col"
   ]
  },
  {
   "cell_type": "code",
   "execution_count": 394,
   "metadata": {},
   "outputs": [],
   "source": [
    "peprocess=ColumnTransformer(transformers=[\n",
    "    ('ordinal_fuel',OrdinalEncoder(categories=[['Diesel','Petrol','LPG','CNG']]),['fuel']),\n",
    "    ('ord_seller',OrdinalEncoder(categories=[['Individual','Dealer','TrustmarkDealer']]),['seller_type']),\n",
    "    ('ord_tran',OrdinalEncoder(categories=[['Manual','Automatic']]),['transmission']),\n",
    "    ('onehot',OneHotEncoder(handle_unknown='ignore'),['name','owner']),\n",
    "    ('scale',StandardScaler(),['km_driven','mileage','engine','max_power','seats','age'])\n",
    "])"
   ]
  },
  {
   "cell_type": "code",
   "execution_count": 387,
   "metadata": {},
   "outputs": [
    {
     "data": {
      "text/html": [
       "<div>\n",
       "<style scoped>\n",
       "    .dataframe tbody tr th:only-of-type {\n",
       "        vertical-align: middle;\n",
       "    }\n",
       "\n",
       "    .dataframe tbody tr th {\n",
       "        vertical-align: top;\n",
       "    }\n",
       "\n",
       "    .dataframe thead th {\n",
       "        text-align: right;\n",
       "    }\n",
       "</style>\n",
       "<table border=\"1\" class=\"dataframe\">\n",
       "  <thead>\n",
       "    <tr style=\"text-align: right;\">\n",
       "      <th></th>\n",
       "      <th>name</th>\n",
       "      <th>km_driven</th>\n",
       "      <th>fuel</th>\n",
       "      <th>seller_type</th>\n",
       "      <th>transmission</th>\n",
       "      <th>owner</th>\n",
       "      <th>mileage</th>\n",
       "      <th>engine</th>\n",
       "      <th>max_power</th>\n",
       "      <th>seats</th>\n",
       "      <th>age</th>\n",
       "      <th>price</th>\n",
       "    </tr>\n",
       "  </thead>\n",
       "  <tbody>\n",
       "    <tr>\n",
       "      <th>0</th>\n",
       "      <td>MarutiSwiftDzireVDI</td>\n",
       "      <td>145500</td>\n",
       "      <td>Diesel</td>\n",
       "      <td>Individual</td>\n",
       "      <td>Manual</td>\n",
       "      <td>FirstOwner</td>\n",
       "      <td>23.40</td>\n",
       "      <td>1248.0</td>\n",
       "      <td>74.00</td>\n",
       "      <td>5.0</td>\n",
       "      <td>11</td>\n",
       "      <td>450000</td>\n",
       "    </tr>\n",
       "    <tr>\n",
       "      <th>1</th>\n",
       "      <td>other</td>\n",
       "      <td>120000</td>\n",
       "      <td>Diesel</td>\n",
       "      <td>Individual</td>\n",
       "      <td>Manual</td>\n",
       "      <td>SecondOwner</td>\n",
       "      <td>21.14</td>\n",
       "      <td>1498.0</td>\n",
       "      <td>103.52</td>\n",
       "      <td>5.0</td>\n",
       "      <td>11</td>\n",
       "      <td>370000</td>\n",
       "    </tr>\n",
       "  </tbody>\n",
       "</table>\n",
       "</div>"
      ],
      "text/plain": [
       "                  name  km_driven    fuel seller_type transmission  \\\n",
       "0  MarutiSwiftDzireVDI     145500  Diesel  Individual       Manual   \n",
       "1                other     120000  Diesel  Individual       Manual   \n",
       "\n",
       "         owner  mileage  engine  max_power  seats  age   price  \n",
       "0   FirstOwner    23.40  1248.0      74.00    5.0   11  450000  \n",
       "1  SecondOwner    21.14  1498.0     103.52    5.0   11  370000  "
      ]
     },
     "execution_count": 387,
     "metadata": {},
     "output_type": "execute_result"
    }
   ],
   "source": [
    "df.head(2)"
   ]
  },
  {
   "cell_type": "code",
   "execution_count": 388,
   "metadata": {},
   "outputs": [
    {
     "data": {
      "text/html": [
       "<div>\n",
       "<style scoped>\n",
       "    .dataframe tbody tr th:only-of-type {\n",
       "        vertical-align: middle;\n",
       "    }\n",
       "\n",
       "    .dataframe tbody tr th {\n",
       "        vertical-align: top;\n",
       "    }\n",
       "\n",
       "    .dataframe thead th {\n",
       "        text-align: right;\n",
       "    }\n",
       "</style>\n",
       "<table border=\"1\" class=\"dataframe\">\n",
       "  <thead>\n",
       "    <tr style=\"text-align: right;\">\n",
       "      <th></th>\n",
       "      <th>name</th>\n",
       "      <th>km_driven</th>\n",
       "      <th>fuel</th>\n",
       "      <th>seller_type</th>\n",
       "      <th>transmission</th>\n",
       "      <th>owner</th>\n",
       "      <th>mileage</th>\n",
       "      <th>engine</th>\n",
       "      <th>max_power</th>\n",
       "      <th>seats</th>\n",
       "      <th>age</th>\n",
       "    </tr>\n",
       "  </thead>\n",
       "  <tbody>\n",
       "    <tr>\n",
       "      <th>0</th>\n",
       "      <td>MarutiSwiftDzireVDI</td>\n",
       "      <td>145500</td>\n",
       "      <td>Diesel</td>\n",
       "      <td>Individual</td>\n",
       "      <td>Manual</td>\n",
       "      <td>FirstOwner</td>\n",
       "      <td>23.40</td>\n",
       "      <td>1248.0</td>\n",
       "      <td>74.00</td>\n",
       "      <td>5.0</td>\n",
       "      <td>11</td>\n",
       "    </tr>\n",
       "    <tr>\n",
       "      <th>1</th>\n",
       "      <td>other</td>\n",
       "      <td>120000</td>\n",
       "      <td>Diesel</td>\n",
       "      <td>Individual</td>\n",
       "      <td>Manual</td>\n",
       "      <td>SecondOwner</td>\n",
       "      <td>21.14</td>\n",
       "      <td>1498.0</td>\n",
       "      <td>103.52</td>\n",
       "      <td>5.0</td>\n",
       "      <td>11</td>\n",
       "    </tr>\n",
       "    <tr>\n",
       "      <th>2</th>\n",
       "      <td>other</td>\n",
       "      <td>140000</td>\n",
       "      <td>Petrol</td>\n",
       "      <td>Individual</td>\n",
       "      <td>Manual</td>\n",
       "      <td>ThirdOwner</td>\n",
       "      <td>17.70</td>\n",
       "      <td>1497.0</td>\n",
       "      <td>78.00</td>\n",
       "      <td>5.0</td>\n",
       "      <td>19</td>\n",
       "    </tr>\n",
       "    <tr>\n",
       "      <th>3</th>\n",
       "      <td>other</td>\n",
       "      <td>127000</td>\n",
       "      <td>Diesel</td>\n",
       "      <td>Individual</td>\n",
       "      <td>Manual</td>\n",
       "      <td>FirstOwner</td>\n",
       "      <td>23.00</td>\n",
       "      <td>1396.0</td>\n",
       "      <td>90.00</td>\n",
       "      <td>5.0</td>\n",
       "      <td>15</td>\n",
       "    </tr>\n",
       "    <tr>\n",
       "      <th>4</th>\n",
       "      <td>other</td>\n",
       "      <td>120000</td>\n",
       "      <td>Petrol</td>\n",
       "      <td>Individual</td>\n",
       "      <td>Manual</td>\n",
       "      <td>FirstOwner</td>\n",
       "      <td>16.10</td>\n",
       "      <td>1298.0</td>\n",
       "      <td>88.20</td>\n",
       "      <td>5.0</td>\n",
       "      <td>18</td>\n",
       "    </tr>\n",
       "    <tr>\n",
       "      <th>...</th>\n",
       "      <td>...</td>\n",
       "      <td>...</td>\n",
       "      <td>...</td>\n",
       "      <td>...</td>\n",
       "      <td>...</td>\n",
       "      <td>...</td>\n",
       "      <td>...</td>\n",
       "      <td>...</td>\n",
       "      <td>...</td>\n",
       "      <td>...</td>\n",
       "      <td>...</td>\n",
       "    </tr>\n",
       "    <tr>\n",
       "      <th>6914</th>\n",
       "      <td>other</td>\n",
       "      <td>50000</td>\n",
       "      <td>Petrol</td>\n",
       "      <td>Individual</td>\n",
       "      <td>Manual</td>\n",
       "      <td>SecondOwner</td>\n",
       "      <td>18.90</td>\n",
       "      <td>998.0</td>\n",
       "      <td>67.10</td>\n",
       "      <td>5.0</td>\n",
       "      <td>12</td>\n",
       "    </tr>\n",
       "    <tr>\n",
       "      <th>6915</th>\n",
       "      <td>other</td>\n",
       "      <td>80000</td>\n",
       "      <td>Diesel</td>\n",
       "      <td>Individual</td>\n",
       "      <td>Manual</td>\n",
       "      <td>SecondOwner</td>\n",
       "      <td>22.54</td>\n",
       "      <td>1396.0</td>\n",
       "      <td>88.73</td>\n",
       "      <td>5.0</td>\n",
       "      <td>11</td>\n",
       "    </tr>\n",
       "    <tr>\n",
       "      <th>6916</th>\n",
       "      <td>Hyundaii20Magna</td>\n",
       "      <td>110000</td>\n",
       "      <td>Petrol</td>\n",
       "      <td>Individual</td>\n",
       "      <td>Manual</td>\n",
       "      <td>FirstOwner</td>\n",
       "      <td>18.50</td>\n",
       "      <td>1197.0</td>\n",
       "      <td>82.85</td>\n",
       "      <td>5.0</td>\n",
       "      <td>12</td>\n",
       "    </tr>\n",
       "    <tr>\n",
       "      <th>6917</th>\n",
       "      <td>other</td>\n",
       "      <td>119000</td>\n",
       "      <td>Diesel</td>\n",
       "      <td>Individual</td>\n",
       "      <td>Manual</td>\n",
       "      <td>FourthAboveOwner</td>\n",
       "      <td>16.80</td>\n",
       "      <td>1493.0</td>\n",
       "      <td>110.00</td>\n",
       "      <td>5.0</td>\n",
       "      <td>18</td>\n",
       "    </tr>\n",
       "    <tr>\n",
       "      <th>6918</th>\n",
       "      <td>MarutiSwiftDzireZDi</td>\n",
       "      <td>120000</td>\n",
       "      <td>Diesel</td>\n",
       "      <td>Individual</td>\n",
       "      <td>Manual</td>\n",
       "      <td>FirstOwner</td>\n",
       "      <td>19.30</td>\n",
       "      <td>1248.0</td>\n",
       "      <td>73.90</td>\n",
       "      <td>5.0</td>\n",
       "      <td>16</td>\n",
       "    </tr>\n",
       "  </tbody>\n",
       "</table>\n",
       "<p>6919 rows × 11 columns</p>\n",
       "</div>"
      ],
      "text/plain": [
       "                     name  km_driven    fuel seller_type transmission  \\\n",
       "0     MarutiSwiftDzireVDI     145500  Diesel  Individual       Manual   \n",
       "1                   other     120000  Diesel  Individual       Manual   \n",
       "2                   other     140000  Petrol  Individual       Manual   \n",
       "3                   other     127000  Diesel  Individual       Manual   \n",
       "4                   other     120000  Petrol  Individual       Manual   \n",
       "...                   ...        ...     ...         ...          ...   \n",
       "6914                other      50000  Petrol  Individual       Manual   \n",
       "6915                other      80000  Diesel  Individual       Manual   \n",
       "6916      Hyundaii20Magna     110000  Petrol  Individual       Manual   \n",
       "6917                other     119000  Diesel  Individual       Manual   \n",
       "6918  MarutiSwiftDzireZDi     120000  Diesel  Individual       Manual   \n",
       "\n",
       "                 owner  mileage  engine  max_power  seats  age  \n",
       "0           FirstOwner    23.40  1248.0      74.00    5.0   11  \n",
       "1          SecondOwner    21.14  1498.0     103.52    5.0   11  \n",
       "2           ThirdOwner    17.70  1497.0      78.00    5.0   19  \n",
       "3           FirstOwner    23.00  1396.0      90.00    5.0   15  \n",
       "4           FirstOwner    16.10  1298.0      88.20    5.0   18  \n",
       "...                ...      ...     ...        ...    ...  ...  \n",
       "6914       SecondOwner    18.90   998.0      67.10    5.0   12  \n",
       "6915       SecondOwner    22.54  1396.0      88.73    5.0   11  \n",
       "6916        FirstOwner    18.50  1197.0      82.85    5.0   12  \n",
       "6917  FourthAboveOwner    16.80  1493.0     110.00    5.0   18  \n",
       "6918        FirstOwner    19.30  1248.0      73.90    5.0   16  \n",
       "\n",
       "[6919 rows x 11 columns]"
      ]
     },
     "execution_count": 388,
     "metadata": {},
     "output_type": "execute_result"
    }
   ],
   "source": [
    "x"
   ]
  },
  {
   "cell_type": "code",
   "execution_count": 389,
   "metadata": {},
   "outputs": [
    {
     "data": {
      "text/plain": [
       "0       450000\n",
       "1       370000\n",
       "2       158000\n",
       "3       225000\n",
       "4       130000\n",
       "         ...  \n",
       "6914    260000\n",
       "6915    475000\n",
       "6916    320000\n",
       "6917    135000\n",
       "6918    382000\n",
       "Name: price, Length: 6919, dtype: int64"
      ]
     },
     "execution_count": 389,
     "metadata": {},
     "output_type": "execute_result"
    }
   ],
   "source": [
    "y"
   ]
  },
  {
   "cell_type": "code",
   "execution_count": 390,
   "metadata": {},
   "outputs": [],
   "source": [
    "from sklearn.linear_model import LinearRegression\n",
    "from sklearn.linear_model import Lasso,Ridge,ElasticNet\n",
    "from sklearn.tree import DecisionTreeRegressor\n",
    "from sklearn.ensemble import RandomForestRegressor\n",
    "from sklearn.neighbors import KNeighborsRegressor\n",
    "from sklearn.ensemble import AdaBoostRegressor\n",
    "from sklearn.ensemble import GradientBoostingRegressor\n",
    "from sklearn.svm import  SVR"
   ]
  },
  {
   "cell_type": "code",
   "execution_count": 391,
   "metadata": {},
   "outputs": [],
   "source": [
    "models={\n",
    "    'linear':LinearRegression(),\n",
    "    'lasso':Lasso(),\n",
    "    'ridge':Ridge(),\n",
    "    'elasticnet':ElasticNet(),\n",
    "    'svr':SVR(),\n",
    "    'decision':DecisionTreeRegressor(),\n",
    "    'random':RandomForestRegressor(),\n",
    "    'adboot':AdaBoostRegressor(),\n",
    "    'graident':GradientBoostingRegressor(),\n",
    "    'kneigbhor':KNeighborsRegressor()\n",
    "}"
   ]
  },
  {
   "cell_type": "code",
   "execution_count": 392,
   "metadata": {},
   "outputs": [],
   "source": [
    "from sklearn.pipeline import make_pipeline\n",
    "from sklearn.metrics import r2_score"
   ]
  },
  {
   "cell_type": "code",
   "execution_count": 395,
   "metadata": {},
   "outputs": [
    {
     "name": "stdout",
     "output_type": "stream",
     "text": [
      "linear\n",
      "x_train prediction \n",
      "r2score 0.7090745183824771\n",
      "----------------------------------------------------------------\n",
      "x_test prediction \n",
      "r2_score 0.6972928281984956\n",
      "--------------------------------------------------------------------------------------------\n"
     ]
    },
    {
     "name": "stderr",
     "output_type": "stream",
     "text": [
      "c:\\Users\\dell\\Documents\\code\\myenv\\Lib\\site-packages\\sklearn\\linear_model\\_coordinate_descent.py:656: ConvergenceWarning: Objective did not converge. You might want to increase the number of iterations. Duality gap: 1026128527468.5, tolerance: 121668403670.34543\n",
      "  model = cd_fast.sparse_enet_coordinate_descent(\n"
     ]
    },
    {
     "name": "stdout",
     "output_type": "stream",
     "text": [
      "lasso\n",
      "x_train prediction \n",
      "r2score 0.7090740356983443\n",
      "----------------------------------------------------------------\n",
      "x_test prediction \n",
      "r2_score 0.6969593780781137\n",
      "--------------------------------------------------------------------------------------------\n",
      "ridge\n",
      "x_train prediction \n",
      "r2score 0.7059384942879106\n",
      "----------------------------------------------------------------\n",
      "x_test prediction \n",
      "r2_score 0.6911055859083448\n",
      "--------------------------------------------------------------------------------------------\n",
      "elasticnet\n",
      "x_train prediction \n",
      "r2score 0.5559067338443464\n",
      "----------------------------------------------------------------\n",
      "x_test prediction \n",
      "r2_score 0.542465260407338\n",
      "--------------------------------------------------------------------------------------------\n",
      "svr\n",
      "x_train prediction \n",
      "r2score -0.047549840550614286\n",
      "----------------------------------------------------------------\n",
      "x_test prediction \n",
      "r2_score -0.05697269260276805\n",
      "--------------------------------------------------------------------------------------------\n",
      "decision\n",
      "x_train prediction \n",
      "r2score 0.9995530683946959\n",
      "----------------------------------------------------------------\n",
      "x_test prediction \n",
      "r2_score 0.7783568008715706\n",
      "--------------------------------------------------------------------------------------------\n",
      "random\n",
      "x_train prediction \n",
      "r2score 0.9854368747120388\n",
      "----------------------------------------------------------------\n",
      "x_test prediction \n",
      "r2_score 0.8631017905026063\n",
      "--------------------------------------------------------------------------------------------\n",
      "adboot\n",
      "x_train prediction \n",
      "r2score 0.43599906591660886\n",
      "----------------------------------------------------------------\n",
      "x_test prediction \n",
      "r2_score 0.4850539929361112\n",
      "--------------------------------------------------------------------------------------------\n",
      "graident\n",
      "x_train prediction \n",
      "r2score 0.9319529705628395\n",
      "----------------------------------------------------------------\n",
      "x_test prediction \n",
      "r2_score 0.8659880328280984\n",
      "--------------------------------------------------------------------------------------------\n",
      "kneigbhor\n",
      "x_train prediction \n",
      "r2score 0.8996780032022732\n",
      "----------------------------------------------------------------\n",
      "x_test prediction \n",
      "r2_score 0.8218520028854499\n",
      "--------------------------------------------------------------------------------------------\n"
     ]
    }
   ],
   "source": [
    "for i in range(len(list(models))):\n",
    "    model=list(models.values())[i]\n",
    "    pipe=make_pipeline(peprocess,model)\n",
    "    pipe.fit(x_train,y_train)\n",
    "    \n",
    "    y_train_pred=pipe.predict(x_train)\n",
    "    y_test_pred=pipe.predict(x_test)\n",
    "    \n",
    "    \n",
    "    print(list(models.keys())[i])\n",
    "    print('x_train prediction ')\n",
    "    print('r2score',r2_score(y_train,y_train_pred))\n",
    "    print('--'*32)\n",
    "    print('x_test prediction ')\n",
    "    print('r2_score',r2_score(y_test,y_test_pred))\n",
    "    print('----'*23)"
   ]
  },
  {
   "cell_type": "code",
   "execution_count": 151,
   "metadata": {},
   "outputs": [
    {
     "data": {
      "text/plain": [
       "Index(['name', 'selling_price', 'km_driven', 'fuel', 'seller_type',\n",
       "       'transmission', 'owner', 'mileage', 'engine', 'max_power', 'seats',\n",
       "       'age'],\n",
       "      dtype='object')"
      ]
     },
     "execution_count": 151,
     "metadata": {},
     "output_type": "execute_result"
    }
   ],
   "source": [
    "df.columns"
   ]
  },
  {
   "cell_type": "code",
   "execution_count": 152,
   "metadata": {},
   "outputs": [
    {
     "name": "stdout",
     "output_type": "stream",
     "text": [
      "<class 'pandas.core.frame.DataFrame'>\n",
      "Index: 6919 entries, 0 to 8125\n",
      "Data columns (total 12 columns):\n",
      " #   Column         Non-Null Count  Dtype  \n",
      "---  ------         --------------  -----  \n",
      " 0   name           6919 non-null   object \n",
      " 1   selling_price  6919 non-null   int64  \n",
      " 2   km_driven      6919 non-null   int64  \n",
      " 3   fuel           6919 non-null   object \n",
      " 4   seller_type    6919 non-null   object \n",
      " 5   transmission   6919 non-null   object \n",
      " 6   owner          6919 non-null   object \n",
      " 7   mileage        6919 non-null   float64\n",
      " 8   engine         6919 non-null   float64\n",
      " 9   max_power      6919 non-null   float64\n",
      " 10  seats          6919 non-null   float64\n",
      " 11  age            6919 non-null   int64  \n",
      "dtypes: float64(4), int64(3), object(5)\n",
      "memory usage: 702.7+ KB\n"
     ]
    }
   ],
   "source": [
    "df.info()"
   ]
  },
  {
   "cell_type": "code",
   "execution_count": null,
   "metadata": {},
   "outputs": [],
   "source": []
  }
 ],
 "metadata": {
  "kernelspec": {
   "display_name": "myenv",
   "language": "python",
   "name": "python3"
  },
  "language_info": {
   "codemirror_mode": {
    "name": "ipython",
    "version": 3
   },
   "file_extension": ".py",
   "mimetype": "text/x-python",
   "name": "python",
   "nbconvert_exporter": "python",
   "pygments_lexer": "ipython3",
   "version": "3.12.7"
  }
 },
 "nbformat": 4,
 "nbformat_minor": 2
}
