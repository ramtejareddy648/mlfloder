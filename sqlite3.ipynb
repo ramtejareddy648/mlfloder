{
 "cells": [
  {
   "cell_type": "code",
   "execution_count": 1,
   "metadata": {},
   "outputs": [],
   "source": [
    "import sqlite3"
   ]
  },
  {
   "cell_type": "code",
   "execution_count": 2,
   "metadata": {},
   "outputs": [],
   "source": [
    "conn=sqlite3.connect(\"data.db\")"
   ]
  },
  {
   "cell_type": "code",
   "execution_count": 3,
   "metadata": {},
   "outputs": [],
   "source": [
    "cur=sqlite3.Cursor(conn)"
   ]
  },
  {
   "cell_type": "code",
   "execution_count": 4,
   "metadata": {},
   "outputs": [
    {
     "data": {
      "text/plain": [
       "<sqlite3.Connection at 0x2866f4b5120>"
      ]
     },
     "execution_count": 4,
     "metadata": {},
     "output_type": "execute_result"
    }
   ],
   "source": [
    "conn"
   ]
  },
  {
   "cell_type": "code",
   "execution_count": 5,
   "metadata": {},
   "outputs": [
    {
     "data": {
      "text/plain": [
       "<sqlite3.Cursor at 0x2866f681c40>"
      ]
     },
     "execution_count": 5,
     "metadata": {},
     "output_type": "execute_result"
    }
   ],
   "source": [
    "cur"
   ]
  },
  {
   "cell_type": "code",
   "execution_count": 6,
   "metadata": {},
   "outputs": [],
   "source": [
    "cur=conn.cursor()"
   ]
  },
  {
   "cell_type": "code",
   "execution_count": 7,
   "metadata": {},
   "outputs": [
    {
     "data": {
      "text/plain": [
       "<sqlite3.Cursor at 0x2866f6aaec0>"
      ]
     },
     "execution_count": 7,
     "metadata": {},
     "output_type": "execute_result"
    }
   ],
   "source": [
    "cur"
   ]
  },
  {
   "cell_type": "code",
   "execution_count": 8,
   "metadata": {},
   "outputs": [],
   "source": [
    "cur.execute('''\n",
    "            create table employe(\n",
    "                id int primary key,\n",
    "                name varchar not null,\n",
    "                age int,\n",
    "                depart varchar\n",
    "            )\n",
    "            \n",
    "            \n",
    "            \n",
    "            ''')\n",
    "conn.commit()"
   ]
  },
  {
   "cell_type": "code",
   "execution_count": 9,
   "metadata": {},
   "outputs": [],
   "source": [
    "cur.execute('''\n",
    "            select *from employe\n",
    "            \n",
    "            \n",
    "            \n",
    "            ''')\n",
    "\n",
    "conn.commit()"
   ]
  },
  {
   "cell_type": "code",
   "execution_count": 15,
   "metadata": {},
   "outputs": [
    {
     "ename": "IntegrityError",
     "evalue": "UNIQUE constraint failed: employe.id",
     "output_type": "error",
     "traceback": [
      "\u001b[1;31m---------------------------------------------------------------------------\u001b[0m",
      "\u001b[1;31mIntegrityError\u001b[0m                            Traceback (most recent call last)",
      "Cell \u001b[1;32mIn[15], line 1\u001b[0m\n\u001b[1;32m----> 1\u001b[0m \u001b[43mcur\u001b[49m\u001b[38;5;241;43m.\u001b[39;49m\u001b[43mexecute\u001b[49m\u001b[43m(\u001b[49m\u001b[38;5;124;43m'''\u001b[39;49m\n\u001b[0;32m      2\u001b[0m \u001b[38;5;124;43m            insert into employe(id,name,age,depart) \u001b[39;49m\n\u001b[0;32m      3\u001b[0m \u001b[38;5;124;43m            values(696,\u001b[39;49m\u001b[38;5;124;43m\"\u001b[39;49m\u001b[38;5;124;43mreddy\u001b[39;49m\u001b[38;5;124;43m\"\u001b[39;49m\u001b[38;5;124;43m,23,\u001b[39;49m\u001b[38;5;124;43m\"\u001b[39;49m\u001b[38;5;124;43mcse\u001b[39;49m\u001b[38;5;124;43m\"\u001b[39;49m\u001b[38;5;124;43m)\u001b[39;49m\n\u001b[0;32m      4\u001b[0m \u001b[38;5;124;43m            \u001b[39;49m\n\u001b[0;32m      5\u001b[0m \u001b[38;5;124;43m            \u001b[39;49m\n\u001b[0;32m      6\u001b[0m \u001b[38;5;124;43m            \u001b[39;49m\n\u001b[0;32m      7\u001b[0m \u001b[38;5;124;43m            \u001b[39;49m\u001b[38;5;124;43m'''\u001b[39;49m\u001b[43m)\u001b[49m\n\u001b[0;32m      9\u001b[0m conn\u001b[38;5;241m.\u001b[39mcommit()\n",
      "\u001b[1;31mIntegrityError\u001b[0m: UNIQUE constraint failed: employe.id"
     ]
    }
   ],
   "source": [
    "cur.execute('''\n",
    "            insert into employe(id,name,age,depart) \n",
    "            values(696,\"reddy\",23,\"cse\")\n",
    "            \n",
    "            \n",
    "            \n",
    "            ''')\n",
    "\n",
    "conn.commit()"
   ]
  },
  {
   "cell_type": "code",
   "execution_count": 16,
   "metadata": {},
   "outputs": [
    {
     "name": "stdout",
     "output_type": "stream",
     "text": [
      "(696, 'reddy', 23, 'cse')\n"
     ]
    }
   ],
   "source": [
    "cur.execute('''\n",
    "            \n",
    "            select * from employe\n",
    "            \n",
    "            \n",
    "            ''')\n",
    "row=cur.fetchall()\n",
    "for rows in row:\n",
    "    print(rows)\n",
    "conn.commit()"
   ]
  },
  {
   "cell_type": "code",
   "execution_count": 18,
   "metadata": {},
   "outputs": [],
   "source": [
    "cur.execute('''\n",
    "            insert into employe(id,name,age,depart) \n",
    "            values(694,\"reddy\",23,\"cse\")\n",
    "            \n",
    "            \n",
    "            \n",
    "            ''')\n",
    "cur.execute('''\n",
    "            insert into employe(id,name,age,depart) \n",
    "            values(737,\"kiran\",22,\"ece\")\n",
    "            \n",
    "            \n",
    "            \n",
    "            ''')\n",
    "\n",
    "conn.commit()"
   ]
  },
  {
   "cell_type": "code",
   "execution_count": 19,
   "metadata": {},
   "outputs": [
    {
     "name": "stdout",
     "output_type": "stream",
     "text": [
      "(696, 'reddy', 23, 'cse')\n",
      "(694, 'reddy', 23, 'cse')\n",
      "(737, 'kiran', 22, 'ece')\n"
     ]
    }
   ],
   "source": [
    "cur.execute('select * from employe')\n",
    "rows=cur.fetchall()\n",
    "\n",
    "for row in rows:\n",
    "    print(row)"
   ]
  },
  {
   "cell_type": "code",
   "execution_count": 20,
   "metadata": {},
   "outputs": [],
   "source": [
    "cur.execute('''\n",
    "            update employe\n",
    "            set age=34\n",
    "            where(id=694)\n",
    "            \n",
    "            \n",
    "            \n",
    "            \n",
    "            ''')\n",
    "conn.commit()"
   ]
  },
  {
   "cell_type": "code",
   "execution_count": 21,
   "metadata": {},
   "outputs": [
    {
     "name": "stdout",
     "output_type": "stream",
     "text": [
      "(696, 'reddy', 23, 'cse')\n",
      "(694, 'reddy', 34, 'cse')\n",
      "(737, 'kiran', 22, 'ece')\n"
     ]
    }
   ],
   "source": [
    "cur.execute('select * from employe')\n",
    "rows=cur.fetchall()\n",
    "\n",
    "for row in rows:\n",
    "    print(row)"
   ]
  },
  {
   "cell_type": "code",
   "execution_count": 22,
   "metadata": {},
   "outputs": [],
   "source": [
    "cur.execute('''\n",
    "            update employe\n",
    "            set name=\"hameed\"\n",
    "            where(id=694)\n",
    "            \n",
    "            \n",
    "            \n",
    "            \n",
    "            ''')\n",
    "conn.commit()"
   ]
  },
  {
   "cell_type": "code",
   "execution_count": 23,
   "metadata": {},
   "outputs": [
    {
     "name": "stdout",
     "output_type": "stream",
     "text": [
      "(696, 'reddy', 23, 'cse')\n",
      "(694, 'hameed', 34, 'cse')\n",
      "(737, 'kiran', 22, 'ece')\n"
     ]
    }
   ],
   "source": [
    "cur.execute('select * from employe')\n",
    "rows=cur.fetchall()\n",
    "\n",
    "for row in rows:\n",
    "    print(row)"
   ]
  },
  {
   "cell_type": "code",
   "execution_count": 26,
   "metadata": {},
   "outputs": [],
   "source": [
    "cur.execute('''\n",
    "          delete from employe\n",
    "          where(name=\"reddy\")  \n",
    "          \n",
    "          \n",
    "            \n",
    "            \n",
    "            \n",
    "            ''')\n",
    "\n",
    "conn.commit()"
   ]
  },
  {
   "cell_type": "code",
   "execution_count": 27,
   "metadata": {},
   "outputs": [
    {
     "name": "stdout",
     "output_type": "stream",
     "text": [
      "(694, 'hameed', 34, 'cse')\n",
      "(737, 'kiran', 22, 'ece')\n"
     ]
    }
   ],
   "source": [
    "cur.execute('select * from employe')\n",
    "rows=cur.fetchall()\n",
    "\n",
    "for row in rows:\n",
    "    print(row)"
   ]
  },
  {
   "cell_type": "code",
   "execution_count": 28,
   "metadata": {},
   "outputs": [],
   "source": [
    "conn=sqlite3.connect(\"sales.db\")"
   ]
  },
  {
   "cell_type": "code",
   "execution_count": 29,
   "metadata": {},
   "outputs": [],
   "source": [
    "cur=conn.cursor()"
   ]
  },
  {
   "cell_type": "code",
   "execution_count": 38,
   "metadata": {},
   "outputs": [],
   "source": [
    "cur.execute('''\n",
    "            \n",
    "            create table sales1(\n",
    "                id int primary key,\n",
    "                date varchar not null,\n",
    "                product varchar not null,\n",
    "                sale int ,\n",
    "                region varchar \n",
    "            )\n",
    "            \n",
    "            ''')\n",
    "\n",
    "conn.commit()"
   ]
  },
  {
   "cell_type": "code",
   "execution_count": 35,
   "metadata": {},
   "outputs": [],
   "source": [
    "cur.execute('''\n",
    "CREATE TABLE IF NOT EXISTS sales (\n",
    "    id INTEGER PRIMARY KEY,\n",
    "    date TEXT NOT NULL,\n",
    "    product TEXT NOT NULL,\n",
    "    sales INTEGER,\n",
    "    region TEXT\n",
    ")\n",
    "''')\n",
    "\n",
    "conn.commit()"
   ]
  },
  {
   "cell_type": "code",
   "execution_count": 39,
   "metadata": {},
   "outputs": [],
   "source": [
    "sales_data = [\n",
    "    ('2023-01-01', 'Product1', 100, 'North'),\n",
    "    ('2023-01-02', 'Product2', 200, 'South'),\n",
    "    ('2023-01-03', 'Product1', 150, 'East'),\n",
    "    ('2023-01-04', 'Product3', 250, 'West'),\n",
    "    ('2023-01-05', 'Product2', 300, 'North')\n",
    "]\n",
    "\n",
    "cur.executemany('''\n",
    "              insert into sales(date,product,sales,region)\n",
    "              values(?,?,?,?)\n",
    "                \n",
    "                \n",
    "                ''',sales_data)\n",
    "conn.commit()"
   ]
  },
  {
   "cell_type": "code",
   "execution_count": 40,
   "metadata": {},
   "outputs": [
    {
     "name": "stdout",
     "output_type": "stream",
     "text": [
      "(1, '2023-01-01', 'Product1', 100, 'North')\n",
      "(2, '2023-01-02', 'Product2', 200, 'South')\n",
      "(3, '2023-01-03', 'Product1', 150, 'East')\n",
      "(4, '2023-01-04', 'Product3', 250, 'West')\n",
      "(5, '2023-01-05', 'Product2', 300, 'North')\n"
     ]
    }
   ],
   "source": [
    "cur.execute('''\n",
    "            select * from sales\n",
    "            \n",
    "            \n",
    "            ''')\n",
    "\n",
    "rows=cur.fetchall()\n",
    "\n",
    "for row in rows:\n",
    "    print(row)"
   ]
  },
  {
   "cell_type": "code",
   "execution_count": 41,
   "metadata": {},
   "outputs": [],
   "source": [
    "conn.close()"
   ]
  },
  {
   "cell_type": "code",
   "execution_count": 43,
   "metadata": {},
   "outputs": [
    {
     "ename": "ProgrammingError",
     "evalue": "Cannot operate on a closed database.",
     "output_type": "error",
     "traceback": [
      "\u001b[1;31m---------------------------------------------------------------------------\u001b[0m",
      "\u001b[1;31mProgrammingError\u001b[0m                          Traceback (most recent call last)",
      "Cell \u001b[1;32mIn[43], line 1\u001b[0m\n\u001b[1;32m----> 1\u001b[0m \u001b[43mcur\u001b[49m\u001b[38;5;241;43m.\u001b[39;49m\u001b[43mexecute\u001b[49m\u001b[43m(\u001b[49m\u001b[38;5;124;43m'''\u001b[39;49m\n\u001b[0;32m      2\u001b[0m \u001b[38;5;124;43m            select * from employe\u001b[39;49m\n\u001b[0;32m      3\u001b[0m \u001b[38;5;124;43m            \u001b[39;49m\u001b[38;5;124;43m'''\u001b[39;49m\u001b[43m)\u001b[49m\n",
      "\u001b[1;31mProgrammingError\u001b[0m: Cannot operate on a closed database."
     ]
    }
   ],
   "source": [
    "cur.execute('''\n",
    "            select * from employe\n",
    "            ''')"
   ]
  },
  {
   "cell_type": "code",
   "execution_count": null,
   "metadata": {},
   "outputs": [],
   "source": []
  }
 ],
 "metadata": {
  "kernelspec": {
   "display_name": "myenv",
   "language": "python",
   "name": "python3"
  },
  "language_info": {
   "codemirror_mode": {
    "name": "ipython",
    "version": 3
   },
   "file_extension": ".py",
   "mimetype": "text/x-python",
   "name": "python",
   "nbconvert_exporter": "python",
   "pygments_lexer": "ipython3",
   "version": "3.12.7"
  }
 },
 "nbformat": 4,
 "nbformat_minor": 2
}
